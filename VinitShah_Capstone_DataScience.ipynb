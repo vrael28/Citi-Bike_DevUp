{
 "cells": [
  {
   "cell_type": "markdown",
   "metadata": {},
   "source": [
    "# Citibike Case Analysis: Vinit Shah, Analytics Consultant"
   ]
  },
  {
   "cell_type": "markdown",
   "metadata": {},
   "source": [
    "### Background, Context, and Objective\n",
    "**Client:** Mayor of New York City, Bill de Blasio<br />\n",
    "**Objective:** Help the mayor get a better understanding of citibike ridership by creating an operating report for 2017.\n",
    "\n",
    "**Ask:** <br />\n",
    "    1. Top 5 stations with the most starts (showing # of starts)\n",
    "    2. Trip duration by user type\n",
    "    3. Most popular trips based on start station and stop station)\n",
    "    4. Rider performance by Gender and Age based on avg trip distance (station to station), \n",
    "       median speed (trip duration / distance traveled)\n",
    "    5. What is the busiest bike in NYC in 2017? How many times was it used? How many minutes was it in use?\n",
    "    6. A model that can predict how long a trip will take given a starting point and destination. \n",
    "\n",
    "First, let's minimize the work and load in the data set. Aggregate all the months and save the data as a csv to not require this to be done in the future.\n",
    "\n",
    "The column names have spaces in them, would be great to remove them for working purposes. However, not necessary. If I was working on a team or a long term project, I would ocnfigure column names a little bit differently to make them easier to work with.\n",
    "    \n",
    "The dataset is massive, ~16mil rows. BigData tools would be helpful, however, most require you to pay or have an enterprise license or a limited trial. Additionally, the data is very dirty. Different files have different column names, need to account for this. Mayor de Blasio doesn't have a technical background. The graphs here are as simple yet informative as possible. I could've made more complicated plots, however, they would not be as informative for the mayor.\n",
    "\n",
    "- Lastly, my analysis tries best to follow the crisp-dm methodology outlined below. "
   ]
  },
  {
   "attachments": {
    "CRISP-DM-methodology.png": {
     "image/png": "[encoded data removed]"
    }
   },
   "cell_type": "markdown",
   "metadata": {},
   "source": [
    "![CRISP-DM-methodology.png](attachment:CRISP-DM-methodology.png)"
   ]
  },
  {
   "cell_type": "code",
   "execution_count": 2,
   "metadata": {
    "collapsed": true
   },
   "outputs": [],
   "source": [
    "###################### Load Libraries and Data ######################\n",
    "import numpy as np\n",
    "import matplotlib.pyplot as plt\n",
    "import pandas as pd\n",
    "from pandas import *\n",
    "import seaborn as sns\n",
    "from matplotlib import rcParams\n",
    "import datetime as dt"
   ]
  },
  {
   "cell_type": "markdown",
   "metadata": {},
   "source": [
    "### Part 1: Top 5 Stations \n",
    "Let's check if there's any noise or cleanup which needs to be done before creating the chart. <br />\n",
    "1. Any missing values?<br />\n",
    "    - Mostly for Birth year and a few for User Type. We can ignore these for now and deal with them later.<br />\n",
    "2. Let's get the data in the right format<br />\n",
    "    - Trip Duration - Int<br />\n",
    "    - Start Time - DateTime<br />\n",
    "    - Stop Time - DateTime<br />\n",
    "    - Start Station ID - Categorical<br />\n",
    "    - Start Station Name - Categorical<br />\n",
    "    - User Type - Categorical<br />\n",
    "    - Birth Year - Ordinal<br />\n",
    "    - Gender - Categorical<br />\n",
    "3. Deal with trips which lasted less than 1.5 minute (90 seconds). If so, in the ideal world, we should not include this start, we may double count. If a bike is broken, a user will dock it again within a minute or two and pick-up another one.<br />\n",
    "   - Would be ideal to not include any starts where a tip lasted less than 90 seconds *and* the start station = end station.<br /> \n",
    "4. Anomalies such as theft and broken docks shouldn't matter for this metric and can be dealth with later."
   ]
  },
  {
   "cell_type": "markdown",
   "metadata": {},
   "source": [
    "*The following code was used to load the Citibike data in one go. If you plan to use the same code, please make sure the only csv files in the working directory are the relevant citibike data files.*"
   ]
  },
  {
   "cell_type": "code",
   "execution_count": null,
   "metadata": {
    "collapsed": true
   },
   "outputs": [],
   "source": [
    "#Set working directory to correct folder, or add path\n",
    "#Minimize work to load data. Can be done in other ways as well. There may be a more effecient way to do this. Haven't explored this too deeply. \n",
    "\n",
    "\n",
    "#****************************************************************************************\n",
    "#files = !ls *.csv #For Ipython only\n",
    "#df = concat([read_csv(f, header=None,low_memory=False) for f in files], keys=files) #header = None because some files don't have a header\n",
    "#****************************************************************************************\n",
    "\n",
    "#Let's see what we're working with\n",
    "#df.describe()\n",
    "#df.describe(include = all)\n",
    "#df.dtypes\n",
    "##Scrappy way to get column names in the header.\n",
    "#df2 = pd.read_csv('jan.csv')\n",
    "#df.columns = df2.columns\n",
    "#del[df2]\n",
    "#df = df[df[1] != 'starttime']#Could've just dropped duplicate rows here as well\n",
    "#df = df[df[1] != 'Start Time']\n",
    "#Saved csv to avoid running code above multiple times in the future\n",
    "#df.to_csv('2017.csv')"
   ]
  },
  {
   "cell_type": "code",
   "execution_count": 3,
   "metadata": {},
   "outputs": [
    {
     "data": {
      "text/html": [
       "<div>\n",
       "<style>\n",
       "    .dataframe thead tr:only-child th {\n",
       "        text-align: right;\n",
       "    }\n",
       "\n",
       "    .dataframe thead th {\n",
       "        text-align: left;\n",
       "    }\n",
       "\n",
       "    .dataframe tbody tr th {\n",
       "        vertical-align: top;\n",
       "    }\n",
       "</style>\n",
       "<table border=\"1\" class=\"dataframe\">\n",
       "  <thead>\n",
       "    <tr style=\"text-align: right;\">\n",
       "      <th></th>\n",
       "      <th>Trip Duration</th>\n",
       "      <th>Start Time</th>\n",
       "      <th>Stop Time</th>\n",
       "      <th>Start Station ID</th>\n",
       "      <th>Start Station Name</th>\n",
       "      <th>Start Station Latitude</th>\n",
       "      <th>Start Station Longitude</th>\n",
       "      <th>End Station ID</th>\n",
       "      <th>End Station Name</th>\n",
       "      <th>End Station Latitude</th>\n",
       "      <th>End Station Longitude</th>\n",
       "      <th>Bike ID</th>\n",
       "      <th>User Type</th>\n",
       "      <th>Birth Year</th>\n",
       "      <th>Gender</th>\n",
       "    </tr>\n",
       "  </thead>\n",
       "  <tbody>\n",
       "    <tr>\n",
       "      <th>0</th>\n",
       "      <td>195</td>\n",
       "      <td>2017-04-01 00:00:58</td>\n",
       "      <td>2017-04-01 00:04:14</td>\n",
       "      <td>217</td>\n",
       "      <td>Old Fulton St</td>\n",
       "      <td>40.702772</td>\n",
       "      <td>-73.993836</td>\n",
       "      <td>430</td>\n",
       "      <td>York St &amp; Jay St</td>\n",
       "      <td>40.701485</td>\n",
       "      <td>-73.986569</td>\n",
       "      <td>25454</td>\n",
       "      <td>Subscriber</td>\n",
       "      <td>1966.0</td>\n",
       "      <td>1</td>\n",
       "    </tr>\n",
       "    <tr>\n",
       "      <th>1</th>\n",
       "      <td>585</td>\n",
       "      <td>2017-04-01 00:01:54</td>\n",
       "      <td>2017-04-01 00:11:40</td>\n",
       "      <td>490</td>\n",
       "      <td>8 Ave &amp; W 33 St</td>\n",
       "      <td>40.751551</td>\n",
       "      <td>-73.993934</td>\n",
       "      <td>3158</td>\n",
       "      <td>W 63 St &amp; Broadway</td>\n",
       "      <td>40.771639</td>\n",
       "      <td>-73.982614</td>\n",
       "      <td>25930</td>\n",
       "      <td>Subscriber</td>\n",
       "      <td>1995.0</td>\n",
       "      <td>1</td>\n",
       "    </tr>\n",
       "    <tr>\n",
       "      <th>2</th>\n",
       "      <td>665</td>\n",
       "      <td>2017-04-01 00:01:56</td>\n",
       "      <td>2017-04-01 00:13:01</td>\n",
       "      <td>504</td>\n",
       "      <td>1 Ave &amp; E 16 St</td>\n",
       "      <td>40.732219</td>\n",
       "      <td>-73.981656</td>\n",
       "      <td>412</td>\n",
       "      <td>Forsyth St &amp; Canal St</td>\n",
       "      <td>40.715816</td>\n",
       "      <td>-73.994224</td>\n",
       "      <td>27110</td>\n",
       "      <td>Subscriber</td>\n",
       "      <td>1987.0</td>\n",
       "      <td>1</td>\n",
       "    </tr>\n",
       "    <tr>\n",
       "      <th>3</th>\n",
       "      <td>262</td>\n",
       "      <td>2017-04-01 00:02:24</td>\n",
       "      <td>2017-04-01 00:06:47</td>\n",
       "      <td>445</td>\n",
       "      <td>E 10 St &amp; Avenue A</td>\n",
       "      <td>40.727408</td>\n",
       "      <td>-73.981420</td>\n",
       "      <td>411</td>\n",
       "      <td>E 6 St &amp; Avenue D</td>\n",
       "      <td>40.722281</td>\n",
       "      <td>-73.976687</td>\n",
       "      <td>28392</td>\n",
       "      <td>Subscriber</td>\n",
       "      <td>1961.0</td>\n",
       "      <td>1</td>\n",
       "    </tr>\n",
       "    <tr>\n",
       "      <th>4</th>\n",
       "      <td>134</td>\n",
       "      <td>2017-04-01 00:02:36</td>\n",
       "      <td>2017-04-01 00:04:50</td>\n",
       "      <td>3423</td>\n",
       "      <td>West Drive &amp; Prospect Park West</td>\n",
       "      <td>40.661063</td>\n",
       "      <td>-73.979453</td>\n",
       "      <td>3300</td>\n",
       "      <td>Prospect Park West &amp; 8 St</td>\n",
       "      <td>40.665147</td>\n",
       "      <td>-73.976376</td>\n",
       "      <td>19316</td>\n",
       "      <td>Subscriber</td>\n",
       "      <td>1967.0</td>\n",
       "      <td>2</td>\n",
       "    </tr>\n",
       "  </tbody>\n",
       "</table>\n",
       "</div>"
      ],
      "text/plain": [
       "   Trip Duration           Start Time            Stop Time  Start Station ID  \\\n",
       "0            195  2017-04-01 00:00:58  2017-04-01 00:04:14               217   \n",
       "1            585  2017-04-01 00:01:54  2017-04-01 00:11:40               490   \n",
       "2            665  2017-04-01 00:01:56  2017-04-01 00:13:01               504   \n",
       "3            262  2017-04-01 00:02:24  2017-04-01 00:06:47               445   \n",
       "4            134  2017-04-01 00:02:36  2017-04-01 00:04:50              3423   \n",
       "\n",
       "                Start Station Name  Start Station Latitude  \\\n",
       "0                    Old Fulton St               40.702772   \n",
       "1                  8 Ave & W 33 St               40.751551   \n",
       "2                  1 Ave & E 16 St               40.732219   \n",
       "3               E 10 St & Avenue A               40.727408   \n",
       "4  West Drive & Prospect Park West               40.661063   \n",
       "\n",
       "   Start Station Longitude  End Station ID           End Station Name  \\\n",
       "0               -73.993836             430           York St & Jay St   \n",
       "1               -73.993934            3158         W 63 St & Broadway   \n",
       "2               -73.981656             412      Forsyth St & Canal St   \n",
       "3               -73.981420             411          E 6 St & Avenue D   \n",
       "4               -73.979453            3300  Prospect Park West & 8 St   \n",
       "\n",
       "   End Station Latitude  End Station Longitude  Bike ID   User Type  \\\n",
       "0             40.701485             -73.986569    25454  Subscriber   \n",
       "1             40.771639             -73.982614    25930  Subscriber   \n",
       "2             40.715816             -73.994224    27110  Subscriber   \n",
       "3             40.722281             -73.976687    28392  Subscriber   \n",
       "4             40.665147             -73.976376    19316  Subscriber   \n",
       "\n",
       "   Birth Year  Gender  \n",
       "0      1966.0       1  \n",
       "1      1995.0       1  \n",
       "2      1987.0       1  \n",
       "3      1961.0       1  \n",
       "4      1967.0       2  "
      ]
     },
     "execution_count": 3,
     "metadata": {},
     "output_type": "execute_result"
    }
   ],
   "source": [
    "###################### Code above only needs to be run once ######################\n",
    "#Load aggregated dataset to minimize time needed to run the code\n",
    "df = read_csv('2017.csv')\n",
    "df = df.drop(['Unnamed: 0', 'Unnamed: 1'], axis = 1)\n",
    "df_copy = df\n",
    "df.head()"
   ]
  },
  {
   "cell_type": "code",
   "execution_count": 4,
   "metadata": {},
   "outputs": [
    {
     "data": {
      "text/html": [
       "<div>\n",
       "<style>\n",
       "    .dataframe thead tr:only-child th {\n",
       "        text-align: right;\n",
       "    }\n",
       "\n",
       "    .dataframe thead th {\n",
       "        text-align: left;\n",
       "    }\n",
       "\n",
       "    .dataframe tbody tr th {\n",
       "        vertical-align: top;\n",
       "    }\n",
       "</style>\n",
       "<table border=\"1\" class=\"dataframe\">\n",
       "  <thead>\n",
       "    <tr style=\"text-align: right;\">\n",
       "      <th></th>\n",
       "      <th>Total</th>\n",
       "      <th>Percent</th>\n",
       "    </tr>\n",
       "  </thead>\n",
       "  <tbody>\n",
       "    <tr>\n",
       "      <th>Birth Year</th>\n",
       "      <td>1630335</td>\n",
       "      <td>9.962537</td>\n",
       "    </tr>\n",
       "    <tr>\n",
       "      <th>User Type</th>\n",
       "      <td>15909</td>\n",
       "      <td>0.097216</td>\n",
       "    </tr>\n",
       "    <tr>\n",
       "      <th>Gender</th>\n",
       "      <td>0</td>\n",
       "      <td>0.000000</td>\n",
       "    </tr>\n",
       "    <tr>\n",
       "      <th>Bike ID</th>\n",
       "      <td>0</td>\n",
       "      <td>0.000000</td>\n",
       "    </tr>\n",
       "    <tr>\n",
       "      <th>End Station Longitude</th>\n",
       "      <td>0</td>\n",
       "      <td>0.000000</td>\n",
       "    </tr>\n",
       "    <tr>\n",
       "      <th>End Station Latitude</th>\n",
       "      <td>0</td>\n",
       "      <td>0.000000</td>\n",
       "    </tr>\n",
       "    <tr>\n",
       "      <th>End Station Name</th>\n",
       "      <td>0</td>\n",
       "      <td>0.000000</td>\n",
       "    </tr>\n",
       "    <tr>\n",
       "      <th>End Station ID</th>\n",
       "      <td>0</td>\n",
       "      <td>0.000000</td>\n",
       "    </tr>\n",
       "    <tr>\n",
       "      <th>Start Station Longitude</th>\n",
       "      <td>0</td>\n",
       "      <td>0.000000</td>\n",
       "    </tr>\n",
       "    <tr>\n",
       "      <th>Start Station Latitude</th>\n",
       "      <td>0</td>\n",
       "      <td>0.000000</td>\n",
       "    </tr>\n",
       "    <tr>\n",
       "      <th>Start Station Name</th>\n",
       "      <td>0</td>\n",
       "      <td>0.000000</td>\n",
       "    </tr>\n",
       "    <tr>\n",
       "      <th>Start Station ID</th>\n",
       "      <td>0</td>\n",
       "      <td>0.000000</td>\n",
       "    </tr>\n",
       "    <tr>\n",
       "      <th>Stop Time</th>\n",
       "      <td>0</td>\n",
       "      <td>0.000000</td>\n",
       "    </tr>\n",
       "    <tr>\n",
       "      <th>Start Time</th>\n",
       "      <td>0</td>\n",
       "      <td>0.000000</td>\n",
       "    </tr>\n",
       "    <tr>\n",
       "      <th>Trip Duration</th>\n",
       "      <td>0</td>\n",
       "      <td>0.000000</td>\n",
       "    </tr>\n",
       "  </tbody>\n",
       "</table>\n",
       "</div>"
      ],
      "text/plain": [
       "                           Total   Percent\n",
       "Birth Year               1630335  9.962537\n",
       "User Type                  15909  0.097216\n",
       "Gender                         0  0.000000\n",
       "Bike ID                        0  0.000000\n",
       "End Station Longitude          0  0.000000\n",
       "End Station Latitude           0  0.000000\n",
       "End Station Name               0  0.000000\n",
       "End Station ID                 0  0.000000\n",
       "Start Station Longitude        0  0.000000\n",
       "Start Station Latitude         0  0.000000\n",
       "Start Station Name             0  0.000000\n",
       "Start Station ID               0  0.000000\n",
       "Stop Time                      0  0.000000\n",
       "Start Time                     0  0.000000\n",
       "Trip Duration                  0  0.000000"
      ]
     },
     "execution_count": 4,
     "metadata": {},
     "output_type": "execute_result"
    }
   ],
   "source": [
    "#Percentage of missing data.\n",
    "def missing_data(df):\n",
    "    total = df.isnull().sum().sort_values(ascending=False)\n",
    "    percent = (df.isnull().sum()/df.isnull().count()*100).sort_values(ascending=False)\n",
    "    missing_data = pd.concat([total, percent], axis=1, keys=['Total', 'Percent'])\n",
    "    return missing_data\n",
    "missing_data(df)"
   ]
  },
  {
   "cell_type": "code",
   "execution_count": 5,
   "metadata": {},
   "outputs": [
    {
     "data": {
      "text/html": [
       "<div>\n",
       "<style>\n",
       "    .dataframe thead tr:only-child th {\n",
       "        text-align: right;\n",
       "    }\n",
       "\n",
       "    .dataframe thead th {\n",
       "        text-align: left;\n",
       "    }\n",
       "\n",
       "    .dataframe tbody tr th {\n",
       "        vertical-align: top;\n",
       "    }\n",
       "</style>\n",
       "<table border=\"1\" class=\"dataframe\">\n",
       "  <thead>\n",
       "    <tr style=\"text-align: right;\">\n",
       "      <th></th>\n",
       "      <th>Trip Duration</th>\n",
       "      <th>Start Station ID</th>\n",
       "      <th>Start Station Latitude</th>\n",
       "      <th>Start Station Longitude</th>\n",
       "      <th>End Station ID</th>\n",
       "      <th>End Station Latitude</th>\n",
       "      <th>End Station Longitude</th>\n",
       "      <th>Bike ID</th>\n",
       "      <th>Birth Year</th>\n",
       "    </tr>\n",
       "  </thead>\n",
       "  <tbody>\n",
       "    <tr>\n",
       "      <th>count</th>\n",
       "      <td>16364657.00</td>\n",
       "      <td>16364657.00</td>\n",
       "      <td>16364657.00</td>\n",
       "      <td>16364657.00</td>\n",
       "      <td>16364657.00</td>\n",
       "      <td>16364657.00</td>\n",
       "      <td>16364657.00</td>\n",
       "      <td>16364657.00</td>\n",
       "      <td>14734322.00</td>\n",
       "    </tr>\n",
       "    <tr>\n",
       "      <th>mean</th>\n",
       "      <td>994.59</td>\n",
       "      <td>1357.13</td>\n",
       "      <td>40.74</td>\n",
       "      <td>-73.98</td>\n",
       "      <td>1349.14</td>\n",
       "      <td>40.74</td>\n",
       "      <td>-73.98</td>\n",
       "      <td>23754.63</td>\n",
       "      <td>1978.90</td>\n",
       "    </tr>\n",
       "    <tr>\n",
       "      <th>std</th>\n",
       "      <td>16178.92</td>\n",
       "      <td>1346.90</td>\n",
       "      <td>0.07</td>\n",
       "      <td>0.12</td>\n",
       "      <td>1344.69</td>\n",
       "      <td>0.05</td>\n",
       "      <td>0.08</td>\n",
       "      <td>5345.62</td>\n",
       "      <td>11.83</td>\n",
       "    </tr>\n",
       "    <tr>\n",
       "      <th>min</th>\n",
       "      <td>61.00</td>\n",
       "      <td>72.00</td>\n",
       "      <td>0.00</td>\n",
       "      <td>-74.03</td>\n",
       "      <td>72.00</td>\n",
       "      <td>0.00</td>\n",
       "      <td>-74.09</td>\n",
       "      <td>14529.00</td>\n",
       "      <td>1858.00</td>\n",
       "    </tr>\n",
       "    <tr>\n",
       "      <th>25%</th>\n",
       "      <td>372.00</td>\n",
       "      <td>361.00</td>\n",
       "      <td>40.72</td>\n",
       "      <td>-74.00</td>\n",
       "      <td>359.00</td>\n",
       "      <td>40.72</td>\n",
       "      <td>-74.00</td>\n",
       "      <td>18653.00</td>\n",
       "      <td>1971.00</td>\n",
       "    </tr>\n",
       "    <tr>\n",
       "      <th>50%</th>\n",
       "      <td>621.00</td>\n",
       "      <td>487.00</td>\n",
       "      <td>40.74</td>\n",
       "      <td>-73.99</td>\n",
       "      <td>486.00</td>\n",
       "      <td>40.74</td>\n",
       "      <td>-73.99</td>\n",
       "      <td>25464.00</td>\n",
       "      <td>1982.00</td>\n",
       "    </tr>\n",
       "    <tr>\n",
       "      <th>75%</th>\n",
       "      <td>1076.00</td>\n",
       "      <td>3142.00</td>\n",
       "      <td>40.76</td>\n",
       "      <td>-73.98</td>\n",
       "      <td>3141.00</td>\n",
       "      <td>40.76</td>\n",
       "      <td>-73.98</td>\n",
       "      <td>28114.00</td>\n",
       "      <td>1988.00</td>\n",
       "    </tr>\n",
       "    <tr>\n",
       "      <th>max</th>\n",
       "      <td>9735948.00</td>\n",
       "      <td>3654.00</td>\n",
       "      <td>45.51</td>\n",
       "      <td>0.00</td>\n",
       "      <td>3654.00</td>\n",
       "      <td>45.51</td>\n",
       "      <td>0.00</td>\n",
       "      <td>33481.00</td>\n",
       "      <td>2001.00</td>\n",
       "    </tr>\n",
       "  </tbody>\n",
       "</table>\n",
       "</div>"
      ],
      "text/plain": [
       "       Trip Duration  Start Station ID  Start Station Latitude  \\\n",
       "count    16364657.00       16364657.00             16364657.00   \n",
       "mean          994.59           1357.13                   40.74   \n",
       "std         16178.92           1346.90                    0.07   \n",
       "min            61.00             72.00                    0.00   \n",
       "25%           372.00            361.00                   40.72   \n",
       "50%           621.00            487.00                   40.74   \n",
       "75%          1076.00           3142.00                   40.76   \n",
       "max       9735948.00           3654.00                   45.51   \n",
       "\n",
       "       Start Station Longitude  End Station ID  End Station Latitude  \\\n",
       "count              16364657.00     16364657.00           16364657.00   \n",
       "mean                    -73.98         1349.14                 40.74   \n",
       "std                       0.12         1344.69                  0.05   \n",
       "min                     -74.03           72.00                  0.00   \n",
       "25%                     -74.00          359.00                 40.72   \n",
       "50%                     -73.99          486.00                 40.74   \n",
       "75%                     -73.98         3141.00                 40.76   \n",
       "max                       0.00         3654.00                 45.51   \n",
       "\n",
       "       End Station Longitude      Bike ID   Birth Year  \n",
       "count            16364657.00  16364657.00  14734322.00  \n",
       "mean                  -73.98     23754.63      1978.90  \n",
       "std                     0.08      5345.62        11.83  \n",
       "min                   -74.09     14529.00      1858.00  \n",
       "25%                   -74.00     18653.00      1971.00  \n",
       "50%                   -73.99     25464.00      1982.00  \n",
       "75%                   -73.98     28114.00      1988.00  \n",
       "max                     0.00     33481.00      2001.00  "
      ]
     },
     "execution_count": 5,
     "metadata": {},
     "output_type": "execute_result"
    }
   ],
   "source": [
    "#Ensure data is formatted correctly to avoid errors in the visuals\n",
    "df['Start Time'] = to_datetime(df['Start Time'])\n",
    "df['Stop Time'] = to_datetime(df['Stop Time'])\n",
    "df['Start Station Name'] = df['Start Station Name'].astype('category')\n",
    "df['End Station Name'] = df['End Station Name'].astype('category')\n",
    "df['User Type'] = df['User Type'].astype('category')\n",
    "df['Gender'] = df['Gender'].astype('category')\n",
    "round(df.describe(),2)"
   ]
  },
  {
   "cell_type": "code",
   "execution_count": 6,
   "metadata": {
    "collapsed": true
   },
   "outputs": [],
   "source": [
    "#Quasi Confirm Hypothesis in point #3\n",
    "df_bikenum = pd.DataFrame()\n",
    "df_bikenum['First Bike'] = df[df['Trip Duration'] < 90]['Start Station Name'] \n",
    "df_bikenum['Second Bike'] = df[df['Trip Duration'] < 90]['End Station Name']\n",
    "#df_bikenum.head()"
   ]
  },
  {
   "cell_type": "code",
   "execution_count": 7,
   "metadata": {
    "collapsed": true
   },
   "outputs": [],
   "source": [
    "#Clear up enviornment and drop double count\n",
    "del(df_bikenum)\n",
    "df = df.drop(df.index[(df['Trip Duration'] < 90) & \n",
    "                          (df['Start Station Latitude'] == df['End Station Latitude'])])"
   ]
  },
  {
   "cell_type": "code",
   "execution_count": 8,
   "metadata": {
    "collapsed": true
   },
   "outputs": [],
   "source": [
    "#Data for Top 5 Stations visual\n",
    "top5 = pd.DataFrame() \n",
    "top5['Station']=df['Start Station Name'].value_counts().head().index\n",
    "top5['Number of Starts']=df['Start Station Name'].value_counts().head().values\n",
    "top5['Station'] = top5['Station'].cat.remove_unused_categories()\n",
    "top5['Station'] = top5['Station'].astype('object')\n",
    "#top5.sort_values(by = 'Number of Starts', ascending = False)"
   ]
  },
  {
   "cell_type": "code",
   "execution_count": 9,
   "metadata": {},
   "outputs": [
    {
     "data": {
      "image/png": "[encoded data removed]",
      "text/plain": [
       "<matplotlib.figure.Figure at 0x1a34dd2048>"
      ]
     },
     "metadata": {},
     "output_type": "display_data"
    }
   ],
   "source": [
    "#Plot for Part 1: Top 5 Stations\n",
    "ax = sns.barplot('Station', 'Number of Starts', data = top5, palette=\"GnBu_d\")\n",
    "ax.set_title('Top 5 Citi Bike Stations by Number of Starts', fontsize = 12)\n",
    "rcParams['figure.figsize'] = 12,7\n",
    "ax.set_xticklabels(ax.get_xticklabels(),rotation=40, ha = 'right')\n",
    "for index, row in top5.iterrows():\n",
    "    ax.text(index,row['Number of Starts']-4000,row['Number of Starts'], \n",
    "            color='white', ha=\"center\", fontsize = 10)\n",
    "plt.show()"
   ]
  },
  {
   "cell_type": "markdown",
   "metadata": {},
   "source": [
    "### Part 2: Trip Duration by User Type\n",
    "This question is a bit unclear in terms of what to do with the anomalies, so I'll be making two graphs. One with anomalies, one without.<br />\n",
    "\n",
    "*There are NA values in the dataset for usertype as can be seen from missing_table. Since it's only 0.09% of the data, it's safe to remove.*<br />\n",
    "\n",
    "**According to Citi Bikes' website:** The first 45 minutes of each ride is included for Annual Members, and the first 30 minutes of each ride is included for Day Pass users. If you want to keep a bike out for longer, it’s only an extra $4 for each additional 15 minutes.<br />\n",
    "\n",
    "It's safe to assume, no one (or very few people) will be willing to rent a bike for more than 2 hours, especially a clunky citibike. If they did, it would cost them an additional $20 assuming they're annual subscribers. It would be more economical for them to buy a bike if they want that workout or use one of the tour bikes in central park if they want to tour and explore the city on a bike. There may be a better way to choose an optimal cutoff, however, time is key in a client project. Or just docing and getting another bike. The real cost of a bike is accrued ~24 hours. <br />\n",
    "\n",
    "**Anomalies**: Any trip which lasts longer than 2 hours (7,200 seconds) probably indicates a stolen bike, an anomaly, or incorrect docking of the bike. As an avid Citibike user, I know first hand that it doesn't make any sense for one to use a bike for more than one hour! However, I've added a one hour cushion just in case. No rider would plan to go over the maximum 45 minutes allowed. However, I wplan to reduce this to one hour in the future for modelling purposes. \n",
    "\n",
    "1. *First Half- with anomalies in dataset*\n",
    "    - The graph under ax2 is a bargraph of average trip duration for each user type. It's helpful, but would be better to see a boxplot and get an idea of the distribution and see mintues instead of seconds.<br />\n",
    "    - Second graph is a basic Boxplot based with anomalies included. As we can see, there is too much noise for this to be useful. It'll be better to look at this without anomalies.<br />\n",
    "\n",
    "2. *Second Half - without anomalies in dataset*\n",
    "    - Still not useful, let's add a column with minutes for trip Duration.<br />\n",
    "    - Boxplot with minutes is much more useful. There are still some outliers, however, it is informative. "
   ]
  },
  {
   "cell_type": "code",
   "execution_count": 10,
   "metadata": {
    "collapsed": true
   },
   "outputs": [],
   "source": [
    "del(top5)\n",
    "#Drop NA Usertype\n",
    "df = df.dropna(subset=['User Type']) "
   ]
  },
  {
   "cell_type": "code",
   "execution_count": 11,
   "metadata": {
    "collapsed": true
   },
   "outputs": [],
   "source": [
    "#Calculate trip duration\n",
    "TD_user = pd.DataFrame()\n",
    "TD_user['Avg. Trip Duration'] = round(df.groupby('User Type')['Trip Duration'].mean(),2)\n",
    "TD_user = TD_user.reset_index()\n",
    "TD_user['User Type'] = TD_user['User Type'].astype('object')"
   ]
  },
  {
   "cell_type": "code",
   "execution_count": 12,
   "metadata": {},
   "outputs": [
    {
     "data": {
      "image/png": "[encoded data removed]",
      "text/plain": [
       "<matplotlib.figure.Figure at 0x1a1751de48>"
      ]
     },
     "metadata": {},
     "output_type": "display_data"
    }
   ],
   "source": [
    "#Average trip Duration per User Type with Anomalies\n",
    "ax2 = sns.barplot('User Type', 'Avg. Trip Duration', data = TD_user,palette=\"GnBu_d\")\n",
    "ax2.set_title('Average Trip Duration by User Type (with anomalies)')\n",
    "#rcParams['figure.figsize'] = 12,7\n",
    "ax2.set_xticklabels(ax2.get_xticklabels(),rotation=40, ha = 'right')\n",
    "ax2.set_ylabel('Avg. Trip Duration (Seconds)')\n",
    "for index, row in TD_user.iterrows():\n",
    "    ax2.text(index,row['Avg. Trip Duration']-70,(str(row['Avg. Trip Duration'])+\"  Seconds\"), \n",
    "             color='white', ha=\"center\", fontsize = 10)\n",
    "plt.show()"
   ]
  },
  {
   "cell_type": "code",
   "execution_count": 13,
   "metadata": {},
   "outputs": [
    {
     "name": "stderr",
     "output_type": "stream",
     "text": [
      "/Users/vinit.shah1ibm.com/anaconda3/lib/python3.6/site-packages/numpy/core/fromnumeric.py:57: FutureWarning: reshape is deprecated and will raise in a subsequent release. Please use .values.reshape(...) instead\n",
      "  return getattr(obj, method)(*args, **kwds)\n"
     ]
    },
    {
     "data": {
      "image/png": "[encoded data removed]",
      "text/plain": [
       "<matplotlib.figure.Figure at 0x1a1751d2b0>"
      ]
     },
     "metadata": {},
     "output_type": "display_data"
    }
   ],
   "source": [
    "#Boxplots are more informative to visualize breakdown of data\n",
    "del(TD_user)\n",
    "df.boxplot('Trip Duration', by = 'User Type')\n",
    "plt.show()"
   ]
  },
  {
   "cell_type": "code",
   "execution_count": 14,
   "metadata": {
    "collapsed": true
   },
   "outputs": [],
   "source": [
    "#Remove anomalies based on definition above\n",
    "df = df.drop(df.index[(df['Trip Duration'] > 7200)])"
   ]
  },
  {
   "cell_type": "code",
   "execution_count": 15,
   "metadata": {},
   "outputs": [
    {
     "name": "stderr",
     "output_type": "stream",
     "text": [
      "/Users/vinit.shah1ibm.com/anaconda3/lib/python3.6/site-packages/numpy/core/fromnumeric.py:57: FutureWarning: reshape is deprecated and will raise in a subsequent release. Please use .values.reshape(...) instead\n",
      "  return getattr(obj, method)(*args, **kwds)\n"
     ]
    },
    {
     "data": {
      "image/png": "[encoded data removed]",
      "text/plain": [
       "<matplotlib.figure.Figure at 0x113f052e8>"
      ]
     },
     "metadata": {},
     "output_type": "display_data"
    },
    {
     "data": {
      "image/png": "[encoded data removed]",
      "text/plain": [
       "<matplotlib.figure.Figure at 0x10f5f0c88>"
      ]
     },
     "metadata": {},
     "output_type": "display_data"
    }
   ],
   "source": [
    "#Boxplots are more informative to visualize breakdown of data\n",
    "df.boxplot('Trip Duration', by = 'User Type')\n",
    "plt.show()\n",
    "#Boxplot without outliers\n",
    "df.boxplot('Trip Duration', by = 'User Type',showfliers=False)\n",
    "plt.show()"
   ]
  },
  {
   "cell_type": "code",
   "execution_count": 16,
   "metadata": {
    "collapsed": true
   },
   "outputs": [],
   "source": [
    "#Add Minutes column for Trip Duration\n",
    "df['Minutes'] = df['Trip Duration']/60\n",
    "#For Visual purposes, rounded\n",
    "df['Minutes'] = round(df['Minutes'])\n",
    "df['Minutes'] = df['Minutes'].astype(int)"
   ]
  },
  {
   "cell_type": "code",
   "execution_count": 17,
   "metadata": {},
   "outputs": [
    {
     "name": "stderr",
     "output_type": "stream",
     "text": [
      "/Users/vinit.shah1ibm.com/anaconda3/lib/python3.6/site-packages/numpy/core/fromnumeric.py:57: FutureWarning: reshape is deprecated and will raise in a subsequent release. Please use .values.reshape(...) instead\n",
      "  return getattr(obj, method)(*args, **kwds)\n"
     ]
    },
    {
     "data": {
      "image/png": "[encoded data removed]",
      "text/plain": [
       "<matplotlib.figure.Figure at 0x1a1767a3c8>"
      ]
     },
     "metadata": {},
     "output_type": "display_data"
    },
    {
     "data": {
      "image/png": "[encoded data removed]",
      "text/plain": [
       "<matplotlib.figure.Figure at 0x113dfe080>"
      ]
     },
     "metadata": {},
     "output_type": "display_data"
    }
   ],
   "source": [
    "#Final Boxplot with some outliers. Could turn of outliers with showfliers = False\n",
    "df.boxplot('Minutes', by = 'User Type')\n",
    "plt.show()\n",
    "df.boxplot('Minutes', by = 'User Type', showfliers = False)\n",
    "plt.show()"
   ]
  },
  {
   "cell_type": "code",
   "execution_count": 18,
   "metadata": {
    "collapsed": true
   },
   "outputs": [],
   "source": [
    "TD_user2 = pd.DataFrame()\n",
    "TD_user2['Avg. Trip Duration'] = round(df.groupby('User Type')['Minutes'].mean(),1)\n",
    "TD_user2 = TD_user2.reset_index()\n",
    "TD_user2['User Type'] = TD_user2['User Type'].astype('object')"
   ]
  },
  {
   "cell_type": "code",
   "execution_count": 19,
   "metadata": {},
   "outputs": [
    {
     "data": {
      "image/png": "[encoded data removed]",
      "text/plain": [
       "<matplotlib.figure.Figure at 0x113df1160>"
      ]
     },
     "metadata": {},
     "output_type": "display_data"
    }
   ],
   "source": [
    "#Average Trip Duration Based on Minutes\n",
    "ax3 = sns.barplot('User Type', 'Avg. Trip Duration', data = TD_user2,palette=\"GnBu_d\")\n",
    "ax3.set_title('Average Trip Duration by User Type')\n",
    "#rcParams['figure.figsize'] = 12,10\n",
    "ax3.set_xticklabels(ax3.get_xticklabels(),rotation=40, ha = 'right')\n",
    "for index, row in TD_user2.iterrows():\n",
    "    ax3.text(row.name,row['Avg. Trip Duration']-1,(str(row['Avg. Trip Duration'])+\"  Minutes\"), \n",
    "             color='white', ha=\"center\", fontsize = 10)\n",
    "plt.show()"
   ]
  },
  {
   "cell_type": "code",
   "execution_count": 20,
   "metadata": {
    "collapsed": true
   },
   "outputs": [],
   "source": [
    "del(TD_user2)\n",
    "#Undo rounding for modelling purposes\n",
    "df['Minutes'] = df['Trip Duration']/60"
   ]
  },
  {
   "cell_type": "markdown",
   "metadata": {},
   "source": [
    "### Part 3: Most Popular Trip\n",
    "To get most popular trips, the most convenient way to do this is by using the groupby function in pandas. It's analogous to a Pivot table. <br />\n",
    "\n",
    "The groupby function makes it extremely easy and convenient to identify the most popular trips. Visuals and transformations can be found below.<br />"
   ]
  },
  {
   "cell_type": "code",
   "execution_count": 21,
   "metadata": {
    "collapsed": true
   },
   "outputs": [],
   "source": [
    "#Identify the 10 most popular trips\n",
    "trips_df = pd.DataFrame()\n",
    "trips_df = df.groupby(['Start Station Name','End Station Name']).size().reset_index(name = 'Number of Trips')\n",
    "trips_df = trips_df.sort_values('Number of Trips', ascending = False)\n",
    "trips_df[\"Start Station Name\"] = trips_df[\"Start Station Name\"].astype(str)\n",
    "trips_df[\"End Station Name\"] = trips_df[\"End Station Name\"].astype(str)\n",
    "trips_df[\"Trip\"] = trips_df[\"Start Station Name\"] + \" to \" + trips_df[\"End Station Name\"]\n",
    "trips_df = trips_df[:10]\n",
    "trips_df = trips_df.drop(['Start Station Name', \"End Station Name\"], axis = 1)\n",
    "trips_df = trips_df.reset_index()\n",
    "#trips_df.head()"
   ]
  },
  {
   "cell_type": "code",
   "execution_count": 22,
   "metadata": {},
   "outputs": [
    {
     "data": {
      "image/png": "[encoded data removed]",
      "text/plain": [
       "<matplotlib.figure.Figure at 0x10f5c1710>"
      ]
     },
     "metadata": {},
     "output_type": "display_data"
    }
   ],
   "source": [
    "ax4 = sns.barplot('Number of Trips','Trip', data = trips_df,palette=\"GnBu_d\")\n",
    "ax4.set_title('Most Popular Trips', fontsize = 20)\n",
    "ax4.set_ylabel(\"Trip\",fontsize=16)\n",
    "ax4.set_xlabel(\"Number of Trips\",fontsize=16)\n",
    "for index, row in trips_df.iterrows():\n",
    "    ax4.text(row['Number of Trips']-220,index,row['Number of Trips'], \n",
    "             color='white', ha=\"center\",fontsize = 10)\n",
    "plt.show()"
   ]
  },
  {
   "cell_type": "markdown",
   "metadata": {},
   "source": [
    "### Part 4: Rider Performance by Gender and Age\n",
    "\n",
    "**Ask:** Rider performance by Gender and Age based on avg trip distance (station to station), median speed (trip duration/distance traveled)<br />\n",
    "\n",
    "Let's make sure the data we're working with here is clean.<br />\n",
    "\n",
    "1. Missing Gender and Birth Year values - Check missing_table above\n",
    "    - No for Gender. Yes for Birth Year\n",
    "    - ~10% Missing Birth year. Not a big chunk of data. Can either impute missing values or drop it. Since it's less                                         than 10% of the data, it's safe to assume the rest of the 90% is a representative sample of data and we can replace the birth year with the median, based on gender and Start Station ID. I chose this method because most people the same age live in similar neighborhoods (i.e: young people in east village, older people in Upper West Side, etc.). This will be done after anomalies are removed and speed is calculated.\n",
    "2. Are there anomalies?\n",
    "    - For Birth Year, there are some people born prior to 1956. I can believe some 60 year olds can ride a bike and that's a stretch, however, anyone \"born\" prior to that riding a citibike is an anomaly and false data. There could be a few senior citizens riding a bike, but probably not likely.\n",
    "    - My approach is to identify the age 2 standard deviations lower than the mean. After calculating this number, mean-2stdev, I removed the tail end of the data, birth year prior to 1956.\n",
    "3. Caulculate an Age column to make visuals easier to interpret.\n",
    "4. Calculate trip distance (Miles)\n",
    "    - No reliable way to calculate bike route since we can't know what route a rider took without GPS data from each bike. \n",
    "    - Could use Google maps and use lat,long coordinates to find bike route distance. However, this would require more than the daily limit on API calls. Use the geopy.distance packge which uses Vincenty distance uses more accurate ellipsoidal models. This is more accurate than Haversine formula, but doesn't matter much for our purposes.\n",
    "5. Caulculate Speed (min/mile) and (mile/hr)\n",
    "    - (min/mile): Can be used like sprint time (how fast does this person run)\n",
    "    - (mile/hr): Conventional approach. Miles/hour is an easy to understand unit of measure and one most people are used to seeing. So the visual will be created based on this understanding.\n",
    "6. Dealing with \"circular\" trips\n",
    "    - Circular trips are trips which start and end at the same station. The distance for these trips will come out to 0, however, that is not the case. These points will skew the data and visuals. Will be removing them to account for this issue. \n",
    "    - For the model, this data is also irrelevant. Because if someone is going on a circular trip, the only person who knows how long the trip is going to take is therider themself, assuming they know that. So it's safe to drop this data for the model. <br />\n",
    "7. Rename Gender Values in Legend from 0,1,2 to Unknown, Male, Female, respectively. \n",
    "    - The rows where Gender is unknown throws the visual off. There are a few ways to handle this: \n",
    "      - Remove the missing data. This would not result in a significant loss of information since only 58073 rows have gender as unknown.\n",
    "       - We can impute missing values, however given the proportion of unknowns the information gain would be negligible.\n",
    "       - Based on the reasons above, I've decided to remove data with unknown gender. These rows should not have a  significant imact on the predictive model later on. However, I will confirm this.\n",
    "8. Determine Gender and Age performance based on Average Trip distance<br />\n",
    "    - Similar to graphs for speed. Pretty straightforward."
   ]
  },
  {
   "cell_type": "code",
   "execution_count": 23,
   "metadata": {
    "collapsed": true
   },
   "outputs": [],
   "source": [
    "del(trips_df)\n",
    "#Drop the tail end of birth years 2 standard deviations below the mean\n",
    "#df['Birth Year'].mean()-(2*df['Birth Year'].std())\n",
    "df = df.drop(df.index[(df['Birth Year'] < 1956)])"
   ]
  },
  {
   "cell_type": "code",
   "execution_count": 24,
   "metadata": {
    "collapsed": true
   },
   "outputs": [],
   "source": [
    "#Combine coordinates to calculate distance based on Vincenty\n",
    "df['Start Coordinates'] = list(zip(df['Start Station Latitude'], df['Start Station Longitude']))\n",
    "df['End Coordinates'] = list(zip(df['End Station Latitude'], df['End Station Longitude']))"
   ]
  },
  {
   "cell_type": "code",
   "execution_count": 25,
   "metadata": {
    "collapsed": true
   },
   "outputs": [],
   "source": [
    "#In the future, for a dataset of this size, I would consider using the Haversine formula to calculate distance \n",
    "#if it's faster.\n",
    "'''dist = []\n",
    "for i in range(len(df)):\n",
    "    dist.append(geopy.distance.vincenty(df.iloc[i]['Start Coordinates'],df.iloc[i]['End Coordinates']).miles)\n",
    "    if (i%1000000==0):\n",
    "        print(i)\n",
    "'''\n",
    "#Code above takes a long time to run, please use Distance.csv file instead\n",
    "dist = pd.read_csv('Distance.csv', header = None)\n",
    "dist = dist.drop([0], axis = 1)"
   ]
  },
  {
   "cell_type": "code",
   "execution_count": 26,
   "metadata": {
    "collapsed": true
   },
   "outputs": [],
   "source": [
    "#Reset Index to avoid issues in future calculations\n",
    "df = df.reset_index()\n",
    "df = df.drop('index',axis =1)"
   ]
  },
  {
   "cell_type": "code",
   "execution_count": 27,
   "metadata": {
    "collapsed": true
   },
   "outputs": [],
   "source": [
    "df['Distance'] = dist"
   ]
  },
  {
   "cell_type": "code",
   "execution_count": 28,
   "metadata": {
    "collapsed": true
   },
   "outputs": [],
   "source": [
    "del(dist)\n",
    "#Replace missing birth year by median based on speed and gender\n",
    "df['Birth Year'] = df.groupby(['Gender','Start Station ID'])['Birth Year'].transform(lambda x: x.fillna(x.median()))"
   ]
  },
  {
   "cell_type": "code",
   "execution_count": 29,
   "metadata": {
    "collapsed": true
   },
   "outputs": [],
   "source": [
    "#Still have a few nulls, but it's only 2342 entries now. Comfortable dropping these.\n",
    "df = df.dropna(subset=['Birth Year'])"
   ]
  },
  {
   "cell_type": "code",
   "execution_count": 30,
   "metadata": {
    "collapsed": true
   },
   "outputs": [],
   "source": [
    "#Calculate age and drop circular/roundtrips\n",
    "df['Age'] = 2018 - df['Birth Year']\n",
    "df['Age'] = df['Age'].astype(int)"
   ]
  },
  {
   "cell_type": "code",
   "execution_count": 31,
   "metadata": {
    "collapsed": true
   },
   "outputs": [],
   "source": [
    "df = df.drop(df.index[(df['Distance'] == 0)])"
   ]
  },
  {
   "cell_type": "code",
   "execution_count": 32,
   "metadata": {
    "collapsed": true
   },
   "outputs": [],
   "source": [
    "#1\n",
    "#df[df['Trip Duration']<90]\n",
    "#2. Followed the same reasoning as behind Birth Year. People in similar locations tend to also work in a similar industry or location\n",
    "df['Distance'] = df.groupby(['Gender','Start Station ID'])['Distance'].transform(lambda x: x.fillna(x.median()))"
   ]
  },
  {
   "cell_type": "code",
   "execution_count": 33,
   "metadata": {
    "collapsed": true
   },
   "outputs": [],
   "source": [
    "df['min_mile'] = round(df['Minutes']/df['Distance'], 2)\n",
    "df['mile_hour'] = round(df['Distance']/(df['Minutes']/60),2)"
   ]
  },
  {
   "cell_type": "code",
   "execution_count": 34,
   "metadata": {},
   "outputs": [
    {
     "data": {
      "text/html": [
       "<div>\n",
       "<style>\n",
       "    .dataframe thead tr:only-child th {\n",
       "        text-align: right;\n",
       "    }\n",
       "\n",
       "    .dataframe thead th {\n",
       "        text-align: left;\n",
       "    }\n",
       "\n",
       "    .dataframe tbody tr th {\n",
       "        vertical-align: top;\n",
       "    }\n",
       "</style>\n",
       "<table border=\"1\" class=\"dataframe\">\n",
       "  <thead>\n",
       "    <tr style=\"text-align: right;\">\n",
       "      <th></th>\n",
       "      <th>Trip Duration</th>\n",
       "      <th>Start Station ID</th>\n",
       "      <th>Start Station Latitude</th>\n",
       "      <th>Start Station Longitude</th>\n",
       "      <th>End Station ID</th>\n",
       "      <th>End Station Latitude</th>\n",
       "      <th>End Station Longitude</th>\n",
       "      <th>Bike ID</th>\n",
       "      <th>Birth Year</th>\n",
       "      <th>Minutes</th>\n",
       "      <th>Distance</th>\n",
       "      <th>Age</th>\n",
       "      <th>min_mile</th>\n",
       "      <th>mile_hour</th>\n",
       "    </tr>\n",
       "  </thead>\n",
       "  <tbody>\n",
       "    <tr>\n",
       "      <th>count</th>\n",
       "      <td>15432349.00</td>\n",
       "      <td>15432349.00</td>\n",
       "      <td>15432349.00</td>\n",
       "      <td>15432349.00</td>\n",
       "      <td>15432349.00</td>\n",
       "      <td>15432349.00</td>\n",
       "      <td>15432349.00</td>\n",
       "      <td>15432349.00</td>\n",
       "      <td>15432349.00</td>\n",
       "      <td>15432349.00</td>\n",
       "      <td>15432349.00</td>\n",
       "      <td>15432349.00</td>\n",
       "      <td>15432349.00</td>\n",
       "      <td>15432349.00</td>\n",
       "    </tr>\n",
       "    <tr>\n",
       "      <th>mean</th>\n",
       "      <td>802.73</td>\n",
       "      <td>1351.79</td>\n",
       "      <td>40.74</td>\n",
       "      <td>-73.98</td>\n",
       "      <td>1343.92</td>\n",
       "      <td>40.74</td>\n",
       "      <td>-73.98</td>\n",
       "      <td>23770.68</td>\n",
       "      <td>1980.18</td>\n",
       "      <td>13.38</td>\n",
       "      <td>1.17</td>\n",
       "      <td>37.82</td>\n",
       "      <td>13.85</td>\n",
       "      <td>5.89</td>\n",
       "    </tr>\n",
       "    <tr>\n",
       "      <th>std</th>\n",
       "      <td>632.57</td>\n",
       "      <td>1345.08</td>\n",
       "      <td>0.07</td>\n",
       "      <td>0.11</td>\n",
       "      <td>1342.96</td>\n",
       "      <td>0.05</td>\n",
       "      <td>0.07</td>\n",
       "      <td>5345.42</td>\n",
       "      <td>10.07</td>\n",
       "      <td>10.54</td>\n",
       "      <td>9.54</td>\n",
       "      <td>10.07</td>\n",
       "      <td>664.18</td>\n",
       "      <td>158.59</td>\n",
       "    </tr>\n",
       "    <tr>\n",
       "      <th>min</th>\n",
       "      <td>61.00</td>\n",
       "      <td>72.00</td>\n",
       "      <td>0.00</td>\n",
       "      <td>-74.03</td>\n",
       "      <td>72.00</td>\n",
       "      <td>0.00</td>\n",
       "      <td>-74.07</td>\n",
       "      <td>14529.00</td>\n",
       "      <td>1956.00</td>\n",
       "      <td>1.02</td>\n",
       "      <td>0.00</td>\n",
       "      <td>17.00</td>\n",
       "      <td>0.00</td>\n",
       "      <td>0.00</td>\n",
       "    </tr>\n",
       "    <tr>\n",
       "      <th>25%</th>\n",
       "      <td>371.00</td>\n",
       "      <td>361.00</td>\n",
       "      <td>40.72</td>\n",
       "      <td>-74.00</td>\n",
       "      <td>359.00</td>\n",
       "      <td>40.72</td>\n",
       "      <td>-74.00</td>\n",
       "      <td>18667.00</td>\n",
       "      <td>1973.00</td>\n",
       "      <td>6.18</td>\n",
       "      <td>0.55</td>\n",
       "      <td>30.00</td>\n",
       "      <td>8.70</td>\n",
       "      <td>4.55</td>\n",
       "    </tr>\n",
       "    <tr>\n",
       "      <th>50%</th>\n",
       "      <td>615.00</td>\n",
       "      <td>487.00</td>\n",
       "      <td>40.74</td>\n",
       "      <td>-73.99</td>\n",
       "      <td>486.00</td>\n",
       "      <td>40.74</td>\n",
       "      <td>-73.99</td>\n",
       "      <td>25481.00</td>\n",
       "      <td>1982.00</td>\n",
       "      <td>10.25</td>\n",
       "      <td>0.90</td>\n",
       "      <td>36.00</td>\n",
       "      <td>10.47</td>\n",
       "      <td>5.73</td>\n",
       "    </tr>\n",
       "    <tr>\n",
       "      <th>75%</th>\n",
       "      <td>1058.00</td>\n",
       "      <td>3141.00</td>\n",
       "      <td>40.76</td>\n",
       "      <td>-73.98</td>\n",
       "      <td>3140.00</td>\n",
       "      <td>40.76</td>\n",
       "      <td>-73.98</td>\n",
       "      <td>28124.00</td>\n",
       "      <td>1988.00</td>\n",
       "      <td>17.63</td>\n",
       "      <td>1.48</td>\n",
       "      <td>45.00</td>\n",
       "      <td>13.17</td>\n",
       "      <td>6.90</td>\n",
       "    </tr>\n",
       "    <tr>\n",
       "      <th>max</th>\n",
       "      <td>7200.00</td>\n",
       "      <td>3654.00</td>\n",
       "      <td>40.81</td>\n",
       "      <td>0.00</td>\n",
       "      <td>3654.00</td>\n",
       "      <td>40.81</td>\n",
       "      <td>0.00</td>\n",
       "      <td>33481.00</td>\n",
       "      <td>2001.00</td>\n",
       "      <td>120.00</td>\n",
       "      <td>5389.14</td>\n",
       "      <td>62.00</td>\n",
       "      <td>2608057.83</td>\n",
       "      <td>255187.93</td>\n",
       "    </tr>\n",
       "  </tbody>\n",
       "</table>\n",
       "</div>"
      ],
      "text/plain": [
       "       Trip Duration  Start Station ID  Start Station Latitude  \\\n",
       "count    15432349.00       15432349.00             15432349.00   \n",
       "mean          802.73           1351.79                   40.74   \n",
       "std           632.57           1345.08                    0.07   \n",
       "min            61.00             72.00                    0.00   \n",
       "25%           371.00            361.00                   40.72   \n",
       "50%           615.00            487.00                   40.74   \n",
       "75%          1058.00           3141.00                   40.76   \n",
       "max          7200.00           3654.00                   40.81   \n",
       "\n",
       "       Start Station Longitude  End Station ID  End Station Latitude  \\\n",
       "count              15432349.00     15432349.00           15432349.00   \n",
       "mean                    -73.98         1343.92                 40.74   \n",
       "std                       0.11         1342.96                  0.05   \n",
       "min                     -74.03           72.00                  0.00   \n",
       "25%                     -74.00          359.00                 40.72   \n",
       "50%                     -73.99          486.00                 40.74   \n",
       "75%                     -73.98         3140.00                 40.76   \n",
       "max                       0.00         3654.00                 40.81   \n",
       "\n",
       "       End Station Longitude      Bike ID   Birth Year      Minutes  \\\n",
       "count            15432349.00  15432349.00  15432349.00  15432349.00   \n",
       "mean                  -73.98     23770.68      1980.18        13.38   \n",
       "std                     0.07      5345.42        10.07        10.54   \n",
       "min                   -74.07     14529.00      1956.00         1.02   \n",
       "25%                   -74.00     18667.00      1973.00         6.18   \n",
       "50%                   -73.99     25481.00      1982.00        10.25   \n",
       "75%                   -73.98     28124.00      1988.00        17.63   \n",
       "max                     0.00     33481.00      2001.00       120.00   \n",
       "\n",
       "          Distance          Age     min_mile    mile_hour  \n",
       "count  15432349.00  15432349.00  15432349.00  15432349.00  \n",
       "mean          1.17        37.82        13.85         5.89  \n",
       "std           9.54        10.07       664.18       158.59  \n",
       "min           0.00        17.00         0.00         0.00  \n",
       "25%           0.55        30.00         8.70         4.55  \n",
       "50%           0.90        36.00        10.47         5.73  \n",
       "75%           1.48        45.00        13.17         6.90  \n",
       "max        5389.14        62.00   2608057.83    255187.93  "
      ]
     },
     "execution_count": 34,
     "metadata": {},
     "output_type": "execute_result"
    }
   ],
   "source": [
    "#Let's check for data integrity to make sure all the numbers look as expected. Only numerical data included\n",
    "round(df.describe(),2)"
   ]
  },
  {
   "cell_type": "markdown",
   "metadata": {},
   "source": [
    "### Observations\n",
    "- We still have trips less than 90 seconds, however they seem to be legitimate trips. Checked using the code in cell above. \n",
    "- We have some Start Coordinates as (0.0,0.0). These are trips which were taken away for repair or for other purposes. These should be dropped. If kept, the distance for these trips is 5,389 miles. For this reason I've dropped any points where the distance is greater than 30 miles. Additionally, we have some missing values. Since it's a tiny portion, let's replace missing values based on Gender and start location. These\n",
    "- One some trips, the speed of the biker is more than 200 mph. This could be due to the formula used for distance calculation or some other error. The fastest cyclist in the world on a flat surface ever recorded biked at 82mph. It's safe to assume none of the citibike riders can approach this speed. Due to this and the fact that an average cyclist speed is 10mph, I've decided to remove all data where the speed in mph is greater than 20 mph and less than 0.1 mph. ~1.5k data points"
   ]
  },
  {
   "cell_type": "code",
   "execution_count": 35,
   "metadata": {
    "collapsed": true
   },
   "outputs": [],
   "source": [
    "df = df[df['Distance'] < 30]"
   ]
  },
  {
   "cell_type": "code",
   "execution_count": 36,
   "metadata": {
    "collapsed": true
   },
   "outputs": [],
   "source": [
    "#3.1-Done in two steps to ensure data integrity, could've used an or statement as well.\n",
    "df = df[df['mile_hour']<20]\n",
    "#3.2\n",
    "df = df[df['mile_hour']> (df['mile_hour'].mean()-(2*df['mile_hour'].std()))]"
   ]
  },
  {
   "cell_type": "code",
   "execution_count": 37,
   "metadata": {
    "collapsed": true
   },
   "outputs": [],
   "source": [
    "#Dropping unknown to make the visual more informative. \n",
    "#Unknown gender may be important for the model, which is why I created a copy of the original dataframe.\n",
    "df1 = df.drop(df.index[(df['Gender'] == 0)])"
   ]
  },
  {
   "cell_type": "code",
   "execution_count": 38,
   "metadata": {},
   "outputs": [
    {
     "data": {
      "image/png": "[encoded data removed]",
      "text/plain": [
       "<matplotlib.figure.Figure at 0x113e0fb38>"
      ]
     },
     "metadata": {},
     "output_type": "display_data"
    }
   ],
   "source": [
    "#Rider performance by age and Gender in Min/Mile \n",
    "fig, ax5 = plt.subplots(figsize=(11,5))\n",
    "df1.groupby(['Age','Gender']).median()['min_mile'].unstack().plot(ax=ax5, color =\"bg\")\n",
    "ax5.legend(['Female','Male'])\n",
    "plt.ylabel('Median Speed (min/mile)')\n",
    "plt.title('Rider Performance Based on Gender and Age (Median Speed in min/mile)')\n",
    "plt.show()"
   ]
  },
  {
   "cell_type": "code",
   "execution_count": 39,
   "metadata": {},
   "outputs": [
    {
     "data": {
      "image/png": "[encoded data removed]",
      "text/plain": [
       "<matplotlib.figure.Figure at 0x10f5d95c0>"
      ]
     },
     "metadata": {},
     "output_type": "display_data"
    }
   ],
   "source": [
    "#Rider performance by age and Gender in Miles/hr\n",
    "del([fig,ax5])\n",
    "fig1, ax6 = plt.subplots(figsize=(11,5))\n",
    "df1.groupby(['Age','Gender']).median()['mile_hour'].unstack().plot(ax=ax6,color =\"bg\")\n",
    "ax6.legend(['Female', 'Male'])\n",
    "plt.ylabel('Median Speed (miles/hr)')\n",
    "plt.title('Rider Performance Based on Gender and Age (Median Speed in miles/hr)')\n",
    "plt.show()"
   ]
  },
  {
   "cell_type": "code",
   "execution_count": 40,
   "metadata": {},
   "outputs": [
    {
     "data": {
      "image/png": "[encoded data removed]",
      "text/plain": [
       "<matplotlib.figure.Figure at 0x1be09c7da0>"
      ]
     },
     "metadata": {},
     "output_type": "display_data"
    }
   ],
   "source": [
    "#Rider performance by age and Gender in Averge Distance\n",
    "del([fig1,ax6])\n",
    "fig2, ax7 = plt.subplots(figsize=(11,5))\n",
    "df1.groupby(['Age','Gender']).mean()['Distance'].unstack().plot(ax=ax7,color =\"bg\")\n",
    "ax7.legend(['Female', 'Male'])\n",
    "plt.ylabel('Average Distance (miles)')\n",
    "plt.title('Rider Performance Based on Gender and Age (Average Distance in Miles)')\n",
    "plt.show()"
   ]
  },
  {
   "cell_type": "markdown",
   "metadata": {},
   "source": [
    "### Part 5: Busiest Bike by Times and Minutes Used\n",
    "*Ask:* \n",
    " 1. What is the busiest bike in NYC in 2017? \n",
    "    - Bike 25738\n",
    " 2. How many times was it used?\n",
    "     - 2355 times\n",
    " 3. How many minutes was it in use?\n",
    "      - 31,340 Minutes\n",
    "\n",
    "- Busiest bike and count can be identified by a groupby function\n",
    "- Function above will also identify the number of times the bike was used\n",
    "- A similar groupby function which calls for the sum on minutes can identify the number of minutes the bike was used. "
   ]
  },
  {
   "cell_type": "code",
   "execution_count": 41,
   "metadata": {
    "collapsed": true
   },
   "outputs": [],
   "source": [
    "#Bike usage based on number of times used\n",
    "del(df1)\n",
    "bike_use_df = pd.DataFrame()\n",
    "bike_use_df = df.groupby(['Bike ID']).size().reset_index(name = 'Number of Times Used')\n",
    "bike_use_df = bike_use_df.sort_values('Number of Times Used', ascending = False)\n",
    "#bike_use_df.to_csv('Q5.csv')\n",
    "bike_use_df = bike_use_df[:10]\n",
    "bike_use_df['Bike ID'] = bike_use_df['Bike ID'].astype(str)\n",
    "bike_use_df['Bike ID'] = ('Bike ' + bike_use_df['Bike ID'])\n",
    "bike_use_df = bike_use_df.reset_index()\n",
    "#bike_use_df.head()"
   ]
  },
  {
   "cell_type": "code",
   "execution_count": 42,
   "metadata": {},
   "outputs": [
    {
     "data": {
      "image/png": "[encoded data removed]",
      "text/plain": [
       "<matplotlib.figure.Figure at 0x1bdac33ef0>"
      ]
     },
     "metadata": {},
     "output_type": "display_data"
    }
   ],
   "source": [
    "#Visual of most used bike based on Number of Trips\n",
    "ax8 = sns.barplot('Number of Times Used', 'Bike ID',data = bike_use_df, palette=\"GnBu_d\")\n",
    "ax8.set_title('Most Popular Bikes by Number of Times Used')\n",
    "for index, row in bike_use_df.iterrows():\n",
    "    ax8.text(row['Number of Times Used']-90,index,row['Number of Times Used'], color='white', ha=\"center\", fontsize =10)\n",
    "plt.show()"
   ]
  },
  {
   "cell_type": "code",
   "execution_count": 43,
   "metadata": {
    "collapsed": true
   },
   "outputs": [],
   "source": [
    "#Bike usage based on minutes used\n",
    "#del(ax8)\n",
    "bike_min_df = pd.DataFrame()\n",
    "bike_min_df['Minutes Used'] = df.groupby('Bike ID')['Minutes'].sum()\n",
    "bike_min_df = bike_min_df.reset_index()\n",
    "bike_min_df = bike_min_df.sort_values('Minutes Used', ascending = False)\n",
    "bike_min_df['Bike ID'] = bike_min_df['Bike ID'].astype(str)\n",
    "bike_min_df['Bike ID'] = ('Bike ' + bike_min_df['Bike ID'])\n",
    "bike_min_df = bike_min_df[:10]\n",
    "bike_min_df = bike_min_df.reset_index()\n",
    "#bike_min_df.head()"
   ]
  },
  {
   "cell_type": "code",
   "execution_count": 44,
   "metadata": {},
   "outputs": [
    {
     "data": {
      "image/png": "[encoded data removed]",
      "text/plain": [
       "<matplotlib.figure.Figure at 0x113e1da90>"
      ]
     },
     "metadata": {},
     "output_type": "display_data"
    }
   ],
   "source": [
    "#Visual of most used bike based on number of minutes used\n",
    "ax9 = sns.barplot('Minutes Used', 'Bike ID',data = bike_min_df, palette=\"GnBu_d\")\n",
    "ax9.set_title('Most Popular Bikes by Minutes Used')\n",
    "rcParams['figure.figsize'] = 11,6\n",
    "for index, row in bike_min_df.iterrows():\n",
    "    ax9.text(row['Minutes Used']-2800,index,str(round(row['Minutes Used'],2))+' Minutes', \n",
    "             color='white', ha=\"center\")\n",
    "plt.show()"
   ]
  },
  {
   "cell_type": "markdown",
   "metadata": {},
   "source": [
    "### Part 6.1: Predictive Model - Baseline Model\n",
    "Ask: Build a model that can predict how long a trip will take given a starting \n",
    "     point and destination. \n",
    "\n",
    "***Assumptions on how the Kiosk will work:*** After speaking to Daniel Yawitz (if you're \n",
    "looking at this, thanks for the clarification), I was told that we should assume that when\n",
    "a user inputs the start and end station, they swipe their key fob (if they're a subscriber)\n",
    "and enter their info on the kiosk (if they're a \"Customer\") prior to entering the start \n",
    "and end station. This means that we would know their gender and age. Thus these variables\n",
    "can be used in building the model.\n",
    "\n",
    "Step 1.  \n",
    "   - This dataset is massive. Almost 14 million rows. Let's work on a *random* subsample while we build and evaluate models. If I tried to build and evaluate a model on the entire dataset, each run would take me ~10+ minutes depending on the model. One good way to decide what portion of your data to work with is using a learning curve. However, my kernel keeps crashing while trying to create that learning curve. However, given the size of the data and from experience by working with senior data scientists on projects with BAML and other firms I know that I can comfortably work with a few thoushand rows of data given the fact that this is only one year of data. If we were working with data for multiple years, I'd need to reconsider this approach. However, given the reasons above, I've decided to sample 10% of the data. It's stil ~1.3 million rows and should be a representative sample since it's randomly selected. I'll be evaluating my model on df_sample.\n",
    "  - I also made the same visuals on the sample to visualize the data.\n",
    "          \n",
    "          \n",
    "Step 2. \n",
    "  - Let's get a baseline. If I were to just run a simple multi-variate linear regression, what would my model look like and how accurate would it be? Need to prepare the data for a multivariate regression\n",
    "      1. Drop irrelevant columns\n",
    "           - Trip Duration: We have the minutes column, which is the target variable\n",
    "            - Stop Time: In the real world, we won't have this information when predicting the trip duration.\n",
    "             - Start Station ID: Start Station Name captures this information\n",
    "            - Start Station Latitude: Start Station Name captures this information\n",
    "            - Start Station Longitude: Start Station Name captures this information\n",
    "            - Start Coordinates: Start Station Name captures this information\n",
    "            - End Station ID: End Station Name captures this information\n",
    "           - End Station Latitude: End Station Name captures this information\n",
    "            - End Station Longitude: End Station Name captures this information\n",
    "            - End Coordinates: End Station Name captures this information\n",
    "             - Bike Id: We won't know what bike the user is going to end up using\n",
    "             - Min_Mile: Effectively the same information as end time when combined with distance. We won't have this information in the real world.\n",
    "             - mile_hour: Effectively the same information as end time when combined with distance. We won't have this information in the real world.\n",
    "                    (Speed * Distance = Trip Duration): Which is why speed is dropped\n",
    "             - Birth Year: Age captures this information\n",
    "             - Start Station Name and End Station Name: The distance variable captures the same information. For the model, if a user is inputting start and end station, we can build a simple function to calculate the distance which would capture the same information.\n",
    "      2. Basic cleaning of data FOR NOW.This is only being done for the baseline model\n",
    "          - Start Time: Requires reformatting. Will do this after baseline model\n",
    "           - Dumify categorical variables\n",
    "            - Scale Age\n",
    "            - Don't scale distance, since it does not just represent distance, but is also indicative of the trip the rider is making (start and station)\n",
    "      3. Anomalies in Trip Duration\n",
    "          - I'm going to come back to an observation from earlier. Any trip which lasts longer than *45 minutes(2,700 seconds)* probably indicates a stolen bike, incorrect docking of the bike, or an anomaly. No rider would plan to go over the maximum 45 minutes allowed. Additionally, there are only ~200k rows where the trips last longer than 45 minutes. That is less than 1% of the data and can be considered anomalies. Even if we include it, the model won't be able to learn from it due to the small sample. Lastly, as an avid Citibike user, I know first hand that it doesn't make any sense for one to use a bike for more than 45 minutes! The only way a trip actually lasts more than 45 minutes is if a user couldn't find a dock at their desired station. \n",
    "\n",
    "- Age was removed after an initial run indicated it had no effect on the model. This was also clearly indicated in some of the visuals above. Reasons for not binning age are in section 6.3."
   ]
  },
  {
   "cell_type": "code",
   "execution_count": 45,
   "metadata": {},
   "outputs": [
    {
     "data": {
      "text/html": [
       "<div>\n",
       "<style>\n",
       "    .dataframe thead tr:only-child th {\n",
       "        text-align: right;\n",
       "    }\n",
       "\n",
       "    .dataframe thead th {\n",
       "        text-align: left;\n",
       "    }\n",
       "\n",
       "    .dataframe tbody tr th {\n",
       "        vertical-align: top;\n",
       "    }\n",
       "</style>\n",
       "<table border=\"1\" class=\"dataframe\">\n",
       "  <thead>\n",
       "    <tr style=\"text-align: right;\">\n",
       "      <th></th>\n",
       "      <th>Trip Duration</th>\n",
       "      <th>Start Station ID</th>\n",
       "      <th>Start Station Latitude</th>\n",
       "      <th>Start Station Longitude</th>\n",
       "      <th>End Station ID</th>\n",
       "      <th>End Station Latitude</th>\n",
       "      <th>End Station Longitude</th>\n",
       "      <th>Bike ID</th>\n",
       "      <th>Birth Year</th>\n",
       "      <th>Minutes</th>\n",
       "      <th>Distance</th>\n",
       "      <th>Age</th>\n",
       "      <th>min_mile</th>\n",
       "      <th>mile_hour</th>\n",
       "    </tr>\n",
       "  </thead>\n",
       "  <tbody>\n",
       "    <tr>\n",
       "      <th>count</th>\n",
       "      <td>14875380.00</td>\n",
       "      <td>14875380.00</td>\n",
       "      <td>14875380.00</td>\n",
       "      <td>14875380.00</td>\n",
       "      <td>14875380.00</td>\n",
       "      <td>14875380.00</td>\n",
       "      <td>14875380.00</td>\n",
       "      <td>14875380.00</td>\n",
       "      <td>14875380.00</td>\n",
       "      <td>14875380.00</td>\n",
       "      <td>14875380.00</td>\n",
       "      <td>14875380.00</td>\n",
       "      <td>14875380.00</td>\n",
       "      <td>14875380.00</td>\n",
       "    </tr>\n",
       "    <tr>\n",
       "      <th>mean</th>\n",
       "      <td>759.94</td>\n",
       "      <td>1343.85</td>\n",
       "      <td>40.74</td>\n",
       "      <td>-73.98</td>\n",
       "      <td>1334.48</td>\n",
       "      <td>40.74</td>\n",
       "      <td>-73.98</td>\n",
       "      <td>23786.77</td>\n",
       "      <td>1980.18</td>\n",
       "      <td>12.67</td>\n",
       "      <td>1.18</td>\n",
       "      <td>37.82</td>\n",
       "      <td>11.35</td>\n",
       "      <td>5.85</td>\n",
       "    </tr>\n",
       "    <tr>\n",
       "      <th>std</th>\n",
       "      <td>552.39</td>\n",
       "      <td>1342.31</td>\n",
       "      <td>0.03</td>\n",
       "      <td>0.02</td>\n",
       "      <td>1339.77</td>\n",
       "      <td>0.03</td>\n",
       "      <td>0.02</td>\n",
       "      <td>5344.67</td>\n",
       "      <td>10.10</td>\n",
       "      <td>9.21</td>\n",
       "      <td>0.87</td>\n",
       "      <td>10.10</td>\n",
       "      <td>4.18</td>\n",
       "      <td>1.71</td>\n",
       "    </tr>\n",
       "    <tr>\n",
       "      <th>min</th>\n",
       "      <td>61.00</td>\n",
       "      <td>72.00</td>\n",
       "      <td>40.65</td>\n",
       "      <td>-74.03</td>\n",
       "      <td>72.00</td>\n",
       "      <td>40.65</td>\n",
       "      <td>-74.07</td>\n",
       "      <td>14529.00</td>\n",
       "      <td>1956.00</td>\n",
       "      <td>1.02</td>\n",
       "      <td>0.04</td>\n",
       "      <td>17.00</td>\n",
       "      <td>3.01</td>\n",
       "      <td>1.89</td>\n",
       "    </tr>\n",
       "    <tr>\n",
       "      <th>25%</th>\n",
       "      <td>364.00</td>\n",
       "      <td>361.00</td>\n",
       "      <td>40.72</td>\n",
       "      <td>-74.00</td>\n",
       "      <td>359.00</td>\n",
       "      <td>40.72</td>\n",
       "      <td>-74.00</td>\n",
       "      <td>18679.00</td>\n",
       "      <td>1973.00</td>\n",
       "      <td>6.07</td>\n",
       "      <td>0.57</td>\n",
       "      <td>30.00</td>\n",
       "      <td>8.64</td>\n",
       "      <td>4.71</td>\n",
       "    </tr>\n",
       "    <tr>\n",
       "      <th>50%</th>\n",
       "      <td>597.00</td>\n",
       "      <td>486.00</td>\n",
       "      <td>40.74</td>\n",
       "      <td>-73.99</td>\n",
       "      <td>485.00</td>\n",
       "      <td>40.74</td>\n",
       "      <td>-73.99</td>\n",
       "      <td>25493.00</td>\n",
       "      <td>1982.00</td>\n",
       "      <td>9.95</td>\n",
       "      <td>0.92</td>\n",
       "      <td>36.00</td>\n",
       "      <td>10.33</td>\n",
       "      <td>5.81</td>\n",
       "    </tr>\n",
       "    <tr>\n",
       "      <th>75%</th>\n",
       "      <td>1008.00</td>\n",
       "      <td>3140.00</td>\n",
       "      <td>40.76</td>\n",
       "      <td>-73.98</td>\n",
       "      <td>3137.00</td>\n",
       "      <td>40.76</td>\n",
       "      <td>-73.98</td>\n",
       "      <td>28130.00</td>\n",
       "      <td>1988.00</td>\n",
       "      <td>16.80</td>\n",
       "      <td>1.51</td>\n",
       "      <td>45.00</td>\n",
       "      <td>12.75</td>\n",
       "      <td>6.95</td>\n",
       "    </tr>\n",
       "    <tr>\n",
       "      <th>max</th>\n",
       "      <td>7198.00</td>\n",
       "      <td>3654.00</td>\n",
       "      <td>40.81</td>\n",
       "      <td>-73.91</td>\n",
       "      <td>3654.00</td>\n",
       "      <td>40.81</td>\n",
       "      <td>-73.91</td>\n",
       "      <td>33481.00</td>\n",
       "      <td>2001.00</td>\n",
       "      <td>119.97</td>\n",
       "      <td>10.20</td>\n",
       "      <td>62.00</td>\n",
       "      <td>31.83</td>\n",
       "      <td>19.94</td>\n",
       "    </tr>\n",
       "  </tbody>\n",
       "</table>\n",
       "</div>"
      ],
      "text/plain": [
       "       Trip Duration  Start Station ID  Start Station Latitude  \\\n",
       "count    14875380.00       14875380.00             14875380.00   \n",
       "mean          759.94           1343.85                   40.74   \n",
       "std           552.39           1342.31                    0.03   \n",
       "min            61.00             72.00                   40.65   \n",
       "25%           364.00            361.00                   40.72   \n",
       "50%           597.00            486.00                   40.74   \n",
       "75%          1008.00           3140.00                   40.76   \n",
       "max          7198.00           3654.00                   40.81   \n",
       "\n",
       "       Start Station Longitude  End Station ID  End Station Latitude  \\\n",
       "count              14875380.00     14875380.00           14875380.00   \n",
       "mean                    -73.98         1334.48                 40.74   \n",
       "std                       0.02         1339.77                  0.03   \n",
       "min                     -74.03           72.00                 40.65   \n",
       "25%                     -74.00          359.00                 40.72   \n",
       "50%                     -73.99          485.00                 40.74   \n",
       "75%                     -73.98         3137.00                 40.76   \n",
       "max                     -73.91         3654.00                 40.81   \n",
       "\n",
       "       End Station Longitude      Bike ID   Birth Year      Minutes  \\\n",
       "count            14875380.00  14875380.00  14875380.00  14875380.00   \n",
       "mean                  -73.98     23786.77      1980.18        12.67   \n",
       "std                     0.02      5344.67        10.10         9.21   \n",
       "min                   -74.07     14529.00      1956.00         1.02   \n",
       "25%                   -74.00     18679.00      1973.00         6.07   \n",
       "50%                   -73.99     25493.00      1982.00         9.95   \n",
       "75%                   -73.98     28130.00      1988.00        16.80   \n",
       "max                   -73.91     33481.00      2001.00       119.97   \n",
       "\n",
       "          Distance          Age     min_mile    mile_hour  \n",
       "count  14875380.00  14875380.00  14875380.00  14875380.00  \n",
       "mean          1.18        37.82        11.35         5.85  \n",
       "std           0.87        10.10         4.18         1.71  \n",
       "min           0.04        17.00         3.01         1.89  \n",
       "25%           0.57        30.00         8.64         4.71  \n",
       "50%           0.92        36.00        10.33         5.81  \n",
       "75%           1.51        45.00        12.75         6.95  \n",
       "max          10.20        62.00        31.83        19.94  "
      ]
     },
     "execution_count": 45,
     "metadata": {},
     "output_type": "execute_result"
    }
   ],
   "source": [
    "round(df.describe(),2)"
   ]
  },
  {
   "cell_type": "markdown",
   "metadata": {},
   "source": [
    "### Observations\n",
    "- We have some unreasonable speeds in min_mile column, but that's fine. Some people may have walked with their bike or stopped at multiple destinations before docking.\n",
    "- The sample data below seems to be representative of the entire dataset above."
   ]
  },
  {
   "cell_type": "code",
   "execution_count": 46,
   "metadata": {
    "collapsed": true
   },
   "outputs": [],
   "source": [
    "#Cleaning up anomalies\n",
    "df = df.drop(df.index[(df['Trip Duration'] > 2700)])"
   ]
  },
  {
   "cell_type": "code",
   "execution_count": 47,
   "metadata": {
    "collapsed": true
   },
   "outputs": [],
   "source": [
    "#Let's work with a random sample of the data and inspect it thoroughly to ensure it's representative\n",
    "df_sample = df.sample(frac = 0.1, random_state = 0)\n",
    "#round(df_sample.describe(),2)"
   ]
  },
  {
   "cell_type": "markdown",
   "metadata": {},
   "source": [
    "### Build a Baseline Model"
   ]
  },
  {
   "cell_type": "code",
   "execution_count": 48,
   "metadata": {
    "collapsed": true
   },
   "outputs": [],
   "source": [
    "#Drop Irrelevant data\n",
    "def drop_data(df):\n",
    "    df = df.drop(['Trip Duration','Stop Time','Start Station ID','Start Station Latitude','Start Station Longitude',\n",
    "                  'Start Coordinates','End Station ID', 'End Station Latitude', 'End Station Longitude', \n",
    "                  'End Coordinates','Bike ID', 'Start Station Name','Birth Year','End Station Name','min_mile',\n",
    "                  'mile_hour','Age'], axis = 1)\n",
    "    return df\n",
    "\n",
    "df_basemodel = drop_data(df_sample)"
   ]
  },
  {
   "cell_type": "code",
   "execution_count": 49,
   "metadata": {
    "collapsed": true
   },
   "outputs": [],
   "source": [
    "df_basemodel = df_basemodel.drop('Start Time', axis =1)"
   ]
  },
  {
   "cell_type": "code",
   "execution_count": 50,
   "metadata": {
    "collapsed": true
   },
   "outputs": [],
   "source": [
    "#Dummify categorical data and avoid dummy variable trap\n",
    "df_basemodel = pd.get_dummies(df_basemodel, drop_first = True)\n",
    "#df_basemodel.dtypes"
   ]
  },
  {
   "cell_type": "code",
   "execution_count": 51,
   "metadata": {},
   "outputs": [
    {
     "data": {
      "text/plain": [
       "Minutes                 1.000000\n",
       "Distance                0.848710\n",
       "User Type_Subscriber   -0.273082\n",
       "Gender_1               -0.178851\n",
       "Gender_2                0.046463\n",
       "Name: Minutes, dtype: float64"
      ]
     },
     "execution_count": 51,
     "metadata": {},
     "output_type": "execute_result"
    }
   ],
   "source": [
    "df_basemodel.corr().loc[:,'Minutes']"
   ]
  },
  {
   "cell_type": "code",
   "execution_count": 52,
   "metadata": {},
   "outputs": [
    {
     "name": "stderr",
     "output_type": "stream",
     "text": [
      "/Users/vinit.shah1ibm.com/anaconda3/lib/python3.6/site-packages/sklearn/cross_validation.py:41: DeprecationWarning: This module was deprecated in version 0.18 in favor of the model_selection module into which all the refactored classes and functions are moved. Also note that the interface of the new CV iterators are different from that of this module. This module will be removed in 0.20.\n",
      "  \"This module will be removed in 0.20.\", DeprecationWarning)\n"
     ]
    }
   ],
   "source": [
    "#Train Test Split\n",
    "#Predictor variable\n",
    "X = df_basemodel.iloc[:,1:]\n",
    "#Target variable\n",
    "y = df_basemodel.iloc[:,0]\n",
    "\n",
    "from sklearn.cross_validation import train_test_split\n",
    "X_train, X_test, y_train, y_test = train_test_split(X, y, test_size = 0.2, random_state = 0)"
   ]
  },
  {
   "cell_type": "code",
   "execution_count": 53,
   "metadata": {},
   "outputs": [
    {
     "data": {
      "text/plain": [
       "0.7670642738319764"
      ]
     },
     "execution_count": 53,
     "metadata": {},
     "output_type": "execute_result"
    }
   ],
   "source": [
    "#Fit Linear Regression and check accuracy using sklearn\n",
    "from sklearn.linear_model import LinearRegression\n",
    "regressor = LinearRegression()\n",
    "regressor.fit(X_train, y_train)\n",
    "regressor.score(X_test,y_test)"
   ]
  },
  {
   "cell_type": "code",
   "execution_count": 54,
   "metadata": {},
   "outputs": [
    {
     "name": "stderr",
     "output_type": "stream",
     "text": [
      "/Users/vinit.shah1ibm.com/anaconda3/lib/python3.6/site-packages/statsmodels/compat/pandas.py:56: FutureWarning: The pandas.core.datetools module is deprecated and will be removed in a future version. Please use the pandas.tseries module instead.\n",
      "  from pandas.core import datetools\n"
     ]
    },
    {
     "data": {
      "text/html": [
       "<table class=\"simpletable\">\n",
       "<caption>OLS Regression Results</caption>\n",
       "<tr>\n",
       "  <th>Dep. Variable:</th>         <td>Minutes</td>     <th>  R-squared:         </th>  <td>   0.767</td>  \n",
       "</tr>\n",
       "<tr>\n",
       "  <th>Model:</th>                   <td>OLS</td>       <th>  Adj. R-squared:    </th>  <td>   0.767</td>  \n",
       "</tr>\n",
       "<tr>\n",
       "  <th>Method:</th>             <td>Least Squares</td>  <th>  F-statistic:       </th>  <td>9.754e+05</td> \n",
       "</tr>\n",
       "<tr>\n",
       "  <th>Date:</th>             <td>Tue, 01 May 2018</td> <th>  Prob (F-statistic):</th>   <td>  0.00</td>   \n",
       "</tr>\n",
       "<tr>\n",
       "  <th>Time:</th>                 <td>15:51:52</td>     <th>  Log-Likelihood:    </th> <td>-3.3413e+06</td>\n",
       "</tr>\n",
       "<tr>\n",
       "  <th>No. Observations:</th>      <td>1182108</td>     <th>  AIC:               </th>  <td>6.683e+06</td> \n",
       "</tr>\n",
       "<tr>\n",
       "  <th>Df Residuals:</th>          <td>1182103</td>     <th>  BIC:               </th>  <td>6.683e+06</td> \n",
       "</tr>\n",
       "<tr>\n",
       "  <th>Df Model:</th>              <td>     4</td>      <th>                     </th>      <td> </td>     \n",
       "</tr>\n",
       "<tr>\n",
       "  <th>Covariance Type:</th>      <td>nonrobust</td>    <th>                     </th>      <td> </td>     \n",
       "</tr>\n",
       "</table>\n",
       "<table class=\"simpletable\">\n",
       "<tr>\n",
       "            <td></td>              <th>coef</th>     <th>std err</th>      <th>t</th>      <th>P>|t|</th>  <th>[0.025</th>    <th>0.975]</th>  \n",
       "</tr>\n",
       "<tr>\n",
       "  <th>const</th>                <td>    8.4552</td> <td>    0.015</td> <td>  581.543</td> <td> 0.000</td> <td>    8.427</td> <td>    8.484</td>\n",
       "</tr>\n",
       "<tr>\n",
       "  <th>Distance</th>             <td>    8.3021</td> <td>    0.004</td> <td> 1867.643</td> <td> 0.000</td> <td>    8.293</td> <td>    8.311</td>\n",
       "</tr>\n",
       "<tr>\n",
       "  <th>User Type_Subscriber</th> <td>   -5.6523</td> <td>    0.022</td> <td> -251.293</td> <td> 0.000</td> <td>   -5.696</td> <td>   -5.608</td>\n",
       "</tr>\n",
       "<tr>\n",
       "  <th>Gender_1</th>             <td>   -0.9573</td> <td>    0.023</td> <td>  -41.966</td> <td> 0.000</td> <td>   -1.002</td> <td>   -0.913</td>\n",
       "</tr>\n",
       "<tr>\n",
       "  <th>Gender_2</th>             <td>    0.3342</td> <td>    0.023</td> <td>   14.231</td> <td> 0.000</td> <td>    0.288</td> <td>    0.380</td>\n",
       "</tr>\n",
       "</table>\n",
       "<table class=\"simpletable\">\n",
       "<tr>\n",
       "  <th>Omnibus:</th>       <td>382321.757</td> <th>  Durbin-Watson:     </th>  <td>   2.000</td>  \n",
       "</tr>\n",
       "<tr>\n",
       "  <th>Prob(Omnibus):</th>   <td> 0.000</td>   <th>  Jarque-Bera (JB):  </th> <td>2150008.334</td>\n",
       "</tr>\n",
       "<tr>\n",
       "  <th>Skew:</th>            <td> 1.450</td>   <th>  Prob(JB):          </th>  <td>    0.00</td>  \n",
       "</tr>\n",
       "<tr>\n",
       "  <th>Kurtosis:</th>        <td> 8.937</td>   <th>  Cond. No.          </th>  <td>    20.0</td>  \n",
       "</tr>\n",
       "</table>"
      ],
      "text/plain": [
       "<class 'statsmodels.iolib.summary.Summary'>\n",
       "\"\"\"\n",
       "                            OLS Regression Results                            \n",
       "==============================================================================\n",
       "Dep. Variable:                Minutes   R-squared:                       0.767\n",
       "Model:                            OLS   Adj. R-squared:                  0.767\n",
       "Method:                 Least Squares   F-statistic:                 9.754e+05\n",
       "Date:                Tue, 01 May 2018   Prob (F-statistic):               0.00\n",
       "Time:                        15:51:52   Log-Likelihood:            -3.3413e+06\n",
       "No. Observations:             1182108   AIC:                         6.683e+06\n",
       "Df Residuals:                 1182103   BIC:                         6.683e+06\n",
       "Df Model:                           4                                         \n",
       "Covariance Type:            nonrobust                                         \n",
       "========================================================================================\n",
       "                           coef    std err          t      P>|t|      [0.025      0.975]\n",
       "----------------------------------------------------------------------------------------\n",
       "const                    8.4552      0.015    581.543      0.000       8.427       8.484\n",
       "Distance                 8.3021      0.004   1867.643      0.000       8.293       8.311\n",
       "User Type_Subscriber    -5.6523      0.022   -251.293      0.000      -5.696      -5.608\n",
       "Gender_1                -0.9573      0.023    -41.966      0.000      -1.002      -0.913\n",
       "Gender_2                 0.3342      0.023     14.231      0.000       0.288       0.380\n",
       "==============================================================================\n",
       "Omnibus:                   382321.757   Durbin-Watson:                   2.000\n",
       "Prob(Omnibus):                  0.000   Jarque-Bera (JB):          2150008.334\n",
       "Skew:                           1.450   Prob(JB):                         0.00\n",
       "Kurtosis:                       8.937   Cond. No.                         20.0\n",
       "==============================================================================\n",
       "\n",
       "Warnings:\n",
       "[1] Standard Errors assume that the covariance matrix of the errors is correctly specified.\n",
       "\"\"\""
      ]
     },
     "execution_count": 54,
     "metadata": {},
     "output_type": "execute_result"
    }
   ],
   "source": [
    "#Using Statsmodel because it has the summary function.\n",
    "import statsmodels.api as sm\n",
    "X_train = sm.add_constant(X_train)\n",
    "X_test = sm.add_constant(X_test)\n",
    "regressor_OLS = sm.OLS(y_train, X_train).fit()\n",
    "regressor_OLS.summary()"
   ]
  },
  {
   "cell_type": "markdown",
   "metadata": {},
   "source": [
    "### Part 6.2: Predictive Model - Including Date \n",
    "\n",
    "**Baseline Model:** Adjusted R^2 and R^2 = 56.5% (depending on random_state)        \n",
    " 1. The baseline model is ok, but nothing spectacular. The R_Squared and Adjusted R_Squared is \n",
    "    pretty much the same, 53.6%. The F-Stat is also 0.00 which is a good sign. The gender female's \n",
    "    p-value is high, however, we can't loose this information due to the fact that this is a categorical\n",
    "    variable and we'd be loosing substantial information by dropping it. \n",
    " 2. Steps to make improvements:\n",
    "    a) Add back time in the following format\n",
    "      - Is the ride on a WEEKDAY or WEEKEND. Weekday, is rush-hour commute for the most part and\n",
    "          probably from home to work. Weekend could be a longer, more casual ride and have higher variability.\n",
    "      - Is the ride in the MORNING, AFTERNOON, EVENING, or NIGHT. The exact timing will be based on the \n",
    "          difference in trip duration based on time of day. Will have visuals below.\n",
    "      - What season is it?\n",
    "        - December - Feb. = Winter\n",
    "        - March - May = Spring\n",
    "        - June - Aug. = Summer\n",
    "        - Sept. - Nov. = Fall\n",
    " 3. Evaluate model and check correlation to ensure against collinearity and identify what's going on"
   ]
  },
  {
   "cell_type": "code",
   "execution_count": 55,
   "metadata": {
    "collapsed": true
   },
   "outputs": [],
   "source": [
    "#The following code was used to create get_date_info\n",
    "'''\n",
    "#Weekday or Weekend: 1 = Weekday, 0 = Weekend\n",
    "df_model1['d_week'] = (df_model1['d_week']<5).astype(int)\n",
    "\n",
    "#Season of the year: Winter = 0, Spring = 1, Summer = 2, Fall = 3\n",
    "df_model1['m_yr'] = df_model1['m_yr'].replace(to_replace=[12,1,2], value = 0)\n",
    "df_model1['m_yr'] = df_model1['m_yr'].replace(to_replace=[3,4,5], value = 1)\n",
    "df_model1['m_yr'] = df_model1['m_yr'].replace(to_replace=[6,7,8], value = 2)\n",
    "df_model1['m_yr'] = df_model1['m_yr'].replace(to_replace=[9,10,11], value = 3)\n",
    "\n",
    "#Visualize difference in ridership based on time of day\n",
    "#Ploted both mean and media, similar pattern, using median due to the high variance in the data\n",
    "fig3, ax10 = plt.subplots(figsize=(15,7))\n",
    "df_model1.groupby('ToD').mean()['Minutes'].plot(ax=ax10)\n",
    "#df_model1.groupby('ToD').median()['Minutes'].plot(ax=ax10)\n",
    "plt.ylabel('Median Minutes per Trip')\n",
    "plt.xlabel('Hour of the Day')\n",
    "plt.title('Median Minutes per Trip by Time of Day')\n",
    "plt.show()\n",
    "\n",
    "#Based on the visual above and distribution of ridership: NIGHT = 20-5, MORNING = 5-9, AFTERNON = 9-14, EVENING = 14-20\n",
    "df_model1['ToD'] = pd.cut(df_model1['ToD'], bins=[-1, 5, 9, 14, 20, 25], labels=['Night','Morning','Afternoon','Evening','Night1'])\n",
    "df_model1['ToD'] = df_model1['ToD'].replace(to_replace='Night1', value = 'Night')\n",
    "df_model1['ToD'] = df_model1['ToD'].cat.remove_unused_categories()\n",
    "\n",
    "#Convert m_yr to categorical\n",
    "df_model1['m_yr'] = df_model1['m_yr'].astype('category')\n",
    "\n",
    "\n",
    "#Dummify categorical data and avoid \n",
    "df_model1 = pd.get_dummies(df_model1, drop_first = True)\n",
    "'''\n",
    "def get_date_info(df):\n",
    "    df['d_week'] = df['Start Time'].dt.dayofweek\n",
    "    df['m_yr'] = df['Start Time'].dt.month\n",
    "    df['ToD'] = df['Start Time'].dt.hour\n",
    "\n",
    "    df['d_week'] = (df['d_week']<5).astype(int)\n",
    "\n",
    "    df['m_yr'] = df['m_yr'].replace(to_replace=[12,1,2], value = 0)\n",
    "    df['m_yr'] = df['m_yr'].replace(to_replace=[3,4,5], value = 1)\n",
    "    df['m_yr'] = df['m_yr'].replace(to_replace=[6,7,8], value = 2)\n",
    "    df['m_yr'] = df['m_yr'].replace(to_replace=[9,10,11], value = 3)\n",
    "    \n",
    "    df['ToD'] = pd.cut(df['ToD'], bins=[-1, 5, 9, 14, 20, 25], labels=['Night','Morning','Afternoon','Evening','Night1'])\n",
    "    df['ToD'] = df['ToD'].replace(to_replace='Night1', value = 'Night')\n",
    "    df['ToD'] = df['ToD'].cat.remove_unused_categories()\n",
    "    \n",
    "    df['m_yr'] = df['m_yr'].astype('category')\n",
    "    df['d_week'] = df['d_week'].astype('category')\n",
    "\n",
    "    return(df)"
   ]
  },
  {
   "cell_type": "code",
   "execution_count": 56,
   "metadata": {
    "collapsed": true
   },
   "outputs": [],
   "source": [
    "#Dataset for the second model\n",
    "df_model1 = drop_data(df_sample)\n",
    "df_model1 = get_date_info(df_model1)\n",
    "df_model1 = df_model1.drop('Start Time', axis =1)"
   ]
  },
  {
   "cell_type": "code",
   "execution_count": 57,
   "metadata": {
    "collapsed": true
   },
   "outputs": [],
   "source": [
    "#Dummify categorical data and avoid dummy variable trap\n",
    "df_model1 = pd.get_dummies(df_model1, drop_first = True)\n",
    "#df_model1.dtypes"
   ]
  },
  {
   "cell_type": "code",
   "execution_count": 58,
   "metadata": {
    "collapsed": true
   },
   "outputs": [],
   "source": [
    "#Train Test Split\n",
    "#Predictor variable\n",
    "X = df_model1.iloc[:,1:]\n",
    "#Target variable\n",
    "y = df_model1.iloc[:,0]\n",
    "\n",
    "from sklearn.cross_validation import train_test_split\n",
    "X_train, X_test, y_train, y_test = train_test_split(X, y, test_size = 0.2, random_state = 0)"
   ]
  },
  {
   "cell_type": "code",
   "execution_count": 59,
   "metadata": {},
   "outputs": [
    {
     "data": {
      "text/plain": [
       "0.77049040023570248"
      ]
     },
     "execution_count": 59,
     "metadata": {},
     "output_type": "execute_result"
    }
   ],
   "source": [
    "#Fit Linear Regression and check accuracy using sklearn\n",
    "from sklearn.linear_model import LinearRegression\n",
    "regressor = LinearRegression()\n",
    "regressor.fit(X_train, y_train)\n",
    "regressor.score(X_test,y_test)"
   ]
  },
  {
   "cell_type": "code",
   "execution_count": 60,
   "metadata": {},
   "outputs": [
    {
     "data": {
      "text/html": [
       "<table class=\"simpletable\">\n",
       "<caption>OLS Regression Results</caption>\n",
       "<tr>\n",
       "  <th>Dep. Variable:</th>         <td>Minutes</td>     <th>  R-squared:         </th>  <td>   0.771</td>  \n",
       "</tr>\n",
       "<tr>\n",
       "  <th>Model:</th>                   <td>OLS</td>       <th>  Adj. R-squared:    </th>  <td>   0.771</td>  \n",
       "</tr>\n",
       "<tr>\n",
       "  <th>Method:</th>             <td>Least Squares</td>  <th>  F-statistic:       </th>  <td>3.615e+05</td> \n",
       "</tr>\n",
       "<tr>\n",
       "  <th>Date:</th>             <td>Tue, 01 May 2018</td> <th>  Prob (F-statistic):</th>   <td>  0.00</td>   \n",
       "</tr>\n",
       "<tr>\n",
       "  <th>Time:</th>                 <td>15:51:59</td>     <th>  Log-Likelihood:    </th> <td>-3.3326e+06</td>\n",
       "</tr>\n",
       "<tr>\n",
       "  <th>No. Observations:</th>      <td>1182108</td>     <th>  AIC:               </th>  <td>6.665e+06</td> \n",
       "</tr>\n",
       "<tr>\n",
       "  <th>Df Residuals:</th>          <td>1182096</td>     <th>  BIC:               </th>  <td>6.665e+06</td> \n",
       "</tr>\n",
       "<tr>\n",
       "  <th>Df Model:</th>              <td>    11</td>      <th>                     </th>      <td> </td>     \n",
       "</tr>\n",
       "<tr>\n",
       "  <th>Covariance Type:</th>      <td>nonrobust</td>    <th>                     </th>      <td> </td>     \n",
       "</tr>\n",
       "</table>\n",
       "<table class=\"simpletable\">\n",
       "<tr>\n",
       "            <td></td>              <th>coef</th>     <th>std err</th>      <th>t</th>      <th>P>|t|</th>  <th>[0.025</th>    <th>0.975]</th>  \n",
       "</tr>\n",
       "<tr>\n",
       "  <th>const</th>                <td>    7.9327</td> <td>    0.022</td> <td>  367.828</td> <td> 0.000</td> <td>    7.890</td> <td>    7.975</td>\n",
       "</tr>\n",
       "<tr>\n",
       "  <th>Distance</th>             <td>    8.3151</td> <td>    0.004</td> <td> 1878.448</td> <td> 0.000</td> <td>    8.306</td> <td>    8.324</td>\n",
       "</tr>\n",
       "<tr>\n",
       "  <th>User Type_Subscriber</th> <td>   -5.3294</td> <td>    0.023</td> <td> -236.737</td> <td> 0.000</td> <td>   -5.373</td> <td>   -5.285</td>\n",
       "</tr>\n",
       "<tr>\n",
       "  <th>Gender_1</th>             <td>   -0.9262</td> <td>    0.023</td> <td>  -40.896</td> <td> 0.000</td> <td>   -0.971</td> <td>   -0.882</td>\n",
       "</tr>\n",
       "<tr>\n",
       "  <th>Gender_2</th>             <td>    0.3275</td> <td>    0.023</td> <td>   14.046</td> <td> 0.000</td> <td>    0.282</td> <td>    0.373</td>\n",
       "</tr>\n",
       "<tr>\n",
       "  <th>d_week_1</th>             <td>   -0.4752</td> <td>    0.009</td> <td>  -51.924</td> <td> 0.000</td> <td>   -0.493</td> <td>   -0.457</td>\n",
       "</tr>\n",
       "<tr>\n",
       "  <th>m_yr_1</th>               <td>    0.1775</td> <td>    0.013</td> <td>   14.118</td> <td> 0.000</td> <td>    0.153</td> <td>    0.202</td>\n",
       "</tr>\n",
       "<tr>\n",
       "  <th>m_yr_2</th>               <td>    0.3682</td> <td>    0.012</td> <td>   31.296</td> <td> 0.000</td> <td>    0.345</td> <td>    0.391</td>\n",
       "</tr>\n",
       "<tr>\n",
       "  <th>m_yr_3</th>               <td>    0.3119</td> <td>    0.012</td> <td>   26.523</td> <td> 0.000</td> <td>    0.289</td> <td>    0.335</td>\n",
       "</tr>\n",
       "<tr>\n",
       "  <th>ToD_Morning</th>          <td>   -0.3916</td> <td>    0.015</td> <td>  -26.792</td> <td> 0.000</td> <td>   -0.420</td> <td>   -0.363</td>\n",
       "</tr>\n",
       "<tr>\n",
       "  <th>ToD_Afternoon</th>        <td>    0.6450</td> <td>    0.014</td> <td>   45.188</td> <td> 0.000</td> <td>    0.617</td> <td>    0.673</td>\n",
       "</tr>\n",
       "<tr>\n",
       "  <th>ToD_Evening</th>          <td>    0.5259</td> <td>    0.013</td> <td>   39.268</td> <td> 0.000</td> <td>    0.500</td> <td>    0.552</td>\n",
       "</tr>\n",
       "</table>\n",
       "<table class=\"simpletable\">\n",
       "<tr>\n",
       "  <th>Omnibus:</th>       <td>375558.102</td> <th>  Durbin-Watson:     </th>  <td>   2.001</td>  \n",
       "</tr>\n",
       "<tr>\n",
       "  <th>Prob(Omnibus):</th>   <td> 0.000</td>   <th>  Jarque-Bera (JB):  </th> <td>2101009.022</td>\n",
       "</tr>\n",
       "<tr>\n",
       "  <th>Skew:</th>            <td> 1.423</td>   <th>  Prob(JB):          </th>  <td>    0.00</td>  \n",
       "</tr>\n",
       "<tr>\n",
       "  <th>Kurtosis:</th>        <td> 8.879</td>   <th>  Cond. No.          </th>  <td>    22.6</td>  \n",
       "</tr>\n",
       "</table>"
      ],
      "text/plain": [
       "<class 'statsmodels.iolib.summary.Summary'>\n",
       "\"\"\"\n",
       "                            OLS Regression Results                            \n",
       "==============================================================================\n",
       "Dep. Variable:                Minutes   R-squared:                       0.771\n",
       "Model:                            OLS   Adj. R-squared:                  0.771\n",
       "Method:                 Least Squares   F-statistic:                 3.615e+05\n",
       "Date:                Tue, 01 May 2018   Prob (F-statistic):               0.00\n",
       "Time:                        15:51:59   Log-Likelihood:            -3.3326e+06\n",
       "No. Observations:             1182108   AIC:                         6.665e+06\n",
       "Df Residuals:                 1182096   BIC:                         6.665e+06\n",
       "Df Model:                          11                                         \n",
       "Covariance Type:            nonrobust                                         \n",
       "========================================================================================\n",
       "                           coef    std err          t      P>|t|      [0.025      0.975]\n",
       "----------------------------------------------------------------------------------------\n",
       "const                    7.9327      0.022    367.828      0.000       7.890       7.975\n",
       "Distance                 8.3151      0.004   1878.448      0.000       8.306       8.324\n",
       "User Type_Subscriber    -5.3294      0.023   -236.737      0.000      -5.373      -5.285\n",
       "Gender_1                -0.9262      0.023    -40.896      0.000      -0.971      -0.882\n",
       "Gender_2                 0.3275      0.023     14.046      0.000       0.282       0.373\n",
       "d_week_1                -0.4752      0.009    -51.924      0.000      -0.493      -0.457\n",
       "m_yr_1                   0.1775      0.013     14.118      0.000       0.153       0.202\n",
       "m_yr_2                   0.3682      0.012     31.296      0.000       0.345       0.391\n",
       "m_yr_3                   0.3119      0.012     26.523      0.000       0.289       0.335\n",
       "ToD_Morning             -0.3916      0.015    -26.792      0.000      -0.420      -0.363\n",
       "ToD_Afternoon            0.6450      0.014     45.188      0.000       0.617       0.673\n",
       "ToD_Evening              0.5259      0.013     39.268      0.000       0.500       0.552\n",
       "==============================================================================\n",
       "Omnibus:                   375558.102   Durbin-Watson:                   2.001\n",
       "Prob(Omnibus):                  0.000   Jarque-Bera (JB):          2101009.022\n",
       "Skew:                           1.423   Prob(JB):                         0.00\n",
       "Kurtosis:                       8.879   Cond. No.                         22.6\n",
       "==============================================================================\n",
       "\n",
       "Warnings:\n",
       "[1] Standard Errors assume that the covariance matrix of the errors is correctly specified.\n",
       "\"\"\""
      ]
     },
     "execution_count": 60,
     "metadata": {},
     "output_type": "execute_result"
    }
   ],
   "source": [
    "#Using Statsmodel because it has the summary function.\n",
    "import statsmodels.api as sm\n",
    "X_train = sm.add_constant(X_train)\n",
    "X_test = sm.add_constant(X_test)\n",
    "regressor_OLS = sm.OLS(y_train, X_train).fit()\n",
    "regressor_OLS.summary()"
   ]
  },
  {
   "cell_type": "code",
   "execution_count": 61,
   "metadata": {
    "collapsed": true
   },
   "outputs": [],
   "source": [
    "#df_model1.corr().loc[:,'Minutes']"
   ]
  },
  {
   "cell_type": "markdown",
   "metadata": {},
   "source": [
    "### Part 6.3: Predictive Model - Improving Model 1\n",
    "Model 1: Negligible improvement in R^2: 67% (depending on random_state used)\n",
    "\n",
    "   - Date seems to not have as big of an impact. May be more useful to split time and day differently, but\n",
    "    acording to the graphs, there is no indication of a better split. Next steps will be to factor in speed\n",
    "    and distance based on Gender and Trip. By not being able to encode start and end stations (due to the\n",
    "    sheer number of points), we are losing crucial information on the trip itself. We need another proxy for\n",
    "    those measures. \n",
    "   - Another change I could make is to bin age into buckets. However, the data indicates that age has no correlation\n",
    "    or effect on the trip duration. This is counter-intuitive, however, I don't have a good reason to refute the data.\n",
    "\n",
    "Next Steps:\n",
    " 1. Include Average Speed based on: Trip and User Type\n",
    "    - Reason for Trip: \n",
    "      - Some trips are up hill, others are down hill. Some routes, such as one through times square involve heavy trafic, based on intuition.\n",
    "     - Reason for User Type: \n",
    "        - Tourists (Customers), will usually ride more slowly with frequent stops than a Subscriber, according to the data.\n",
    " 2. Include average duration for each trip based on: Trip and User Type\n",
    "    - Reason, for each, same as above.\n",
    "      - Using seconds instead of minutes for granularity in information.\n",
    "\n",
    " 3. A bit of inexperience here:\n",
    "    - The imputed columns are \"dependent\" variables in the since speed is derived from trip duration and distance. \n",
    "      - There may be a better way to do this, however, I would need to consult someone. Would appreciate feedback on this.\n",
    "      - I don't think it should be a big issue that they're \"dependent\" since they serve more as anchor points. But I'd appreciate feeback."
   ]
  },
  {
   "cell_type": "code",
   "execution_count": 62,
   "metadata": {
    "collapsed": true
   },
   "outputs": [],
   "source": [
    "#Code below used to create get_speed_distance\n",
    "'''\n",
    "df_model2 = df_sample\n",
    "\n",
    "df_model2['Start Station Name'] = df_model2['Start Station Name'].astype(str)\n",
    "df_model2['End Station Name'] = df_model2['End Station Name'].astype(str)\n",
    "df_model2['Trip'] = df_model2['Start Station Name'] + ' to ' + df_model2['End Station Name']\n",
    "df_model2['Trip'] = df_model2['Trip'].astype('category')\n",
    "\n",
    "df_model2['avg_speed'] = df_model2.groupby(['Trip','User Type'])['mile_hour'].transform('mean')\n",
    "df_model2['avg_duration'] = df_model2.groupby(['Trip','User Type'])['Trip Duration'].transform('median')\n",
    "#Code to make sure transfrom function works appropriately.\n",
    "#df_model2[df_model2['avg_speed']==df_model2.loc[258881]['avg_speed']]\n",
    "'''\n",
    "def get_speed_distance(df):\n",
    "\n",
    "    df['Start Station Name'] = df['Start Station Name'].astype(str)\n",
    "    df['End Station Name'] = df['End Station Name'].astype(str)\n",
    "    df['Trip'] = df['Start Station Name'] + ' to ' + df['End Station Name']\n",
    "    df['Trip'] = df['Trip'].astype('category')\n",
    "    \n",
    "    df['avg_speed'] = df.groupby(['Trip','User Type'])['mile_hour'].transform('mean')\n",
    "    df['avg_duration'] = df.groupby(['Trip','User Type'])['Trip Duration'].transform('median')\n",
    "    \n",
    "    return df"
   ]
  },
  {
   "cell_type": "code",
   "execution_count": 63,
   "metadata": {
    "collapsed": true
   },
   "outputs": [],
   "source": [
    "#Drop Irrelevant data, updated with Trip\n",
    "def drop_data_trip(df):\n",
    "    df = df.drop(['Trip Duration','Stop Time','Start Station ID','Start Station Latitude','Start Station Longitude',\n",
    "                  'Start Coordinates','End Station ID', 'End Station Latitude', 'End Station Longitude', \n",
    "                  'End Coordinates','Bike ID', 'Start Station Name','Birth Year','End Station Name','min_mile', \n",
    "                  'mile_hour', 'Age', 'Trip'], axis = 1)\n",
    "    return df"
   ]
  },
  {
   "cell_type": "code",
   "execution_count": 64,
   "metadata": {
    "collapsed": true
   },
   "outputs": [],
   "source": [
    "df_model2 = get_speed_distance(df_sample)\n",
    "df_model2 = drop_data_trip(df_model2)\n",
    "df_model2 = get_date_info(df_model2)\n",
    "df_model2 = df_model2.drop('Start Time', axis =1)"
   ]
  },
  {
   "cell_type": "code",
   "execution_count": 65,
   "metadata": {
    "collapsed": true
   },
   "outputs": [],
   "source": [
    "#Dummify categorical data and avoid dummy variable trap\n",
    "df_model2 = pd.get_dummies(df_model2, drop_first = True)\n",
    "#df_model2.dtypes"
   ]
  },
  {
   "cell_type": "code",
   "execution_count": 66,
   "metadata": {
    "collapsed": true
   },
   "outputs": [],
   "source": [
    "#Train Test Split\n",
    "#Predictor variable\n",
    "X = df_model2.iloc[:,1:]\n",
    "#Target variable\n",
    "y = df_model2.iloc[:,0]\n",
    "#Split\n",
    "X_train, X_test, y_train, y_test = train_test_split(X, y, test_size = 0.2, random_state = 0)"
   ]
  },
  {
   "cell_type": "code",
   "execution_count": 67,
   "metadata": {},
   "outputs": [
    {
     "data": {
      "text/plain": [
       "0.87318625351924339"
      ]
     },
     "execution_count": 67,
     "metadata": {},
     "output_type": "execute_result"
    }
   ],
   "source": [
    "#Fit Linear Regression and check accuracy using sklearn\n",
    "from sklearn.linear_model import LinearRegression\n",
    "regressor = LinearRegression()\n",
    "regressor.fit(X_train, y_train)\n",
    "regressor.score(X_test,y_test)"
   ]
  },
  {
   "cell_type": "code",
   "execution_count": 68,
   "metadata": {},
   "outputs": [
    {
     "data": {
      "text/html": [
       "<table class=\"simpletable\">\n",
       "<caption>OLS Regression Results</caption>\n",
       "<tr>\n",
       "  <th>Dep. Variable:</th>         <td>Minutes</td>     <th>  R-squared:         </th>  <td>   0.873</td>  \n",
       "</tr>\n",
       "<tr>\n",
       "  <th>Model:</th>                   <td>OLS</td>       <th>  Adj. R-squared:    </th>  <td>   0.873</td>  \n",
       "</tr>\n",
       "<tr>\n",
       "  <th>Method:</th>             <td>Least Squares</td>  <th>  F-statistic:       </th>  <td>6.276e+05</td> \n",
       "</tr>\n",
       "<tr>\n",
       "  <th>Date:</th>             <td>Tue, 01 May 2018</td> <th>  Prob (F-statistic):</th>   <td>  0.00</td>   \n",
       "</tr>\n",
       "<tr>\n",
       "  <th>Time:</th>                 <td>15:52:47</td>     <th>  Log-Likelihood:    </th> <td>-2.9817e+06</td>\n",
       "</tr>\n",
       "<tr>\n",
       "  <th>No. Observations:</th>      <td>1182108</td>     <th>  AIC:               </th>  <td>5.963e+06</td> \n",
       "</tr>\n",
       "<tr>\n",
       "  <th>Df Residuals:</th>          <td>1182094</td>     <th>  BIC:               </th>  <td>5.964e+06</td> \n",
       "</tr>\n",
       "<tr>\n",
       "  <th>Df Model:</th>              <td>    13</td>      <th>                     </th>      <td> </td>     \n",
       "</tr>\n",
       "<tr>\n",
       "  <th>Covariance Type:</th>      <td>nonrobust</td>    <th>                     </th>      <td> </td>     \n",
       "</tr>\n",
       "</table>\n",
       "<table class=\"simpletable\">\n",
       "<tr>\n",
       "            <td></td>              <th>coef</th>     <th>std err</th>      <th>t</th>      <th>P>|t|</th>  <th>[0.025</th>    <th>0.975]</th>  \n",
       "</tr>\n",
       "<tr>\n",
       "  <th>const</th>                <td>    1.5326</td> <td>    0.031</td> <td>   49.352</td> <td> 0.000</td> <td>    1.472</td> <td>    1.593</td>\n",
       "</tr>\n",
       "<tr>\n",
       "  <th>Distance</th>             <td>    1.0424</td> <td>    0.015</td> <td>   70.764</td> <td> 0.000</td> <td>    1.014</td> <td>    1.071</td>\n",
       "</tr>\n",
       "<tr>\n",
       "  <th>avg_speed</th>            <td>   -0.2019</td> <td>    0.005</td> <td>  -44.060</td> <td> 0.000</td> <td>   -0.211</td> <td>   -0.193</td>\n",
       "</tr>\n",
       "<tr>\n",
       "  <th>avg_duration</th>         <td>    0.0148</td> <td> 2.47e-05</td> <td>  600.221</td> <td> 0.000</td> <td>    0.015</td> <td>    0.015</td>\n",
       "</tr>\n",
       "<tr>\n",
       "  <th>User Type_Subscriber</th> <td>    0.4430</td> <td>    0.018</td> <td>   24.933</td> <td> 0.000</td> <td>    0.408</td> <td>    0.478</td>\n",
       "</tr>\n",
       "<tr>\n",
       "  <th>Gender_1</th>             <td>   -0.6099</td> <td>    0.017</td> <td>  -36.233</td> <td> 0.000</td> <td>   -0.643</td> <td>   -0.577</td>\n",
       "</tr>\n",
       "<tr>\n",
       "  <th>Gender_2</th>             <td>    0.2871</td> <td>    0.017</td> <td>   16.572</td> <td> 0.000</td> <td>    0.253</td> <td>    0.321</td>\n",
       "</tr>\n",
       "<tr>\n",
       "  <th>d_week_1</th>             <td>   -0.3085</td> <td>    0.007</td> <td>  -45.352</td> <td> 0.000</td> <td>   -0.322</td> <td>   -0.295</td>\n",
       "</tr>\n",
       "<tr>\n",
       "  <th>m_yr_1</th>               <td>    0.1076</td> <td>    0.009</td> <td>   11.510</td> <td> 0.000</td> <td>    0.089</td> <td>    0.126</td>\n",
       "</tr>\n",
       "<tr>\n",
       "  <th>m_yr_2</th>               <td>    0.2671</td> <td>    0.009</td> <td>   30.544</td> <td> 0.000</td> <td>    0.250</td> <td>    0.284</td>\n",
       "</tr>\n",
       "<tr>\n",
       "  <th>m_yr_3</th>               <td>    0.2092</td> <td>    0.009</td> <td>   23.935</td> <td> 0.000</td> <td>    0.192</td> <td>    0.226</td>\n",
       "</tr>\n",
       "<tr>\n",
       "  <th>ToD_Morning</th>          <td>   -0.2132</td> <td>    0.011</td> <td>  -19.619</td> <td> 0.000</td> <td>   -0.234</td> <td>   -0.192</td>\n",
       "</tr>\n",
       "<tr>\n",
       "  <th>ToD_Afternoon</th>        <td>    0.4367</td> <td>    0.011</td> <td>   41.158</td> <td> 0.000</td> <td>    0.416</td> <td>    0.458</td>\n",
       "</tr>\n",
       "<tr>\n",
       "  <th>ToD_Evening</th>          <td>    0.3530</td> <td>    0.010</td> <td>   35.462</td> <td> 0.000</td> <td>    0.334</td> <td>    0.373</td>\n",
       "</tr>\n",
       "</table>\n",
       "<table class=\"simpletable\">\n",
       "<tr>\n",
       "  <th>Omnibus:</th>       <td>586582.610</td> <th>  Durbin-Watson:     </th>  <td>   2.005</td>  \n",
       "</tr>\n",
       "<tr>\n",
       "  <th>Prob(Omnibus):</th>   <td> 0.000</td>   <th>  Jarque-Bera (JB):  </th> <td>7187556.319</td>\n",
       "</tr>\n",
       "<tr>\n",
       "  <th>Skew:</th>            <td> 2.096</td>   <th>  Prob(JB):          </th>  <td>    0.00</td>  \n",
       "</tr>\n",
       "<tr>\n",
       "  <th>Kurtosis:</th>        <td>14.330</td>   <th>  Cond. No.          </th>  <td>1.06e+04</td>  \n",
       "</tr>\n",
       "</table>"
      ],
      "text/plain": [
       "<class 'statsmodels.iolib.summary.Summary'>\n",
       "\"\"\"\n",
       "                            OLS Regression Results                            \n",
       "==============================================================================\n",
       "Dep. Variable:                Minutes   R-squared:                       0.873\n",
       "Model:                            OLS   Adj. R-squared:                  0.873\n",
       "Method:                 Least Squares   F-statistic:                 6.276e+05\n",
       "Date:                Tue, 01 May 2018   Prob (F-statistic):               0.00\n",
       "Time:                        15:52:47   Log-Likelihood:            -2.9817e+06\n",
       "No. Observations:             1182108   AIC:                         5.963e+06\n",
       "Df Residuals:                 1182094   BIC:                         5.964e+06\n",
       "Df Model:                          13                                         \n",
       "Covariance Type:            nonrobust                                         \n",
       "========================================================================================\n",
       "                           coef    std err          t      P>|t|      [0.025      0.975]\n",
       "----------------------------------------------------------------------------------------\n",
       "const                    1.5326      0.031     49.352      0.000       1.472       1.593\n",
       "Distance                 1.0424      0.015     70.764      0.000       1.014       1.071\n",
       "avg_speed               -0.2019      0.005    -44.060      0.000      -0.211      -0.193\n",
       "avg_duration             0.0148   2.47e-05    600.221      0.000       0.015       0.015\n",
       "User Type_Subscriber     0.4430      0.018     24.933      0.000       0.408       0.478\n",
       "Gender_1                -0.6099      0.017    -36.233      0.000      -0.643      -0.577\n",
       "Gender_2                 0.2871      0.017     16.572      0.000       0.253       0.321\n",
       "d_week_1                -0.3085      0.007    -45.352      0.000      -0.322      -0.295\n",
       "m_yr_1                   0.1076      0.009     11.510      0.000       0.089       0.126\n",
       "m_yr_2                   0.2671      0.009     30.544      0.000       0.250       0.284\n",
       "m_yr_3                   0.2092      0.009     23.935      0.000       0.192       0.226\n",
       "ToD_Morning             -0.2132      0.011    -19.619      0.000      -0.234      -0.192\n",
       "ToD_Afternoon            0.4367      0.011     41.158      0.000       0.416       0.458\n",
       "ToD_Evening              0.3530      0.010     35.462      0.000       0.334       0.373\n",
       "==============================================================================\n",
       "Omnibus:                   586582.610   Durbin-Watson:                   2.005\n",
       "Prob(Omnibus):                  0.000   Jarque-Bera (JB):          7187556.319\n",
       "Skew:                           2.096   Prob(JB):                         0.00\n",
       "Kurtosis:                      14.330   Cond. No.                     1.06e+04\n",
       "==============================================================================\n",
       "\n",
       "Warnings:\n",
       "[1] Standard Errors assume that the covariance matrix of the errors is correctly specified.\n",
       "[2] The condition number is large, 1.06e+04. This might indicate that there are\n",
       "strong multicollinearity or other numerical problems.\n",
       "\"\"\""
      ]
     },
     "execution_count": 68,
     "metadata": {},
     "output_type": "execute_result"
    }
   ],
   "source": [
    "#Using Statsmodel because it has the summary function.\n",
    "import statsmodels.api as sm\n",
    "X_train = sm.add_constant(X_train)\n",
    "X_test = sm.add_constant(X_test)\n",
    "regressor_OLS = sm.OLS(y_train, X_train).fit()\n",
    "regressor_OLS.summary()"
   ]
  },
  {
   "cell_type": "markdown",
   "metadata": {
    "collapsed": true
   },
   "source": [
    "### Part 6.4: Predictive Model - Improving Model 2 \n",
    "Model 2 is VERY VERY good.\n",
    "\n",
    "The model above is extremely good. But can I make it even better?\n",
    "\n",
    "- One of the grading requirements for the project is to include an additional data source. Weather and traffic make the most sense. I could include pedestrian traffic data from citibike's website, however, I don't think it'll be too helpful due to the fact that there are now bikelanes in NYC. I could use weather data as well.\n",
    "    - Concerns with using weather data:\n",
    "        - Weather dictates whether or not a rider will bike, not how long they will bike. For weather to determine\n",
    "        how long one will bike, it would have to dictate where they go. However, since grading deends on my ability\n",
    "        to use external data, I'm going to test this hypothesis. If weather is not a strong indicatior, I will remove\n",
    "        it in the next model. "
   ]
  },
  {
   "cell_type": "code",
   "execution_count": 69,
   "metadata": {
    "collapsed": true
   },
   "outputs": [],
   "source": [
    "#Load and clean weather data from 2017 (Min Temp, Max Temp, Precipitation)\n",
    "df_weather = pd.read_csv('weather2017.csv')\n",
    "df_weather = df_weather.iloc[:,1:5]\n",
    "df_weather['DATE'] = to_datetime(df_weather['DATE'])"
   ]
  },
  {
   "cell_type": "code",
   "execution_count": 70,
   "metadata": {
    "collapsed": true
   },
   "outputs": [],
   "source": [
    "#Following code was used to create get_weather()\n",
    "'''\n",
    "df_model3['DATE'] = to_datetime(df_model3['Start Time'].dt.date)\n",
    "\n",
    "\n",
    "df_w = df_weather\n",
    "df_mod = df_model3    \n",
    "\n",
    "df_w.head()\n",
    "df_mod.dtypes\n",
    "test = df_mod.merge(df_w, on = 'DATE', how = 'left')\n",
    "test.head()\n",
    "\n",
    "df = df_model3.merge(df_weather, on = 'DATE', how = 'left')\n",
    "'''\n",
    "\n",
    "def get_weather(df):\n",
    "    df['DATE'] = to_datetime(df['Start Time'].dt.date)\n",
    "    df = df.merge(df_weather, on = 'DATE', how = 'left')\n",
    "    return df"
   ]
  },
  {
   "cell_type": "code",
   "execution_count": 71,
   "metadata": {
    "collapsed": true
   },
   "outputs": [],
   "source": [
    "#Create dataset to test the model on\n",
    "df_model3 = get_speed_distance(df_sample)\n",
    "df_model3 = drop_data(df_model3)\n",
    "df_model3 = get_date_info(df_model3)\n",
    "df_model3 = get_weather(df_model3)\n",
    "df_model3 = df_model3.drop(['Start Time','Trip','DATE'], axis =1)"
   ]
  },
  {
   "cell_type": "code",
   "execution_count": 72,
   "metadata": {
    "collapsed": true
   },
   "outputs": [],
   "source": [
    "#Dummify categorical data and avoid dummy variable trap\n",
    "df_model3 = pd.get_dummies(df_model3, drop_first = True)\n",
    "\n",
    "#Scale Continuous variables\n",
    "from sklearn.preprocessing import StandardScaler\n",
    "sc_m1 = StandardScaler()\n",
    "df_model3['avg_duration'] = sc_m1.fit_transform(df_model3[['avg_duration']])\n",
    "sc_m2 = StandardScaler()\n",
    "df_model3['TMIN'] = sc_m2.fit_transform(df_model3[['TMIN']])\n",
    "sc_m3 = StandardScaler()\n",
    "df_model3['TMAX'] = sc_m3.fit_transform(df_model3[['TMAX']])\n",
    "sc_m4 = StandardScaler()\n",
    "df_model3['PRCP'] = sc_m4.fit_transform(df_model3[['PRCP']])"
   ]
  },
  {
   "cell_type": "code",
   "execution_count": 73,
   "metadata": {
    "collapsed": true
   },
   "outputs": [],
   "source": [
    "#Train Test Split\n",
    "#Predictor variable\n",
    "X = df_model3.iloc[:,1:]\n",
    "#Target variable\n",
    "y = df_model3.iloc[:,0]\n",
    "#Split\n",
    "#from sklearn.cross_validation import train_test_split\n",
    "X_train, X_test, y_train, y_test = train_test_split(X, y, test_size = 0.2, random_state = 0)"
   ]
  },
  {
   "cell_type": "code",
   "execution_count": 74,
   "metadata": {},
   "outputs": [
    {
     "data": {
      "text/plain": [
       "0.87331937535506987"
      ]
     },
     "execution_count": 74,
     "metadata": {},
     "output_type": "execute_result"
    }
   ],
   "source": [
    "#Fit Linear Regression and check accuracy using sklearn\n",
    "from sklearn.linear_model import LinearRegression\n",
    "regressor = LinearRegression()\n",
    "regressor.fit(X_train, y_train)\n",
    "regressor.score(X_test,y_test)"
   ]
  },
  {
   "cell_type": "code",
   "execution_count": 75,
   "metadata": {},
   "outputs": [
    {
     "data": {
      "text/html": [
       "<table class=\"simpletable\">\n",
       "<caption>OLS Regression Results</caption>\n",
       "<tr>\n",
       "  <th>Dep. Variable:</th>         <td>Minutes</td>     <th>  R-squared:         </th>  <td>   0.874</td>  \n",
       "</tr>\n",
       "<tr>\n",
       "  <th>Model:</th>                   <td>OLS</td>       <th>  Adj. R-squared:    </th>  <td>   0.874</td>  \n",
       "</tr>\n",
       "<tr>\n",
       "  <th>Method:</th>             <td>Least Squares</td>  <th>  F-statistic:       </th>  <td>5.105e+05</td> \n",
       "</tr>\n",
       "<tr>\n",
       "  <th>Date:</th>             <td>Tue, 01 May 2018</td> <th>  Prob (F-statistic):</th>   <td>  0.00</td>   \n",
       "</tr>\n",
       "<tr>\n",
       "  <th>Time:</th>                 <td>15:53:50</td>     <th>  Log-Likelihood:    </th> <td>-2.9811e+06</td>\n",
       "</tr>\n",
       "<tr>\n",
       "  <th>No. Observations:</th>      <td>1182108</td>     <th>  AIC:               </th>  <td>5.962e+06</td> \n",
       "</tr>\n",
       "<tr>\n",
       "  <th>Df Residuals:</th>          <td>1182091</td>     <th>  BIC:               </th>  <td>5.962e+06</td> \n",
       "</tr>\n",
       "<tr>\n",
       "  <th>Df Model:</th>              <td>    16</td>      <th>                     </th>      <td> </td>     \n",
       "</tr>\n",
       "<tr>\n",
       "  <th>Covariance Type:</th>      <td>nonrobust</td>    <th>                     </th>      <td> </td>     \n",
       "</tr>\n",
       "</table>\n",
       "<table class=\"simpletable\">\n",
       "<tr>\n",
       "            <td></td>              <th>coef</th>     <th>std err</th>      <th>t</th>      <th>P>|t|</th>  <th>[0.025</th>    <th>0.975]</th>  \n",
       "</tr>\n",
       "<tr>\n",
       "  <th>const</th>                <td>   12.3183</td> <td>    0.021</td> <td>  583.505</td> <td> 0.000</td> <td>   12.277</td> <td>   12.360</td>\n",
       "</tr>\n",
       "<tr>\n",
       "  <th>Distance</th>             <td>    1.0406</td> <td>    0.015</td> <td>   70.673</td> <td> 0.000</td> <td>    1.012</td> <td>    1.069</td>\n",
       "</tr>\n",
       "<tr>\n",
       "  <th>avg_speed</th>            <td>   -0.2016</td> <td>    0.005</td> <td>  -44.017</td> <td> 0.000</td> <td>   -0.211</td> <td>   -0.193</td>\n",
       "</tr>\n",
       "<tr>\n",
       "  <th>avg_duration</th>         <td>    7.0767</td> <td>    0.012</td> <td>  600.214</td> <td> 0.000</td> <td>    7.054</td> <td>    7.100</td>\n",
       "</tr>\n",
       "<tr>\n",
       "  <th>PRCP</th>                 <td>   -0.0192</td> <td>    0.003</td> <td>   -6.696</td> <td> 0.000</td> <td>   -0.025</td> <td>   -0.014</td>\n",
       "</tr>\n",
       "<tr>\n",
       "  <th>TMAX</th>                 <td>    0.1723</td> <td>    0.009</td> <td>   18.791</td> <td> 0.000</td> <td>    0.154</td> <td>    0.190</td>\n",
       "</tr>\n",
       "<tr>\n",
       "  <th>TMIN</th>                 <td>   -0.0471</td> <td>    0.009</td> <td>   -5.056</td> <td> 0.000</td> <td>   -0.065</td> <td>   -0.029</td>\n",
       "</tr>\n",
       "<tr>\n",
       "  <th>User Type_Subscriber</th> <td>    0.4588</td> <td>    0.018</td> <td>   25.825</td> <td> 0.000</td> <td>    0.424</td> <td>    0.494</td>\n",
       "</tr>\n",
       "<tr>\n",
       "  <th>Gender_1</th>             <td>   -0.6077</td> <td>    0.017</td> <td>  -36.119</td> <td> 0.000</td> <td>   -0.641</td> <td>   -0.575</td>\n",
       "</tr>\n",
       "<tr>\n",
       "  <th>Gender_2</th>             <td>    0.2858</td> <td>    0.017</td> <td>   16.500</td> <td> 0.000</td> <td>    0.252</td> <td>    0.320</td>\n",
       "</tr>\n",
       "<tr>\n",
       "  <th>d_week_1</th>             <td>   -0.3152</td> <td>    0.007</td> <td>  -46.312</td> <td> 0.000</td> <td>   -0.329</td> <td>   -0.302</td>\n",
       "</tr>\n",
       "<tr>\n",
       "  <th>m_yr_1</th>               <td>   -0.0479</td> <td>    0.011</td> <td>   -4.539</td> <td> 0.000</td> <td>   -0.069</td> <td>   -0.027</td>\n",
       "</tr>\n",
       "<tr>\n",
       "  <th>m_yr_2</th>               <td>   -0.0135</td> <td>    0.013</td> <td>   -1.033</td> <td> 0.302</td> <td>   -0.039</td> <td>    0.012</td>\n",
       "</tr>\n",
       "<tr>\n",
       "  <th>m_yr_3</th>               <td>    0.0169</td> <td>    0.011</td> <td>    1.580</td> <td> 0.114</td> <td>   -0.004</td> <td>    0.038</td>\n",
       "</tr>\n",
       "<tr>\n",
       "  <th>ToD_Morning</th>          <td>   -0.2098</td> <td>    0.011</td> <td>  -19.316</td> <td> 0.000</td> <td>   -0.231</td> <td>   -0.189</td>\n",
       "</tr>\n",
       "<tr>\n",
       "  <th>ToD_Afternoon</th>        <td>    0.4388</td> <td>    0.011</td> <td>   41.358</td> <td> 0.000</td> <td>    0.418</td> <td>    0.460</td>\n",
       "</tr>\n",
       "<tr>\n",
       "  <th>ToD_Evening</th>          <td>    0.3532</td> <td>    0.010</td> <td>   35.492</td> <td> 0.000</td> <td>    0.334</td> <td>    0.373</td>\n",
       "</tr>\n",
       "</table>\n",
       "<table class=\"simpletable\">\n",
       "<tr>\n",
       "  <th>Omnibus:</th>       <td>586072.069</td> <th>  Durbin-Watson:     </th>  <td>   2.005</td>  \n",
       "</tr>\n",
       "<tr>\n",
       "  <th>Prob(Omnibus):</th>   <td> 0.000</td>   <th>  Jarque-Bera (JB):  </th> <td>7180839.761</td>\n",
       "</tr>\n",
       "<tr>\n",
       "  <th>Skew:</th>            <td> 2.093</td>   <th>  Prob(JB):          </th>  <td>    0.00</td>  \n",
       "</tr>\n",
       "<tr>\n",
       "  <th>Kurtosis:</th>        <td>14.325</td>   <th>  Cond. No.          </th>  <td>    64.5</td>  \n",
       "</tr>\n",
       "</table>"
      ],
      "text/plain": [
       "<class 'statsmodels.iolib.summary.Summary'>\n",
       "\"\"\"\n",
       "                            OLS Regression Results                            \n",
       "==============================================================================\n",
       "Dep. Variable:                Minutes   R-squared:                       0.874\n",
       "Model:                            OLS   Adj. R-squared:                  0.874\n",
       "Method:                 Least Squares   F-statistic:                 5.105e+05\n",
       "Date:                Tue, 01 May 2018   Prob (F-statistic):               0.00\n",
       "Time:                        15:53:50   Log-Likelihood:            -2.9811e+06\n",
       "No. Observations:             1182108   AIC:                         5.962e+06\n",
       "Df Residuals:                 1182091   BIC:                         5.962e+06\n",
       "Df Model:                          16                                         \n",
       "Covariance Type:            nonrobust                                         \n",
       "========================================================================================\n",
       "                           coef    std err          t      P>|t|      [0.025      0.975]\n",
       "----------------------------------------------------------------------------------------\n",
       "const                   12.3183      0.021    583.505      0.000      12.277      12.360\n",
       "Distance                 1.0406      0.015     70.673      0.000       1.012       1.069\n",
       "avg_speed               -0.2016      0.005    -44.017      0.000      -0.211      -0.193\n",
       "avg_duration             7.0767      0.012    600.214      0.000       7.054       7.100\n",
       "PRCP                    -0.0192      0.003     -6.696      0.000      -0.025      -0.014\n",
       "TMAX                     0.1723      0.009     18.791      0.000       0.154       0.190\n",
       "TMIN                    -0.0471      0.009     -5.056      0.000      -0.065      -0.029\n",
       "User Type_Subscriber     0.4588      0.018     25.825      0.000       0.424       0.494\n",
       "Gender_1                -0.6077      0.017    -36.119      0.000      -0.641      -0.575\n",
       "Gender_2                 0.2858      0.017     16.500      0.000       0.252       0.320\n",
       "d_week_1                -0.3152      0.007    -46.312      0.000      -0.329      -0.302\n",
       "m_yr_1                  -0.0479      0.011     -4.539      0.000      -0.069      -0.027\n",
       "m_yr_2                  -0.0135      0.013     -1.033      0.302      -0.039       0.012\n",
       "m_yr_3                   0.0169      0.011      1.580      0.114      -0.004       0.038\n",
       "ToD_Morning             -0.2098      0.011    -19.316      0.000      -0.231      -0.189\n",
       "ToD_Afternoon            0.4388      0.011     41.358      0.000       0.418       0.460\n",
       "ToD_Evening              0.3532      0.010     35.492      0.000       0.334       0.373\n",
       "==============================================================================\n",
       "Omnibus:                   586072.069   Durbin-Watson:                   2.005\n",
       "Prob(Omnibus):                  0.000   Jarque-Bera (JB):          7180839.761\n",
       "Skew:                           2.093   Prob(JB):                         0.00\n",
       "Kurtosis:                      14.325   Cond. No.                         64.5\n",
       "==============================================================================\n",
       "\n",
       "Warnings:\n",
       "[1] Standard Errors assume that the covariance matrix of the errors is correctly specified.\n",
       "\"\"\""
      ]
     },
     "execution_count": 75,
     "metadata": {},
     "output_type": "execute_result"
    }
   ],
   "source": [
    "#Using Statsmodel because it has the summary function.\n",
    "import statsmodels.api as sm\n",
    "X_train = sm.add_constant(X_train)\n",
    "X_test = sm.add_constant(X_test)\n",
    "regressor_OLS = sm.OLS(y_train, X_train).fit()\n",
    "regressor_OLS.summary()"
   ]
  },
  {
   "cell_type": "code",
   "execution_count": 76,
   "metadata": {},
   "outputs": [
    {
     "name": "stdout",
     "output_type": "stream",
     "text": [
      "CV accuracy: 0.874 +/- 0.001\n"
     ]
    }
   ],
   "source": [
    "#Ensure model accuracy with cross validation\n",
    "from sklearn.model_selection import cross_val_score\n",
    "scores = cross_val_score(regressor, X_train, y_train, cv=10)\n",
    "print('CV accuracy: %.3f +/- %.3f' % (np.mean(scores), np.std(scores)))"
   ]
  },
  {
   "cell_type": "markdown",
   "metadata": {},
   "source": [
    "- Removing unnecessary variables based on correlation: ToD, m_yr, PRCP, TMAX,TMIN"
   ]
  },
  {
   "cell_type": "code",
   "execution_count": 77,
   "metadata": {
    "collapsed": true
   },
   "outputs": [],
   "source": [
    "#Create dataset to test the model on\n",
    "df_model4 = get_speed_distance(df_sample)\n",
    "df_model4 = drop_data(df_model4)\n",
    "df_model4 = get_date_info(df_model4)\n",
    "df_model4 = get_weather(df_model4)\n",
    "df_model4 = df_model4.drop(['Start Time','Trip','DATE','PRCP','TMAX','TMIN'], axis =1)"
   ]
  },
  {
   "cell_type": "code",
   "execution_count": 78,
   "metadata": {
    "collapsed": true
   },
   "outputs": [],
   "source": [
    "#Dummify categorical data and avoid dummy variable trap\n",
    "df_model4 = pd.get_dummies(df_model4, drop_first = True)\n",
    "\n",
    "#Scale Continuous variables\n",
    "from sklearn.preprocessing import StandardScaler\n",
    "sc_m1 = StandardScaler()\n",
    "df_model4['avg_duration'] = sc_m1.fit_transform(df_model4[['avg_duration']])"
   ]
  },
  {
   "cell_type": "code",
   "execution_count": 79,
   "metadata": {
    "collapsed": true
   },
   "outputs": [],
   "source": [
    "#Train Test Split\n",
    "#Predictor variable\n",
    "X = df_model4.iloc[:,1:]\n",
    "#Target variable\n",
    "y = df_model4.iloc[:,0]\n",
    "#Split\n",
    "#from sklearn.cross_validation import train_test_split\n",
    "X_train, X_test, y_train, y_test = train_test_split(X, y, test_size = 0.2, random_state = 0)"
   ]
  },
  {
   "cell_type": "code",
   "execution_count": 80,
   "metadata": {},
   "outputs": [
    {
     "data": {
      "text/plain": [
       "0.87318625351924339"
      ]
     },
     "execution_count": 80,
     "metadata": {},
     "output_type": "execute_result"
    }
   ],
   "source": [
    "#Fit Linear Regression and check accuracy using sklearn\n",
    "from sklearn.linear_model import LinearRegression\n",
    "regressor = LinearRegression()\n",
    "regressor.fit(X_train, y_train)\n",
    "regressor.score(X_test,y_test)"
   ]
  },
  {
   "cell_type": "markdown",
   "metadata": {},
   "source": [
    "#### Assesing the viability of a different model such as RandomForest"
   ]
  },
  {
   "cell_type": "code",
   "execution_count": 81,
   "metadata": {},
   "outputs": [
    {
     "data": {
      "text/plain": [
       "0.87417082193616646"
      ]
     },
     "execution_count": 81,
     "metadata": {},
     "output_type": "execute_result"
    }
   ],
   "source": [
    "#Ensemble algorithm, to see if there's a drastic difference, n_est. and min_samples_leaf determined after testing\n",
    "from sklearn.ensemble import RandomForestRegressor\n",
    "\n",
    "regressor_rf = RandomForestRegressor(n_estimators = 80, random_state = 0, min_samples_leaf = 600)\n",
    "regressor_rf.fit(X_train,y_train)\n",
    "regressor_rf.score(X_test,y_test)"
   ]
  },
  {
   "cell_type": "markdown",
   "metadata": {},
   "source": [
    "### Part 6.5: Predictive Model - Final Model\n",
    "- As I thought, weather is not a major contributor to the model. Thus, I'll be taking out weather. Additionally, I'll be taking out date attributes as mentioned earlier. \n",
    "    1. The ensemble algorithm, Random Forest takes much longer to run (even with a low n_estimators). If the run\n",
    "    time is 5 minutes on ~1.5 million rows, I don't want to take the risk on ~15 million rows of data. \n",
    "    2. I could've used XGboost and other fancy algorithms, however, for a dataset of this size, it would take too\n",
    "    long to run and the gains wouldn't be worth it if there are any. \n",
    "    3. Final Model:\n",
    "        - Linear Regression:\n",
    "            - Predictors: Distance, Gender, Average Duration based on Trip and Gender, User Type"
   ]
  },
  {
   "cell_type": "code",
   "execution_count": 82,
   "metadata": {
    "collapsed": true
   },
   "outputs": [],
   "source": [
    "def prep_data(df):\n",
    "    df = get_speed_distance(df)\n",
    "    df = drop_data(df)\n",
    "    df = get_date_info(df)\n",
    "    df = df.drop(['Start Time','Trip'], axis =1)\n",
    "    return df\n",
    "\n",
    "df_final = prep_data(df)"
   ]
  },
  {
   "cell_type": "code",
   "execution_count": 83,
   "metadata": {
    "collapsed": true
   },
   "outputs": [],
   "source": [
    "#Dummify categorical data and avoid dummy variable trap\n",
    "df_final = pd.get_dummies(df_final, drop_first = True)\n",
    "\n",
    "#Scale Continuous variables\n",
    "from sklearn.preprocessing import StandardScaler\n",
    "sc_m1 = StandardScaler()\n",
    "df_final['avg_duration'] = sc_m1.fit_transform(df_final[['avg_duration']])\n",
    "sc_m1 = StandardScaler()\n",
    "df_final['avg_speed'] = sc_m1.fit_transform(df_final[['avg_speed']])"
   ]
  },
  {
   "cell_type": "code",
   "execution_count": 84,
   "metadata": {
    "collapsed": true
   },
   "outputs": [],
   "source": [
    "#Train Test Split\n",
    "#Predictor variable\n",
    "X = df_final.iloc[:,1:]\n",
    "#Target variable\n",
    "y = df_final.iloc[:,0]\n",
    "#Split\n",
    "#from sklearn.cross_validation import train_test_split\n",
    "X_train, X_test, y_train, y_test = train_test_split(X, y, test_size = 0.2, random_state = 0)"
   ]
  },
  {
   "cell_type": "code",
   "execution_count": 85,
   "metadata": {},
   "outputs": [
    {
     "data": {
      "text/plain": [
       "0.84681359784279886"
      ]
     },
     "execution_count": 85,
     "metadata": {},
     "output_type": "execute_result"
    }
   ],
   "source": [
    "#Fit Linear Regression and check accuracy using sklearn\n",
    "from sklearn.linear_model import LinearRegression\n",
    "regressor = LinearRegression()\n",
    "regressor.fit(X_train, y_train)\n",
    "regressor.score(X_test,y_test)"
   ]
  },
  {
   "cell_type": "code",
   "execution_count": 86,
   "metadata": {},
   "outputs": [
    {
     "data": {
      "text/html": [
       "<table class=\"simpletable\">\n",
       "<caption>OLS Regression Results</caption>\n",
       "<tr>\n",
       "  <th>Dep. Variable:</th>         <td>Minutes</td>     <th>  R-squared:         </th>  <td>   0.847</td>  \n",
       "</tr>\n",
       "<tr>\n",
       "  <th>Model:</th>                   <td>OLS</td>       <th>  Adj. R-squared:    </th>  <td>   0.847</td>  \n",
       "</tr>\n",
       "<tr>\n",
       "  <th>Method:</th>             <td>Least Squares</td>  <th>  F-statistic:       </th>  <td>5.022e+06</td> \n",
       "</tr>\n",
       "<tr>\n",
       "  <th>Date:</th>             <td>Tue, 01 May 2018</td> <th>  Prob (F-statistic):</th>   <td>  0.00</td>   \n",
       "</tr>\n",
       "<tr>\n",
       "  <th>Time:</th>                 <td>16:09:28</td>     <th>  Log-Likelihood:    </th> <td>-3.0951e+07</td>\n",
       "</tr>\n",
       "<tr>\n",
       "  <th>No. Observations:</th>     <td>11821083</td>     <th>  AIC:               </th>  <td>6.190e+07</td> \n",
       "</tr>\n",
       "<tr>\n",
       "  <th>Df Residuals:</th>         <td>11821069</td>     <th>  BIC:               </th>  <td>6.190e+07</td> \n",
       "</tr>\n",
       "<tr>\n",
       "  <th>Df Model:</th>              <td>    13</td>      <th>                     </th>      <td> </td>     \n",
       "</tr>\n",
       "<tr>\n",
       "  <th>Covariance Type:</th>      <td>nonrobust</td>    <th>                     </th>      <td> </td>     \n",
       "</tr>\n",
       "</table>\n",
       "<table class=\"simpletable\">\n",
       "<tr>\n",
       "            <td></td>              <th>coef</th>     <th>std err</th>      <th>t</th>      <th>P>|t|</th>  <th>[0.025</th>    <th>0.975]</th>  \n",
       "</tr>\n",
       "<tr>\n",
       "  <th>const</th>                <td>   11.1891</td> <td>    0.008</td> <td> 1386.081</td> <td> 0.000</td> <td>   11.173</td> <td>   11.205</td>\n",
       "</tr>\n",
       "<tr>\n",
       "  <th>Distance</th>             <td>    0.8640</td> <td>    0.006</td> <td>  152.365</td> <td> 0.000</td> <td>    0.853</td> <td>    0.875</td>\n",
       "</tr>\n",
       "<tr>\n",
       "  <th>avg_speed</th>            <td>   -0.1208</td> <td>    0.002</td> <td>  -64.772</td> <td> 0.000</td> <td>   -0.124</td> <td>   -0.117</td>\n",
       "</tr>\n",
       "<tr>\n",
       "  <th>avg_duration</th>         <td>    7.0782</td> <td>    0.005</td> <td> 1566.123</td> <td> 0.000</td> <td>    7.069</td> <td>    7.087</td>\n",
       "</tr>\n",
       "<tr>\n",
       "  <th>User Type_Subscriber</th> <td>    0.4831</td> <td>    0.006</td> <td>   76.538</td> <td> 0.000</td> <td>    0.471</td> <td>    0.495</td>\n",
       "</tr>\n",
       "<tr>\n",
       "  <th>Gender_1</th>             <td>   -0.7442</td> <td>    0.006</td> <td> -126.893</td> <td> 0.000</td> <td>   -0.756</td> <td>   -0.733</td>\n",
       "</tr>\n",
       "<tr>\n",
       "  <th>Gender_2</th>             <td>    0.3127</td> <td>    0.006</td> <td>   51.771</td> <td> 0.000</td> <td>    0.301</td> <td>    0.325</td>\n",
       "</tr>\n",
       "<tr>\n",
       "  <th>d_week_1</th>             <td>   -0.3606</td> <td>    0.002</td> <td> -152.289</td> <td> 0.000</td> <td>   -0.365</td> <td>   -0.356</td>\n",
       "</tr>\n",
       "<tr>\n",
       "  <th>m_yr_1</th>               <td>    0.1159</td> <td>    0.003</td> <td>   35.574</td> <td> 0.000</td> <td>    0.109</td> <td>    0.122</td>\n",
       "</tr>\n",
       "<tr>\n",
       "  <th>m_yr_2</th>               <td>    0.2937</td> <td>    0.003</td> <td>   96.371</td> <td> 0.000</td> <td>    0.288</td> <td>    0.300</td>\n",
       "</tr>\n",
       "<tr>\n",
       "  <th>m_yr_3</th>               <td>    0.2373</td> <td>    0.003</td> <td>   77.924</td> <td> 0.000</td> <td>    0.231</td> <td>    0.243</td>\n",
       "</tr>\n",
       "<tr>\n",
       "  <th>ToD_Morning</th>          <td>   -0.2384</td> <td>    0.004</td> <td>  -63.109</td> <td> 0.000</td> <td>   -0.246</td> <td>   -0.231</td>\n",
       "</tr>\n",
       "<tr>\n",
       "  <th>ToD_Afternoon</th>        <td>    0.5252</td> <td>    0.004</td> <td>  142.360</td> <td> 0.000</td> <td>    0.518</td> <td>    0.532</td>\n",
       "</tr>\n",
       "<tr>\n",
       "  <th>ToD_Evening</th>          <td>    0.4207</td> <td>    0.003</td> <td>  121.635</td> <td> 0.000</td> <td>    0.414</td> <td>    0.428</td>\n",
       "</tr>\n",
       "</table>\n",
       "<table class=\"simpletable\">\n",
       "<tr>\n",
       "  <th>Omnibus:</th>       <td>5240434.515</td> <th>  Durbin-Watson:     </th>   <td>   1.999</td>  \n",
       "</tr>\n",
       "<tr>\n",
       "  <th>Prob(Omnibus):</th>   <td> 0.000</td>    <th>  Jarque-Bera (JB):  </th> <td>47593846.818</td>\n",
       "</tr>\n",
       "<tr>\n",
       "  <th>Skew:</th>            <td> 1.911</td>    <th>  Prob(JB):          </th>   <td>    0.00</td>  \n",
       "</tr>\n",
       "<tr>\n",
       "  <th>Kurtosis:</th>        <td>12.057</td>    <th>  Cond. No.          </th>   <td>    24.3</td>  \n",
       "</tr>\n",
       "</table>"
      ],
      "text/plain": [
       "<class 'statsmodels.iolib.summary.Summary'>\n",
       "\"\"\"\n",
       "                            OLS Regression Results                            \n",
       "==============================================================================\n",
       "Dep. Variable:                Minutes   R-squared:                       0.847\n",
       "Model:                            OLS   Adj. R-squared:                  0.847\n",
       "Method:                 Least Squares   F-statistic:                 5.022e+06\n",
       "Date:                Tue, 01 May 2018   Prob (F-statistic):               0.00\n",
       "Time:                        16:09:28   Log-Likelihood:            -3.0951e+07\n",
       "No. Observations:            11821083   AIC:                         6.190e+07\n",
       "Df Residuals:                11821069   BIC:                         6.190e+07\n",
       "Df Model:                          13                                         \n",
       "Covariance Type:            nonrobust                                         \n",
       "========================================================================================\n",
       "                           coef    std err          t      P>|t|      [0.025      0.975]\n",
       "----------------------------------------------------------------------------------------\n",
       "const                   11.1891      0.008   1386.081      0.000      11.173      11.205\n",
       "Distance                 0.8640      0.006    152.365      0.000       0.853       0.875\n",
       "avg_speed               -0.1208      0.002    -64.772      0.000      -0.124      -0.117\n",
       "avg_duration             7.0782      0.005   1566.123      0.000       7.069       7.087\n",
       "User Type_Subscriber     0.4831      0.006     76.538      0.000       0.471       0.495\n",
       "Gender_1                -0.7442      0.006   -126.893      0.000      -0.756      -0.733\n",
       "Gender_2                 0.3127      0.006     51.771      0.000       0.301       0.325\n",
       "d_week_1                -0.3606      0.002   -152.289      0.000      -0.365      -0.356\n",
       "m_yr_1                   0.1159      0.003     35.574      0.000       0.109       0.122\n",
       "m_yr_2                   0.2937      0.003     96.371      0.000       0.288       0.300\n",
       "m_yr_3                   0.2373      0.003     77.924      0.000       0.231       0.243\n",
       "ToD_Morning             -0.2384      0.004    -63.109      0.000      -0.246      -0.231\n",
       "ToD_Afternoon            0.5252      0.004    142.360      0.000       0.518       0.532\n",
       "ToD_Evening              0.4207      0.003    121.635      0.000       0.414       0.428\n",
       "==============================================================================\n",
       "Omnibus:                  5240434.515   Durbin-Watson:                   1.999\n",
       "Prob(Omnibus):                  0.000   Jarque-Bera (JB):         47593846.818\n",
       "Skew:                           1.911   Prob(JB):                         0.00\n",
       "Kurtosis:                      12.057   Cond. No.                         24.3\n",
       "==============================================================================\n",
       "\n",
       "Warnings:\n",
       "[1] Standard Errors assume that the covariance matrix of the errors is correctly specified.\n",
       "\"\"\""
      ]
     },
     "execution_count": 86,
     "metadata": {},
     "output_type": "execute_result"
    }
   ],
   "source": [
    "#Using Statsmodel because it has the summary function.\n",
    "import statsmodels.api as sm\n",
    "X_train = sm.add_constant(X_train)\n",
    "X_test = sm.add_constant(X_test)\n",
    "regressor_OLS = sm.OLS(y_train, X_train).fit()\n",
    "regressor_OLS.summary()"
   ]
  },
  {
   "cell_type": "code",
   "execution_count": 87,
   "metadata": {},
   "outputs": [
    {
     "name": "stdout",
     "output_type": "stream",
     "text": [
      "CV accuracy: 0.847 +/- 0.000\n"
     ]
    }
   ],
   "source": [
    "#Ensure model accuracy with cross validation\n",
    "from sklearn.model_selection import cross_val_score\n",
    "scores = cross_val_score(regressor, X_train, y_train, cv=5)\n",
    "print('CV accuracy: %.3f +/- %.3f' % (np.mean(scores), np.std(scores)))"
   ]
  }
 ],
 "metadata": {
  "kernelspec": {
   "display_name": "Python 3",
   "language": "python",
   "name": "python3"
  },
  "language_info": {
   "codemirror_mode": {
    "name": "ipython",
    "version": 3
   },
   "file_extension": ".py",
   "mimetype": "text/x-python",
   "name": "python",
   "nbconvert_exporter": "python",
   "pygments_lexer": "ipython3",
   "version": "3.6.3"
  }
 },
 "nbformat": 4,
 "nbformat_minor": 2
}
