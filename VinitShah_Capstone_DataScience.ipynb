{
 "cells": [
  {
   "cell_type": "markdown",
   "metadata": {},
   "source": [
    "# Citibike Case Analysis: Vinit Shah, Analytics Consultant"
   ]
  },
  {
   "cell_type": "markdown",
   "metadata": {},
   "source": [
    "### Background, Context, and Objective\n",
    "**Client:** Mayor of New York City, Bill de Blasio<br />\n",
    "**Objective:** Help the mayor get a better understanding of citibike ridership by creating an operating report for 2017.\n",
    "\n",
    "**Ask:** <br />\n",
    "    1. Top 5 stations with the most starts (showing # of starts)\n",
    "    2. Trip duration by user type\n",
    "    3. Most popular trips based on start station and stop station)\n",
    "    4. Rider performance by Gender and Age based on avg trip distance (station to station), \n",
    "       median speed (trip duration / distance traveled)\n",
    "    5. What is the busiest bike in NYC in 2017? How many times was it used? How many minutes was it in use?\n",
    "    6. A model that can predict how long a trip will take given a starting point and destination. \n",
    "\n",
    "First, let's minimize the work and load in the data set. Aggregate all the months and save the data as a csv to not require this to be done in the future.\n",
    "\n",
    "The column names have spaces in them, would be great to remove them for working purposes. However, not necessary. If I was working on a team or a long term project, I would ocnfigure column names a little bit differently to make them easier to work with.\n",
    "    \n",
    "The dataset is massive, ~16mil rows. BigData tools would be helpful, however, most require you to pay or have an enterprise license or a limited trial. Additionally, the data is very dirty. Different files have different column names, need to account for this. Mayor de Blasio doesn't have a technical background. The graphs here are as simple yet informative as possible. I could've made more complicated plots, however, they would not be as informative for the mayor.\n",
    "\n",
    "- Lastly, my analysis tries best to follow the crisp-dm methodology outlined below. "
   ]
  },
  {
   "attachments": {
    "CRISP-DM-methodology.png": {
     "image/png": "[encoded data removed]"
    }
   },
   "cell_type": "markdown",
   "metadata": {},
   "source": [
    "![CRISP-DM-methodology.png](attachment:CRISP-DM-methodology.png)"
   ]
  },
  {
   "cell_type": "code",
   "execution_count": 2,
   "metadata": {
    "collapsed": true
   },
   "outputs": [],
   "source": [
    "###################### Load Libraries and Data ######################\n",
    "import numpy as np\n",
    "import matplotlib.pyplot as plt\n",
    "import pandas as pd\n",
    "from pandas import *\n",
    "import seaborn as sns\n",
    "from matplotlib import rcParams\n",
    "import datetime as dt"
   ]
  },
  {
   "cell_type": "markdown",
   "metadata": {},
   "source": [
    "### Part 1: Top 5 Stations \n",
    "Let's check if there's any noise or cleanup which needs to be done before creating the chart. <br />\n",
    "1. Any missing values?<br />\n",
    "    - Mostly for Birth year and a few for User Type. We can ignore these for now and deal with them later.<br />\n",
    "2. Let's get the data in the right format<br />\n",
    "    - Trip Duration - Int<br />\n",
    "    - Start Time - DateTime<br />\n",
    "    - Stop Time - DateTime<br />\n",
    "    - Start Station ID - Categorical<br />\n",
    "    - Start Station Name - Categorical<br />\n",
    "    - User Type - Categorical<br />\n",
    "    - Birth Year - Ordinal<br />\n",
    "    - Gender - Categorical<br />\n",
    "3. Deal with trips which lasted less than 1.5 minute (90 seconds). If so, in the ideal world, we should not include this start, we may double count. If a bike is broken, a user will dock it again within a minute or two and pick-up another one.<br />\n",
    "   - Would be ideal to not include any starts where a tip lasted less than 90 seconds *and* the start station = end station.<br /> \n",
    "4. Anomalies such as theft and broken docks shouldn't matter for this metric and can be dealth with later."
   ]
  },
  {
   "cell_type": "markdown",
   "metadata": {},
   "source": [
    "*The following code was used to load the Citibike data in one go. If you plan to use the same code, please make sure the only csv files in the working directory are the relevant citibike data files.*"
   ]
  },
  {
   "cell_type": "code",
   "execution_count": null,
   "metadata": {
    "collapsed": true
   },
   "outputs": [],
   "source": [
    "#Set working directory to correct folder, or add path\n",
    "#Minimize work to load data. Can be done in other ways as well. There may be a more effecient way to do this. Haven't explored this too deeply. \n",
    "\n",
    "\n",
    "#****************************************************************************************\n",
    "#files = !ls *.csv #For Ipython only\n",
    "#df = concat([read_csv(f, header=None,low_memory=False) for f in files], keys=files) #header = None because some files don't have a header\n",
    "#****************************************************************************************\n",
    "\n",
    "#Let's see what we're working with\n",
    "#df.describe()\n",
    "#df.describe(include = all)\n",
    "#df.dtypes\n",
    "##Scrappy way to get column names in the header.\n",
    "#df2 = pd.read_csv('jan.csv')\n",
    "#df.columns = df2.columns\n",
    "#del[df2]\n",
    "#df = df[df[1] != 'starttime']#Could've just dropped duplicate rows here as well\n",
    "#df = df[df[1] != 'Start Time']\n",
    "#Saved csv to avoid running code above multiple times in the future\n",
    "#df.to_csv('2017.csv')"
   ]
  },
  {
   "cell_type": "code",
   "execution_count": 3,
   "metadata": {},
   "outputs": [
    {
     "data": {
      "text/html": [
       "<div>\n",
       "<style>\n",
       "    .dataframe thead tr:only-child th {\n",
       "        text-align: right;\n",
       "    }\n",
       "\n",
       "    .dataframe thead th {\n",
       "        text-align: left;\n",
       "    }\n",
       "\n",
       "    .dataframe tbody tr th {\n",
       "        vertical-align: top;\n",
       "    }\n",
       "</style>\n",
       "<table border=\"1\" class=\"dataframe\">\n",
       "  <thead>\n",
       "    <tr style=\"text-align: right;\">\n",
       "      <th></th>\n",
       "      <th>Trip Duration</th>\n",
       "      <th>Start Time</th>\n",
       "      <th>Stop Time</th>\n",
       "      <th>Start Station ID</th>\n",
       "      <th>Start Station Name</th>\n",
       "      <th>Start Station Latitude</th>\n",
       "      <th>Start Station Longitude</th>\n",
       "      <th>End Station ID</th>\n",
       "      <th>End Station Name</th>\n",
       "      <th>End Station Latitude</th>\n",
       "      <th>End Station Longitude</th>\n",
       "      <th>Bike ID</th>\n",
       "      <th>User Type</th>\n",
       "      <th>Birth Year</th>\n",
       "      <th>Gender</th>\n",
       "    </tr>\n",
       "  </thead>\n",
       "  <tbody>\n",
       "    <tr>\n",
       "      <th>0</th>\n",
       "      <td>195</td>\n",
       "      <td>2017-04-01 00:00:58</td>\n",
       "      <td>2017-04-01 00:04:14</td>\n",
       "      <td>217</td>\n",
       "      <td>Old Fulton St</td>\n",
       "      <td>40.702772</td>\n",
       "      <td>-73.993836</td>\n",
       "      <td>430</td>\n",
       "      <td>York St &amp; Jay St</td>\n",
       "      <td>40.701485</td>\n",
       "      <td>-73.986569</td>\n",
       "      <td>25454</td>\n",
       "      <td>Subscriber</td>\n",
       "      <td>1966.0</td>\n",
       "      <td>1</td>\n",
       "    </tr>\n",
       "    <tr>\n",
       "      <th>1</th>\n",
       "      <td>585</td>\n",
       "      <td>2017-04-01 00:01:54</td>\n",
       "      <td>2017-04-01 00:11:40</td>\n",
       "      <td>490</td>\n",
       "      <td>8 Ave &amp; W 33 St</td>\n",
       "      <td>40.751551</td>\n",
       "      <td>-73.993934</td>\n",
       "      <td>3158</td>\n",
       "      <td>W 63 St &amp; Broadway</td>\n",
       "      <td>40.771639</td>\n",
       "      <td>-73.982614</td>\n",
       "      <td>25930</td>\n",
       "      <td>Subscriber</td>\n",
       "      <td>1995.0</td>\n",
       "      <td>1</td>\n",
       "    </tr>\n",
       "    <tr>\n",
       "      <th>2</th>\n",
       "      <td>665</td>\n",
       "      <td>2017-04-01 00:01:56</td>\n",
       "      <td>2017-04-01 00:13:01</td>\n",
       "      <td>504</td>\n",
       "      <td>1 Ave &amp; E 16 St</td>\n",
       "      <td>40.732219</td>\n",
       "      <td>-73.981656</td>\n",
       "      <td>412</td>\n",
       "      <td>Forsyth St &amp; Canal St</td>\n",
       "      <td>40.715816</td>\n",
       "      <td>-73.994224</td>\n",
       "      <td>27110</td>\n",
       "      <td>Subscriber</td>\n",
       "      <td>1987.0</td>\n",
       "      <td>1</td>\n",
       "    </tr>\n",
       "    <tr>\n",
       "      <th>3</th>\n",
       "      <td>262</td>\n",
       "      <td>2017-04-01 00:02:24</td>\n",
       "      <td>2017-04-01 00:06:47</td>\n",
       "      <td>445</td>\n",
       "      <td>E 10 St &amp; Avenue A</td>\n",
       "      <td>40.727408</td>\n",
       "      <td>-73.981420</td>\n",
       "      <td>411</td>\n",
       "      <td>E 6 St &amp; Avenue D</td>\n",
       "      <td>40.722281</td>\n",
       "      <td>-73.976687</td>\n",
       "      <td>28392</td>\n",
       "      <td>Subscriber</td>\n",
       "      <td>1961.0</td>\n",
       "      <td>1</td>\n",
       "    </tr>\n",
       "    <tr>\n",
       "      <th>4</th>\n",
       "      <td>134</td>\n",
       "      <td>2017-04-01 00:02:36</td>\n",
       "      <td>2017-04-01 00:04:50</td>\n",
       "      <td>3423</td>\n",
       "      <td>West Drive &amp; Prospect Park West</td>\n",
       "      <td>40.661063</td>\n",
       "      <td>-73.979453</td>\n",
       "      <td>3300</td>\n",
       "      <td>Prospect Park West &amp; 8 St</td>\n",
       "      <td>40.665147</td>\n",
       "      <td>-73.976376</td>\n",
       "      <td>19316</td>\n",
       "      <td>Subscriber</td>\n",
       "      <td>1967.0</td>\n",
       "      <td>2</td>\n",
       "    </tr>\n",
       "  </tbody>\n",
       "</table>\n",
       "</div>"
      ],
      "text/plain": [
       "   Trip Duration           Start Time            Stop Time  Start Station ID  \\\n",
       "0            195  2017-04-01 00:00:58  2017-04-01 00:04:14               217   \n",
       "1            585  2017-04-01 00:01:54  2017-04-01 00:11:40               490   \n",
       "2            665  2017-04-01 00:01:56  2017-04-01 00:13:01               504   \n",
       "3            262  2017-04-01 00:02:24  2017-04-01 00:06:47               445   \n",
       "4            134  2017-04-01 00:02:36  2017-04-01 00:04:50              3423   \n",
       "\n",
       "                Start Station Name  Start Station Latitude  \\\n",
       "0                    Old Fulton St               40.702772   \n",
       "1                  8 Ave & W 33 St               40.751551   \n",
       "2                  1 Ave & E 16 St               40.732219   \n",
       "3               E 10 St & Avenue A               40.727408   \n",
       "4  West Drive & Prospect Park West               40.661063   \n",
       "\n",
       "   Start Station Longitude  End Station ID           End Station Name  \\\n",
       "0               -73.993836             430           York St & Jay St   \n",
       "1               -73.993934            3158         W 63 St & Broadway   \n",
       "2               -73.981656             412      Forsyth St & Canal St   \n",
       "3               -73.981420             411          E 6 St & Avenue D   \n",
       "4               -73.979453            3300  Prospect Park West & 8 St   \n",
       "\n",
       "   End Station Latitude  End Station Longitude  Bike ID   User Type  \\\n",
       "0             40.701485             -73.986569    25454  Subscriber   \n",
       "1             40.771639             -73.982614    25930  Subscriber   \n",
       "2             40.715816             -73.994224    27110  Subscriber   \n",
       "3             40.722281             -73.976687    28392  Subscriber   \n",
       "4             40.665147             -73.976376    19316  Subscriber   \n",
       "\n",
       "   Birth Year  Gender  \n",
       "0      1966.0       1  \n",
       "1      1995.0       1  \n",
       "2      1987.0       1  \n",
       "3      1961.0       1  \n",
       "4      1967.0       2  "
      ]
     },
     "execution_count": 3,
     "metadata": {},
     "output_type": "execute_result"
    }
   ],
   "source": [
    "###################### Code above only needs to be run once ######################\n",
    "#Load aggregated dataset to minimize time needed to run the code\n",
    "df = read_csv('2017.csv')\n",
    "df = df.drop(['Unnamed: 0', 'Unnamed: 1'], axis = 1)\n",
    "df_copy = df\n",
    "df.head()"
   ]
  },
  {
   "cell_type": "code",
   "execution_count": 4,
   "metadata": {},
   "outputs": [
    {
     "data": {
      "text/html": [
       "<div>\n",
       "<style>\n",
       "    .dataframe thead tr:only-child th {\n",
       "        text-align: right;\n",
       "    }\n",
       "\n",
       "    .dataframe thead th {\n",
       "        text-align: left;\n",
       "    }\n",
       "\n",
       "    .dataframe tbody tr th {\n",
       "        vertical-align: top;\n",
       "    }\n",
       "</style>\n",
       "<table border=\"1\" class=\"dataframe\">\n",
       "  <thead>\n",
       "    <tr style=\"text-align: right;\">\n",
       "      <th></th>\n",
       "      <th>Total</th>\n",
       "      <th>Percent</th>\n",
       "    </tr>\n",
       "  </thead>\n",
       "  <tbody>\n",
       "    <tr>\n",
       "      <th>Birth Year</th>\n",
       "      <td>1630335</td>\n",
       "      <td>9.962537</td>\n",
       "    </tr>\n",
       "    <tr>\n",
       "      <th>User Type</th>\n",
       "      <td>15909</td>\n",
       "      <td>0.097216</td>\n",
       "    </tr>\n",
       "    <tr>\n",
       "      <th>Gender</th>\n",
       "      <td>0</td>\n",
       "      <td>0.000000</td>\n",
       "    </tr>\n",
       "    <tr>\n",
       "      <th>Bike ID</th>\n",
       "      <td>0</td>\n",
       "      <td>0.000000</td>\n",
       "    </tr>\n",
       "    <tr>\n",
       "      <th>End Station Longitude</th>\n",
       "      <td>0</td>\n",
       "      <td>0.000000</td>\n",
       "    </tr>\n",
       "    <tr>\n",
       "      <th>End Station Latitude</th>\n",
       "      <td>0</td>\n",
       "      <td>0.000000</td>\n",
       "    </tr>\n",
       "    <tr>\n",
       "      <th>End Station Name</th>\n",
       "      <td>0</td>\n",
       "      <td>0.000000</td>\n",
       "    </tr>\n",
       "    <tr>\n",
       "      <th>End Station ID</th>\n",
       "      <td>0</td>\n",
       "      <td>0.000000</td>\n",
       "    </tr>\n",
       "    <tr>\n",
       "      <th>Start Station Longitude</th>\n",
       "      <td>0</td>\n",
       "      <td>0.000000</td>\n",
       "    </tr>\n",
       "    <tr>\n",
       "      <th>Start Station Latitude</th>\n",
       "      <td>0</td>\n",
       "      <td>0.000000</td>\n",
       "    </tr>\n",
       "    <tr>\n",
       "      <th>Start Station Name</th>\n",
       "      <td>0</td>\n",
       "      <td>0.000000</td>\n",
       "    </tr>\n",
       "    <tr>\n",
       "      <th>Start Station ID</th>\n",
       "      <td>0</td>\n",
       "      <td>0.000000</td>\n",
       "    </tr>\n",
       "    <tr>\n",
       "      <th>Stop Time</th>\n",
       "      <td>0</td>\n",
       "      <td>0.000000</td>\n",
       "    </tr>\n",
       "    <tr>\n",
       "      <th>Start Time</th>\n",
       "      <td>0</td>\n",
       "      <td>0.000000</td>\n",
       "    </tr>\n",
       "    <tr>\n",
       "      <th>Trip Duration</th>\n",
       "      <td>0</td>\n",
       "      <td>0.000000</td>\n",
       "    </tr>\n",
       "  </tbody>\n",
       "</table>\n",
       "</div>"
      ],
      "text/plain": [
       "                           Total   Percent\n",
       "Birth Year               1630335  9.962537\n",
       "User Type                  15909  0.097216\n",
       "Gender                         0  0.000000\n",
       "Bike ID                        0  0.000000\n",
       "End Station Longitude          0  0.000000\n",
       "End Station Latitude           0  0.000000\n",
       "End Station Name               0  0.000000\n",
       "End Station ID                 0  0.000000\n",
       "Start Station Longitude        0  0.000000\n",
       "Start Station Latitude         0  0.000000\n",
       "Start Station Name             0  0.000000\n",
       "Start Station ID               0  0.000000\n",
       "Stop Time                      0  0.000000\n",
       "Start Time                     0  0.000000\n",
       "Trip Duration                  0  0.000000"
      ]
     },
     "execution_count": 4,
     "metadata": {},
     "output_type": "execute_result"
    }
   ],
   "source": [
    "#Percentage of missing data.\n",
    "def missing_data(df):\n",
    "    total = df.isnull().sum().sort_values(ascending=False)\n",
    "    percent = (df.isnull().sum()/df.isnull().count()*100).sort_values(ascending=False)\n",
    "    missing_data = pd.concat([total, percent], axis=1, keys=['Total', 'Percent'])\n",
    "    return missing_data\n",
    "missing_data(df)"
   ]
  },
  {
   "cell_type": "code",
   "execution_count": 8,
   "metadata": {},
   "outputs": [
    {
     "data": {
      "text/html": [
       "<div>\n",
       "<style>\n",
       "    .dataframe thead tr:only-child th {\n",
       "        text-align: right;\n",
       "    }\n",
       "\n",
       "    .dataframe thead th {\n",
       "        text-align: left;\n",
       "    }\n",
       "\n",
       "    .dataframe tbody tr th {\n",
       "        vertical-align: top;\n",
       "    }\n",
       "</style>\n",
       "<table border=\"1\" class=\"dataframe\">\n",
       "  <thead>\n",
       "    <tr style=\"text-align: right;\">\n",
       "      <th></th>\n",
       "      <th>Trip Duration</th>\n",
       "      <th>Start Station ID</th>\n",
       "      <th>Start Station Latitude</th>\n",
       "      <th>Start Station Longitude</th>\n",
       "      <th>End Station ID</th>\n",
       "      <th>End Station Latitude</th>\n",
       "      <th>End Station Longitude</th>\n",
       "      <th>Bike ID</th>\n",
       "      <th>Birth Year</th>\n",
       "    </tr>\n",
       "  </thead>\n",
       "  <tbody>\n",
       "    <tr>\n",
       "      <th>count</th>\n",
       "      <td>16364657.00</td>\n",
       "      <td>16364657.00</td>\n",
       "      <td>16364657.00</td>\n",
       "      <td>16364657.00</td>\n",
       "      <td>16364657.00</td>\n",
       "      <td>16364657.00</td>\n",
       "      <td>16364657.00</td>\n",
       "      <td>16364657.00</td>\n",
       "      <td>14734322.00</td>\n",
       "    </tr>\n",
       "    <tr>\n",
       "      <th>mean</th>\n",
       "      <td>994.59</td>\n",
       "      <td>1357.13</td>\n",
       "      <td>40.74</td>\n",
       "      <td>-73.98</td>\n",
       "      <td>1349.14</td>\n",
       "      <td>40.74</td>\n",
       "      <td>-73.98</td>\n",
       "      <td>23754.63</td>\n",
       "      <td>1978.90</td>\n",
       "    </tr>\n",
       "    <tr>\n",
       "      <th>std</th>\n",
       "      <td>16178.92</td>\n",
       "      <td>1346.90</td>\n",
       "      <td>0.07</td>\n",
       "      <td>0.12</td>\n",
       "      <td>1344.69</td>\n",
       "      <td>0.05</td>\n",
       "      <td>0.08</td>\n",
       "      <td>5345.62</td>\n",
       "      <td>11.83</td>\n",
       "    </tr>\n",
       "    <tr>\n",
       "      <th>min</th>\n",
       "      <td>61.00</td>\n",
       "      <td>72.00</td>\n",
       "      <td>0.00</td>\n",
       "      <td>-74.03</td>\n",
       "      <td>72.00</td>\n",
       "      <td>0.00</td>\n",
       "      <td>-74.09</td>\n",
       "      <td>14529.00</td>\n",
       "      <td>1858.00</td>\n",
       "    </tr>\n",
       "    <tr>\n",
       "      <th>25%</th>\n",
       "      <td>372.00</td>\n",
       "      <td>361.00</td>\n",
       "      <td>40.72</td>\n",
       "      <td>-74.00</td>\n",
       "      <td>359.00</td>\n",
       "      <td>40.72</td>\n",
       "      <td>-74.00</td>\n",
       "      <td>18653.00</td>\n",
       "      <td>1971.00</td>\n",
       "    </tr>\n",
       "    <tr>\n",
       "      <th>50%</th>\n",
       "      <td>621.00</td>\n",
       "      <td>487.00</td>\n",
       "      <td>40.74</td>\n",
       "      <td>-73.99</td>\n",
       "      <td>486.00</td>\n",
       "      <td>40.74</td>\n",
       "      <td>-73.99</td>\n",
       "      <td>25464.00</td>\n",
       "      <td>1982.00</td>\n",
       "    </tr>\n",
       "    <tr>\n",
       "      <th>75%</th>\n",
       "      <td>1076.00</td>\n",
       "      <td>3142.00</td>\n",
       "      <td>40.76</td>\n",
       "      <td>-73.98</td>\n",
       "      <td>3141.00</td>\n",
       "      <td>40.76</td>\n",
       "      <td>-73.98</td>\n",
       "      <td>28114.00</td>\n",
       "      <td>1988.00</td>\n",
       "    </tr>\n",
       "    <tr>\n",
       "      <th>max</th>\n",
       "      <td>9735948.00</td>\n",
       "      <td>3654.00</td>\n",
       "      <td>45.51</td>\n",
       "      <td>0.00</td>\n",
       "      <td>3654.00</td>\n",
       "      <td>45.51</td>\n",
       "      <td>0.00</td>\n",
       "      <td>33481.00</td>\n",
       "      <td>2001.00</td>\n",
       "    </tr>\n",
       "  </tbody>\n",
       "</table>\n",
       "</div>"
      ],
      "text/plain": [
       "       Trip Duration  Start Station ID  Start Station Latitude  \\\n",
       "count    16364657.00       16364657.00             16364657.00   \n",
       "mean          994.59           1357.13                   40.74   \n",
       "std         16178.92           1346.90                    0.07   \n",
       "min            61.00             72.00                    0.00   \n",
       "25%           372.00            361.00                   40.72   \n",
       "50%           621.00            487.00                   40.74   \n",
       "75%          1076.00           3142.00                   40.76   \n",
       "max       9735948.00           3654.00                   45.51   \n",
       "\n",
       "       Start Station Longitude  End Station ID  End Station Latitude  \\\n",
       "count              16364657.00     16364657.00           16364657.00   \n",
       "mean                    -73.98         1349.14                 40.74   \n",
       "std                       0.12         1344.69                  0.05   \n",
       "min                     -74.03           72.00                  0.00   \n",
       "25%                     -74.00          359.00                 40.72   \n",
       "50%                     -73.99          486.00                 40.74   \n",
       "75%                     -73.98         3141.00                 40.76   \n",
       "max                       0.00         3654.00                 45.51   \n",
       "\n",
       "       End Station Longitude      Bike ID   Birth Year  \n",
       "count            16364657.00  16364657.00  14734322.00  \n",
       "mean                  -73.98     23754.63      1978.90  \n",
       "std                     0.08      5345.62        11.83  \n",
       "min                   -74.09     14529.00      1858.00  \n",
       "25%                   -74.00     18653.00      1971.00  \n",
       "50%                   -73.99     25464.00      1982.00  \n",
       "75%                   -73.98     28114.00      1988.00  \n",
       "max                     0.00     33481.00      2001.00  "
      ]
     },
     "execution_count": 8,
     "metadata": {},
     "output_type": "execute_result"
    }
   ],
   "source": [
    "#Ensure data is formatted correctly to avoid errors in the visuals\n",
    "df['Start Time'] = to_datetime(df['Start Time'])\n",
    "df['Stop Time'] = to_datetime(df['Stop Time'])\n",
    "df['Start Station Name'] = df['Start Station Name'].astype('category')\n",
    "df['End Station Name'] = df['End Station Name'].astype('category')\n",
    "df['User Type'] = df['User Type'].astype('category')\n",
    "df['Gender'] = df['Gender'].astype('category')\n",
    "round(df.describe(),2)"
   ]
  },
  {
   "cell_type": "code",
   "execution_count": 9,
   "metadata": {},
   "outputs": [],
   "source": [
    "#Quasi Confirm Hypothesis in point #3\n",
    "df_bikenum = pd.DataFrame()\n",
    "df_bikenum['First Bike'] = df[df['Trip Duration'] < 90]['Start Station Name'] \n",
    "df_bikenum['Second Bike'] = df[df['Trip Duration'] < 90]['End Station Name']\n",
    "#df_bikenum.head()"
   ]
  },
  {
   "cell_type": "code",
   "execution_count": 10,
   "metadata": {
    "collapsed": true
   },
   "outputs": [],
   "source": [
    "#Clear up enviornment and drop double count\n",
    "del(df_bikenum)\n",
    "df = df.drop(df.index[(df['Trip Duration'] < 90) & \n",
    "                          (df['Start Station Latitude'] == df['End Station Latitude'])])"
   ]
  },
  {
   "cell_type": "code",
   "execution_count": 11,
   "metadata": {},
   "outputs": [],
   "source": [
    "#Data for Top 5 Stations visual\n",
    "top5 = pd.DataFrame() \n",
    "top5['Station']=df['Start Station Name'].value_counts().head().index\n",
    "top5['Number of Starts']=df['Start Station Name'].value_counts().head().values\n",
    "top5['Station'] = top5['Station'].cat.remove_unused_categories()\n",
    "top5['Station'] = top5['Station'].astype('object')\n",
    "#top5.sort_values(by = 'Number of Starts', ascending = False)"
   ]
  },
  {
   "cell_type": "code",
   "execution_count": 13,
   "metadata": {},
   "outputs": [
    {
     "data": {
      "image/png": "[encoded data removed]",
      "text/plain": [
       "<matplotlib.figure.Figure at 0x1a13a04438>"
      ]
     },
     "metadata": {},
     "output_type": "display_data"
    }
   ],
   "source": [
    "#Plot for Part 1: Top 5 Stations\n",
    "ax = sns.barplot('Station', 'Number of Starts', data = top5, palette=\"GnBu_d\")\n",
    "ax.set_title('Top 5 Citi Bike Stations by Number of Starts', fontsize = 12)\n",
    "rcParams['figure.figsize'] = 12,7\n",
    "ax.set_xticklabels(ax.get_xticklabels(),rotation=40, ha = 'right')\n",
    "for index, row in top5.iterrows():\n",
    "    ax.text(index,row['Number of Starts']-4000,row['Number of Starts'], \n",
    "            color='white', ha=\"center\", fontsize = 10)\n",
    "plt.show()"
   ]
  },
  {
   "cell_type": "markdown",
   "metadata": {},
   "source": [
    "### Part 2: Trip Duration by User Type\n",
    "This question is a bit unclear in terms of what to do with the anomalies, so I'll be making two graphs. One with anomalies, one without.<br />\n",
    "\n",
    "*There are NA values in the dataset for usertype as can be seen from missing_table. Since it's only 0.09% of the data, it's safe to remove.*<br />\n",
    "\n",
    "**According to Citi Bikes' website:** The first 45 minutes of each ride is included for Annual Members, and the first 30 minutes of each ride is included for Day Pass users. If you want to keep a bike out for longer, it’s only an extra $4 for each additional 15 minutes.<br />\n",
    "\n",
    "It's safe to assume, no one (or very few people) will be willing to rent a bike for more than 2 hours, especially a clunky citibike. If they did, it would cost them an additional $20 assuming they're annual subscribers. It would be more economical for them to buy a bike if they want that workout or use one of the tour bikes in central park if they want to tour and explore the city on a bike. There may be a better way to choose an optimal cutoff, however, time is key in a client project. Or just docing and getting another bike. The real cost of a bike is accrued ~24 hours. <br />\n",
    "\n",
    "**Anomalies**: Any trip which lasts longer than 2 hours (7,200 seconds) probably indicates a stolen bike, an anomaly, or incorrect docking of the bike. As an avid Citibike user, I know first hand that it doesn't make any sense for one to use a bike for more than one hour! However, I've added a one hour cushion just in case. No rider would plan to go over the maximum 45 minutes allowed. However, I wplan to reduce this to one hour in the future for modelling purposes. \n",
    "\n",
    "1. *First Half- with anomalies in dataset*\n",
    "    - The graph under ax2 is a bargraph of average trip duration for each user type. It's helpful, but would be better to see a boxplot and get an idea of the distribution and see mintues instead of seconds.<br />\n",
    "    - Second graph is a basic Boxplot based with anomalies included. As we can see, there is too much noise for this to be useful. It'll be better to look at this without anomalies.<br />\n",
    "\n",
    "2. *Second Half - without anomalies in dataset*\n",
    "    - Still not useful, let's add a column with minutes for trip Duration.<br />\n",
    "    - Boxplot with minutes is much more useful. There are still some outliers, however, it is informative. "
   ]
  },
  {
   "cell_type": "code",
   "execution_count": 15,
   "metadata": {
    "collapsed": true
   },
   "outputs": [],
   "source": [
    "del(top5)\n",
    "#Drop NA Usertype\n",
    "df = df.dropna(subset=['User Type']) "
   ]
  },
  {
   "cell_type": "code",
   "execution_count": 16,
   "metadata": {
    "collapsed": true
   },
   "outputs": [],
   "source": [
    "#Calculate trip duration\n",
    "TD_user = pd.DataFrame()\n",
    "TD_user['Avg. Trip Duration'] = round(df.groupby('User Type')['Trip Duration'].mean(),2)\n",
    "TD_user = TD_user.reset_index()\n",
    "TD_user['User Type'] = TD_user['User Type'].astype('object')"
   ]
  },
  {
   "cell_type": "code",
   "execution_count": 17,
   "metadata": {},
   "outputs": [
    {
     "data": {
      "image/png": "[encoded data removed]",
      "text/plain": [
       "<matplotlib.figure.Figure at 0x1a13464b70>"
      ]
     },
     "metadata": {},
     "output_type": "display_data"
    }
   ],
   "source": [
    "#Average trip Duration per User Type with Anomalies\n",
    "ax2 = sns.barplot('User Type', 'Avg. Trip Duration', data = TD_user,palette=\"GnBu_d\")\n",
    "ax2.set_title('Average Trip Duration by User Type (with anomalies)')\n",
    "#rcParams['figure.figsize'] = 12,7\n",
    "ax2.set_xticklabels(ax2.get_xticklabels(),rotation=40, ha = 'right')\n",
    "ax2.set_ylabel('Avg. Trip Duration (Seconds)')\n",
    "for index, row in TD_user.iterrows():\n",
    "    ax2.text(index,row['Avg. Trip Duration']-70,(str(row['Avg. Trip Duration'])+\"  Seconds\"), \n",
    "             color='white', ha=\"center\", fontsize = 10)\n",
    "plt.show()"
   ]
  },
  {
   "cell_type": "code",
   "execution_count": 18,
   "metadata": {},
   "outputs": [
    {
     "name": "stderr",
     "output_type": "stream",
     "text": [
      "/Users/vinit.shah1ibm.com/anaconda3/lib/python3.6/site-packages/numpy/core/fromnumeric.py:57: FutureWarning: reshape is deprecated and will raise in a subsequent release. Please use .values.reshape(...) instead\n",
      "  return getattr(obj, method)(*args, **kwds)\n"
     ]
    },
    {
     "data": {
      "image/png": "[encoded data removed]",
      "text/plain": [
       "<matplotlib.figure.Figure at 0x10dc578d0>"
      ]
     },
     "metadata": {},
     "output_type": "display_data"
    }
   ],
   "source": [
    "#Boxplots are more informative to visualize breakdown of data\n",
    "del(TD_user)\n",
    "df.boxplot('Trip Duration', by = 'User Type')\n",
    "plt.show()"
   ]
  },
  {
   "cell_type": "code",
   "execution_count": 19,
   "metadata": {
    "collapsed": true
   },
   "outputs": [],
   "source": [
    "#Remove anomalies based on definition above\n",
    "df = df.drop(df.index[(df['Trip Duration'] > 7200)])"
   ]
  },
  {
   "cell_type": "code",
   "execution_count": 20,
   "metadata": {},
   "outputs": [
    {
     "name": "stderr",
     "output_type": "stream",
     "text": [
      "/Users/vinit.shah1ibm.com/anaconda3/lib/python3.6/site-packages/numpy/core/fromnumeric.py:57: FutureWarning: reshape is deprecated and will raise in a subsequent release. Please use .values.reshape(...) instead\n",
      "  return getattr(obj, method)(*args, **kwds)\n"
     ]
    },
    {
     "data": {
      "image/png": "[encoded data removed]",
      "text/plain": [
       "<matplotlib.figure.Figure at 0x1a139fcfd0>"
      ]
     },
     "metadata": {},
     "output_type": "display_data"
    },
    {
     "data": {
      "image/png": "[encoded data removed]",
      "text/plain": [
       "<matplotlib.figure.Figure at 0x10b1c07b8>"
      ]
     },
     "metadata": {},
     "output_type": "display_data"
    }
   ],
   "source": [
    "#Boxplots are more informative to visualize breakdown of data\n",
    "df.boxplot('Trip Duration', by = 'User Type')\n",
    "plt.show()\n",
    "#Boxplot without outliers\n",
    "df.boxplot('Trip Duration', by = 'User Type',showfliers=False)\n",
    "plt.show()"
   ]
  },
  {
   "cell_type": "code",
   "execution_count": 21,
   "metadata": {
    "collapsed": true
   },
   "outputs": [],
   "source": [
    "#Add Minutes column for Trip Duration\n",
    "df['Minutes'] = df['Trip Duration']/60\n",
    "#For Visual purposes, rounded\n",
    "df['Minutes'] = round(df['Minutes'])\n",
    "df['Minutes'] = df['Minutes'].astype(int)"
   ]
  },
  {
   "cell_type": "code",
   "execution_count": 22,
   "metadata": {},
   "outputs": [
    {
     "name": "stderr",
     "output_type": "stream",
     "text": [
      "/Users/vinit.shah1ibm.com/anaconda3/lib/python3.6/site-packages/numpy/core/fromnumeric.py:57: FutureWarning: reshape is deprecated and will raise in a subsequent release. Please use .values.reshape(...) instead\n",
      "  return getattr(obj, method)(*args, **kwds)\n"
     ]
    },
    {
     "data": {
      "image/png": "[encoded data removed]",
      "text/plain": [
       "<matplotlib.figure.Figure at 0x10fb39ba8>"
      ]
     },
     "metadata": {},
     "output_type": "display_data"
    },
    {
     "data": {
      "image/png": "[encoded data removed]",
      "text/plain": [
       "<matplotlib.figure.Figure at 0x10fb39860>"
      ]
     },
     "metadata": {},
     "output_type": "display_data"
    }
   ],
   "source": [
    "#Final Boxplot with some outliers. Could turn of outliers with showfliers = False\n",
    "df.boxplot('Minutes', by = 'User Type')\n",
    "plt.show()\n",
    "df.boxplot('Minutes', by = 'User Type', showfliers = False)\n",
    "plt.show()"
   ]
  },
  {
   "cell_type": "code",
   "execution_count": 23,
   "metadata": {
    "collapsed": true
   },
   "outputs": [],
   "source": [
    "TD_user2 = pd.DataFrame()\n",
    "TD_user2['Avg. Trip Duration'] = round(df.groupby('User Type')['Minutes'].mean(),1)\n",
    "TD_user2 = TD_user2.reset_index()\n",
    "TD_user2['User Type'] = TD_user2['User Type'].astype('object')"
   ]
  },
  {
   "cell_type": "code",
   "execution_count": 24,
   "metadata": {},
   "outputs": [
    {
     "data": {
      "image/png": "[encoded data removed]",
      "text/plain": [
       "<matplotlib.figure.Figure at 0x10b18c518>"
      ]
     },
     "metadata": {},
     "output_type": "display_data"
    }
   ],
   "source": [
    "#Average Trip Duration Based on Minutes\n",
    "ax3 = sns.barplot('User Type', 'Avg. Trip Duration', data = TD_user2,palette=\"GnBu_d\")\n",
    "ax3.set_title('Average Trip Duration by User Type')\n",
    "#rcParams['figure.figsize'] = 12,10\n",
    "ax3.set_xticklabels(ax3.get_xticklabels(),rotation=40, ha = 'right')\n",
    "for index, row in TD_user2.iterrows():\n",
    "    ax3.text(row.name,row['Avg. Trip Duration']-1,(str(row['Avg. Trip Duration'])+\"  Minutes\"), \n",
    "             color='white', ha=\"center\", fontsize = 10)\n",
    "plt.show()"
   ]
  },
  {
   "cell_type": "code",
   "execution_count": 25,
   "metadata": {
    "collapsed": true
   },
   "outputs": [],
   "source": [
    "del(TD_user2)\n",
    "#Undo rounding for modelling purposes\n",
    "df['Minutes'] = df['Trip Duration']/60"
   ]
  },
  {
   "cell_type": "markdown",
   "metadata": {},
   "source": [
    "### Part 3: Most Popular Trip\n",
    "To get most popular trips, the most convenient way to do this is by using the groupby function in pandas. It's analogous to a Pivot table. <br />\n",
    "\n",
    "The groupby function makes it extremely easy and convenient to identify the most popular trips. Visuals and transformations can be found below.<br />"
   ]
  },
  {
   "cell_type": "code",
   "execution_count": 26,
   "metadata": {},
   "outputs": [],
   "source": [
    "#Identify the 10 most popular trips\n",
    "trips_df = pd.DataFrame()\n",
    "trips_df = df.groupby(['Start Station Name','End Station Name']).size().reset_index(name = 'Number of Trips')\n",
    "trips_df = trips_df.sort_values('Number of Trips', ascending = False)\n",
    "trips_df[\"Start Station Name\"] = trips_df[\"Start Station Name\"].astype(str)\n",
    "trips_df[\"End Station Name\"] = trips_df[\"End Station Name\"].astype(str)\n",
    "trips_df[\"Trip\"] = trips_df[\"Start Station Name\"] + \" to \" + trips_df[\"End Station Name\"]\n",
    "trips_df = trips_df[:10]\n",
    "trips_df = trips_df.drop(['Start Station Name', \"End Station Name\"], axis = 1)\n",
    "trips_df = trips_df.reset_index()\n",
    "#trips_df.head()"
   ]
  },
  {
   "cell_type": "code",
   "execution_count": 27,
   "metadata": {},
   "outputs": [
    {
     "data": {
      "image/png": "[encoded data removed]",
      "text/plain": [
       "<matplotlib.figure.Figure at 0x1a1347a470>"
      ]
     },
     "metadata": {},
     "output_type": "display_data"
    }
   ],
   "source": [
    "ax4 = sns.barplot('Number of Trips','Trip', data = trips_df,palette=\"GnBu_d\")\n",
    "ax4.set_title('Most Popular Trips', fontsize = 20)\n",
    "ax4.set_ylabel(\"Trip\",fontsize=16)\n",
    "ax4.set_xlabel(\"Number of Trips\",fontsize=16)\n",
    "for index, row in trips_df.iterrows():\n",
    "    ax4.text(row['Number of Trips']-220,index,row['Number of Trips'], \n",
    "             color='white', ha=\"center\",fontsize = 10)\n",
    "plt.show()"
   ]
  },
  {
   "cell_type": "markdown",
   "metadata": {},
   "source": [
    "### Part 4: Rider Performance by Gender and Age\n",
    "\n",
    "**Ask:** Rider performance by Gender and Age based on avg trip distance (station to station), median speed (trip duration/distance traveled)<br />\n",
    "\n",
    "Let's make sure the data we're working with here is clean.<br />\n",
    "\n",
    "1. Missing Gender and Birth Year values - Check missing_table above\n",
    "    - No for Gender. Yes for Birth Year\n",
    "    - ~10% Missing Birth year. Not a big chunk of data. Can either impute missing values or drop it. Since it's less                                         than 10% of the data, it's safe to assume the rest of the 90% is a representative sample of data and we can replace the birth year with the median, based on gender and Start Station ID. I chose this method because most people the same age live in similar neighborhoods (i.e: young people in east village, older people in Upper West Side, etc.). This will be done after anomalies are removed and speed is calculated.\n",
    "2. Are there anomalies?\n",
    "    - For Birth Year, there are some people born prior to 1956. I can believe some 60 year olds can ride a bike and that's a stretch, however, anyone \"born\" prior to that riding a citibike is an anomaly and false data. There could be a few senior citizens riding a bike, but probably not likely.\n",
    "    - My approach is to identify the age 2 standard deviations lower than the mean. After calculating this number, mean-2stdev, I removed the tail end of the data, birth year prior to 1956.\n",
    "3. Caulculate an Age column to make visuals easier to interpret.\n",
    "4. Calculate trip distance (Miles)\n",
    "    - No reliable way to calculate bike route since we can't know what route a rider took without GPS data from each bike. \n",
    "    - Could use Google maps and use lat,long coordinates to find bike route distance. However, this would require more than the daily limit on API calls. Use the geopy.distance packge which uses Vincenty distance uses more accurate ellipsoidal models. This is more accurate than Haversine formula, but doesn't matter much for our purposes.\n",
    "5. Caulculate Speed (min/mile) and (mile/hr)\n",
    "    - (min/mile): Can be used like sprint time (how fast does this person run)\n",
    "    - (mile/hr): Conventional approach. Miles/hour is an easy to understand unit of measure and one most people are used to seeing. So the visual will be created based on this understanding.\n",
    "6. Dealing with \"circular\" trips\n",
    "    - Circular trips are trips which start and end at the same station. The distance for these trips will come out to 0, however, that is not the case. These points will skew the data and visuals. Will be removing them to account for this issue. \n",
    "    - For the model, this data is also irrelevant. Because if someone is going on a circular trip, the only person who knows how long the trip is going to take is therider themself, assuming they know that. So it's safe to drop this data for the model. <br />\n",
    "7. Rename Gender Values in Legend from 0,1,2 to Unknown, Male, Female, respectively. \n",
    "    - The rows where Gender is unknown throws the visual off. There are a few ways to handle this: \n",
    "      - Remove the missing data. This would not result in a significant loss of information since only 58073 rows have gender as unknown.\n",
    "       - We can impute missing values, however given the proportion of unknowns the information gain would be negligible.\n",
    "       - Based on the reasons above, I've decided to remove data with unknown gender. These rows should not have a  significant imact on the predictive model later on. However, I will confirm this.\n",
    "8. Determine Gender and Age performance based on Average Trip distance<br />\n",
    "    - Similar to graphs for speed. Pretty straightforward."
   ]
  },
  {
   "cell_type": "code",
   "execution_count": 28,
   "metadata": {
    "collapsed": true
   },
   "outputs": [],
   "source": [
    "del(trips_df)\n",
    "#Drop the tail end of birth years 2 standard deviations below the mean\n",
    "#df['Birth Year'].mean()-(2*df['Birth Year'].std())\n",
    "df = df.drop(df.index[(df['Birth Year'] < 1956)])"
   ]
  },
  {
   "cell_type": "code",
   "execution_count": 29,
   "metadata": {
    "collapsed": true
   },
   "outputs": [],
   "source": [
    "#Combine coordinates to calculate distance based on Vincenty\n",
    "df['Start Coordinates'] = list(zip(df['Start Station Latitude'], df['Start Station Longitude']))\n",
    "df['End Coordinates'] = list(zip(df['End Station Latitude'], df['End Station Longitude']))"
   ]
  },
  {
   "cell_type": "code",
   "execution_count": 30,
   "metadata": {
    "collapsed": true
   },
   "outputs": [],
   "source": [
    "#In the future, for a dataset of this size, I would consider using the Haversine formula to calculate distance \n",
    "#if it's faster.\n",
    "'''dist = []\n",
    "for i in range(len(df)):\n",
    "    dist.append(geopy.distance.vincenty(df.iloc[i]['Start Coordinates'],df.iloc[i]['End Coordinates']).miles)\n",
    "    if (i%1000000==0):\n",
    "        print(i)\n",
    "'''\n",
    "#Code above takes a long time to run, please use Distance.csv file instead\n",
    "dist = pd.read_csv('Distance.csv', header = None)\n",
    "dist = dist.drop([0], axis = 1)"
   ]
  },
  {
   "cell_type": "code",
   "execution_count": 31,
   "metadata": {
    "collapsed": true
   },
   "outputs": [],
   "source": [
    "#Reset Index to avoid issues in future calculations\n",
    "df = df.reset_index()\n",
    "df = df.drop('index',axis =1)"
   ]
  },
  {
   "cell_type": "code",
   "execution_count": 32,
   "metadata": {
    "collapsed": true
   },
   "outputs": [],
   "source": [
    "df['Distance'] = dist"
   ]
  },
  {
   "cell_type": "code",
   "execution_count": 33,
   "metadata": {
    "collapsed": true
   },
   "outputs": [],
   "source": [
    "del(dist)\n",
    "#Replace missing birth year by median based on speed and gender\n",
    "df['Birth Year'] = df.groupby(['Gender','Start Station ID'])['Birth Year'].transform(lambda x: x.fillna(x.median()))"
   ]
  },
  {
   "cell_type": "code",
   "execution_count": 34,
   "metadata": {
    "collapsed": true
   },
   "outputs": [],
   "source": [
    "#Still have a few nulls, but it's only 2342 entries now. Comfortable dropping these.\n",
    "df = df.dropna(subset=['Birth Year'])"
   ]
  },
  {
   "cell_type": "code",
   "execution_count": 35,
   "metadata": {
    "collapsed": true
   },
   "outputs": [],
   "source": [
    "#Calculate age and drop circular/roundtrips\n",
    "df['Age'] = 2018 - df['Birth Year']\n",
    "df['Age'] = df['Age'].astype(int)"
   ]
  },
  {
   "cell_type": "code",
   "execution_count": 36,
   "metadata": {
    "collapsed": true
   },
   "outputs": [],
   "source": [
    "df = df.drop(df.index[(df['Distance'] == 0)])"
   ]
  },
  {
   "cell_type": "code",
   "execution_count": 37,
   "metadata": {
    "collapsed": true
   },
   "outputs": [],
   "source": [
    "#1\n",
    "#df[df['Trip Duration']<90]\n",
    "#2. Followed the same reasoning as behind Birth Year. People in similar locations tend to also work in a similar industry or location\n",
    "df['Distance'] = df.groupby(['Gender','Start Station ID'])['Distance'].transform(lambda x: x.fillna(x.median()))"
   ]
  },
  {
   "cell_type": "code",
   "execution_count": 38,
   "metadata": {
    "collapsed": true
   },
   "outputs": [],
   "source": [
    "df['min_mile'] = round(df['Minutes']/df['Distance'], 2)\n",
    "df['mile_hour'] = round(df['Distance']/(df['Minutes']/60),2)"
   ]
  },
  {
   "cell_type": "code",
   "execution_count": 39,
   "metadata": {},
   "outputs": [
    {
     "data": {
      "text/html": [
       "<div>\n",
       "<style>\n",
       "    .dataframe thead tr:only-child th {\n",
       "        text-align: right;\n",
       "    }\n",
       "\n",
       "    .dataframe thead th {\n",
       "        text-align: left;\n",
       "    }\n",
       "\n",
       "    .dataframe tbody tr th {\n",
       "        vertical-align: top;\n",
       "    }\n",
       "</style>\n",
       "<table border=\"1\" class=\"dataframe\">\n",
       "  <thead>\n",
       "    <tr style=\"text-align: right;\">\n",
       "      <th></th>\n",
       "      <th>Trip Duration</th>\n",
       "      <th>Start Station ID</th>\n",
       "      <th>Start Station Latitude</th>\n",
       "      <th>Start Station Longitude</th>\n",
       "      <th>End Station ID</th>\n",
       "      <th>End Station Latitude</th>\n",
       "      <th>End Station Longitude</th>\n",
       "      <th>Bike ID</th>\n",
       "      <th>Birth Year</th>\n",
       "      <th>Minutes</th>\n",
       "      <th>Distance</th>\n",
       "      <th>Age</th>\n",
       "      <th>min_mile</th>\n",
       "      <th>mile_hour</th>\n",
       "    </tr>\n",
       "  </thead>\n",
       "  <tbody>\n",
       "    <tr>\n",
       "      <th>count</th>\n",
       "      <td>15432349.00</td>\n",
       "      <td>15432349.00</td>\n",
       "      <td>15432349.00</td>\n",
       "      <td>15432349.00</td>\n",
       "      <td>15432349.00</td>\n",
       "      <td>15432349.00</td>\n",
       "      <td>15432349.00</td>\n",
       "      <td>15432349.00</td>\n",
       "      <td>15432349.00</td>\n",
       "      <td>15432349.00</td>\n",
       "      <td>15432349.00</td>\n",
       "      <td>15432349.00</td>\n",
       "      <td>15432349.00</td>\n",
       "      <td>15432349.00</td>\n",
       "    </tr>\n",
       "    <tr>\n",
       "      <th>mean</th>\n",
       "      <td>802.73</td>\n",
       "      <td>1351.79</td>\n",
       "      <td>40.74</td>\n",
       "      <td>-73.98</td>\n",
       "      <td>1343.92</td>\n",
       "      <td>40.74</td>\n",
       "      <td>-73.98</td>\n",
       "      <td>23770.68</td>\n",
       "      <td>1980.18</td>\n",
       "      <td>13.38</td>\n",
       "      <td>1.17</td>\n",
       "      <td>37.82</td>\n",
       "      <td>13.85</td>\n",
       "      <td>5.89</td>\n",
       "    </tr>\n",
       "    <tr>\n",
       "      <th>std</th>\n",
       "      <td>632.57</td>\n",
       "      <td>1345.08</td>\n",
       "      <td>0.07</td>\n",
       "      <td>0.11</td>\n",
       "      <td>1342.96</td>\n",
       "      <td>0.05</td>\n",
       "      <td>0.07</td>\n",
       "      <td>5345.42</td>\n",
       "      <td>10.07</td>\n",
       "      <td>10.54</td>\n",
       "      <td>9.54</td>\n",
       "      <td>10.07</td>\n",
       "      <td>664.18</td>\n",
       "      <td>158.59</td>\n",
       "    </tr>\n",
       "    <tr>\n",
       "      <th>min</th>\n",
       "      <td>61.00</td>\n",
       "      <td>72.00</td>\n",
       "      <td>0.00</td>\n",
       "      <td>-74.03</td>\n",
       "      <td>72.00</td>\n",
       "      <td>0.00</td>\n",
       "      <td>-74.07</td>\n",
       "      <td>14529.00</td>\n",
       "      <td>1956.00</td>\n",
       "      <td>1.02</td>\n",
       "      <td>0.00</td>\n",
       "      <td>17.00</td>\n",
       "      <td>0.00</td>\n",
       "      <td>0.00</td>\n",
       "    </tr>\n",
       "    <tr>\n",
       "      <th>25%</th>\n",
       "      <td>371.00</td>\n",
       "      <td>361.00</td>\n",
       "      <td>40.72</td>\n",
       "      <td>-74.00</td>\n",
       "      <td>359.00</td>\n",
       "      <td>40.72</td>\n",
       "      <td>-74.00</td>\n",
       "      <td>18667.00</td>\n",
       "      <td>1973.00</td>\n",
       "      <td>6.18</td>\n",
       "      <td>0.55</td>\n",
       "      <td>30.00</td>\n",
       "      <td>8.70</td>\n",
       "      <td>4.55</td>\n",
       "    </tr>\n",
       "    <tr>\n",
       "      <th>50%</th>\n",
       "      <td>615.00</td>\n",
       "      <td>487.00</td>\n",
       "      <td>40.74</td>\n",
       "      <td>-73.99</td>\n",
       "      <td>486.00</td>\n",
       "      <td>40.74</td>\n",
       "      <td>-73.99</td>\n",
       "      <td>25481.00</td>\n",
       "      <td>1982.00</td>\n",
       "      <td>10.25</td>\n",
       "      <td>0.90</td>\n",
       "      <td>36.00</td>\n",
       "      <td>10.47</td>\n",
       "      <td>5.73</td>\n",
       "    </tr>\n",
       "    <tr>\n",
       "      <th>75%</th>\n",
       "      <td>1058.00</td>\n",
       "      <td>3141.00</td>\n",
       "      <td>40.76</td>\n",
       "      <td>-73.98</td>\n",
       "      <td>3140.00</td>\n",
       "      <td>40.76</td>\n",
       "      <td>-73.98</td>\n",
       "      <td>28124.00</td>\n",
       "      <td>1988.00</td>\n",
       "      <td>17.63</td>\n",
       "      <td>1.48</td>\n",
       "      <td>45.00</td>\n",
       "      <td>13.17</td>\n",
       "      <td>6.90</td>\n",
       "    </tr>\n",
       "    <tr>\n",
       "      <th>max</th>\n",
       "      <td>7200.00</td>\n",
       "      <td>3654.00</td>\n",
       "      <td>40.81</td>\n",
       "      <td>0.00</td>\n",
       "      <td>3654.00</td>\n",
       "      <td>40.81</td>\n",
       "      <td>0.00</td>\n",
       "      <td>33481.00</td>\n",
       "      <td>2001.00</td>\n",
       "      <td>120.00</td>\n",
       "      <td>5389.14</td>\n",
       "      <td>62.00</td>\n",
       "      <td>2608057.83</td>\n",
       "      <td>255187.93</td>\n",
       "    </tr>\n",
       "  </tbody>\n",
       "</table>\n",
       "</div>"
      ],
      "text/plain": [
       "       Trip Duration  Start Station ID  Start Station Latitude  \\\n",
       "count    15432349.00       15432349.00             15432349.00   \n",
       "mean          802.73           1351.79                   40.74   \n",
       "std           632.57           1345.08                    0.07   \n",
       "min            61.00             72.00                    0.00   \n",
       "25%           371.00            361.00                   40.72   \n",
       "50%           615.00            487.00                   40.74   \n",
       "75%          1058.00           3141.00                   40.76   \n",
       "max          7200.00           3654.00                   40.81   \n",
       "\n",
       "       Start Station Longitude  End Station ID  End Station Latitude  \\\n",
       "count              15432349.00     15432349.00           15432349.00   \n",
       "mean                    -73.98         1343.92                 40.74   \n",
       "std                       0.11         1342.96                  0.05   \n",
       "min                     -74.03           72.00                  0.00   \n",
       "25%                     -74.00          359.00                 40.72   \n",
       "50%                     -73.99          486.00                 40.74   \n",
       "75%                     -73.98         3140.00                 40.76   \n",
       "max                       0.00         3654.00                 40.81   \n",
       "\n",
       "       End Station Longitude      Bike ID   Birth Year      Minutes  \\\n",
       "count            15432349.00  15432349.00  15432349.00  15432349.00   \n",
       "mean                  -73.98     23770.68      1980.18        13.38   \n",
       "std                     0.07      5345.42        10.07        10.54   \n",
       "min                   -74.07     14529.00      1956.00         1.02   \n",
       "25%                   -74.00     18667.00      1973.00         6.18   \n",
       "50%                   -73.99     25481.00      1982.00        10.25   \n",
       "75%                   -73.98     28124.00      1988.00        17.63   \n",
       "max                     0.00     33481.00      2001.00       120.00   \n",
       "\n",
       "          Distance          Age     min_mile    mile_hour  \n",
       "count  15432349.00  15432349.00  15432349.00  15432349.00  \n",
       "mean          1.17        37.82        13.85         5.89  \n",
       "std           9.54        10.07       664.18       158.59  \n",
       "min           0.00        17.00         0.00         0.00  \n",
       "25%           0.55        30.00         8.70         4.55  \n",
       "50%           0.90        36.00        10.47         5.73  \n",
       "75%           1.48        45.00        13.17         6.90  \n",
       "max        5389.14        62.00   2608057.83    255187.93  "
      ]
     },
     "execution_count": 39,
     "metadata": {},
     "output_type": "execute_result"
    }
   ],
   "source": [
    "#Let's check for data integrity to make sure all the numbers look as expected. Only numerical data included\n",
    "round(df.describe(),2)"
   ]
  },
  {
   "cell_type": "markdown",
   "metadata": {},
   "source": [
    "### Observations\n",
    "- We still have trips less than 90 seconds, however they seem to be legitimate trips. Checked using the code in cell above. \n",
    "- We have some Start Coordinates as (0.0,0.0). These are trips which were taken away for repair or for other purposes. These should be dropped. If kept, the distance for these trips is 5,389 miles. For this reason I've dropped any points where the distance is greater than 30 miles. Additionally, we have some missing values. Since it's a tiny portion, let's replace missing values based on Gender and start location. These\n",
    "- One some trips, the speed of the biker is more than 200 mph. This could be due to the formula used for distance calculation or some other error. The fastest cyclist in the world on a flat surface ever recorded biked at 82mph. It's safe to assume none of the citibike riders can approach this speed. Due to this and the fact that an average cyclist speed is 10mph, I've decided to remove all data where the speed in mph is greater than 20 mph and less than 0.1 mph. ~1.5k data points"
   ]
  },
  {
   "cell_type": "code",
   "execution_count": 40,
   "metadata": {
    "collapsed": true
   },
   "outputs": [],
   "source": [
    "df = df[df['Distance'] < 30]"
   ]
  },
  {
   "cell_type": "code",
   "execution_count": 41,
   "metadata": {
    "collapsed": true
   },
   "outputs": [],
   "source": [
    "#3.1-Done in two steps to ensure data integrity, could've used an or statement as well.\n",
    "df = df[df['mile_hour']<20]\n",
    "#3.2\n",
    "df = df[df['mile_hour']>0.1]"
   ]
  },
  {
   "cell_type": "code",
   "execution_count": 42,
   "metadata": {
    "collapsed": true
   },
   "outputs": [],
   "source": [
    "#Dropping unknown to make the visual more informative. \n",
    "#Unknown gender may be important for the model, which is why I created a copy of the original dataframe.\n",
    "df1 = df.drop(df.index[(df['Gender'] == 0)])"
   ]
  },
  {
   "cell_type": "code",
   "execution_count": 43,
   "metadata": {},
   "outputs": [
    {
     "data": {
      "image/png": "[encoded data removed]",
      "text/plain": [
       "<matplotlib.figure.Figure at 0x10b206fd0>"
      ]
     },
     "metadata": {},
     "output_type": "display_data"
    }
   ],
   "source": [
    "#Rider performance by age and Gender in Min/Mile \n",
    "fig, ax5 = plt.subplots(figsize=(11,5))\n",
    "df1.groupby(['Age','Gender']).median()['min_mile'].unstack().plot(ax=ax5, color =\"bg\")\n",
    "ax5.legend(['Female','Male'])\n",
    "plt.ylabel('Median Speed (min/mile)')\n",
    "plt.title('Rider Performance Based on Gender and Age (Median Speed in min/mile)')\n",
    "plt.show()"
   ]
  },
  {
   "cell_type": "code",
   "execution_count": 44,
   "metadata": {},
   "outputs": [
    {
     "data": {
      "image/png": "[encoded data removed]",
      "text/plain": [
       "<matplotlib.figure.Figure at 0x10fad9c50>"
      ]
     },
     "metadata": {},
     "output_type": "display_data"
    }
   ],
   "source": [
    "#Rider performance by age and Gender in Miles/hr\n",
    "del([fig,ax5])\n",
    "fig1, ax6 = plt.subplots(figsize=(11,5))\n",
    "df1.groupby(['Age','Gender']).median()['mile_hour'].unstack().plot(ax=ax6,color =\"bg\")\n",
    "ax6.legend(['Female', 'Male'])\n",
    "plt.ylabel('Median Speed (miles/hr)')\n",
    "plt.title('Rider Performance Based on Gender and Age (Median Speed in miles/hr)')\n",
    "plt.show()"
   ]
  },
  {
   "cell_type": "code",
   "execution_count": 45,
   "metadata": {},
   "outputs": [
    {
     "data": {
      "image/png": "[encoded data removed]",
      "text/plain": [
       "<matplotlib.figure.Figure at 0x1bed927b00>"
      ]
     },
     "metadata": {},
     "output_type": "display_data"
    }
   ],
   "source": [
    "#Rider performance by age and Gender in Averge Distance\n",
    "del([fig1,ax6])\n",
    "fig2, ax7 = plt.subplots(figsize=(11,5))\n",
    "df1.groupby(['Age','Gender']).mean()['Distance'].unstack().plot(ax=ax7,color =\"bg\")\n",
    "ax7.legend(['Female', 'Male'])\n",
    "plt.ylabel('Average Distance (miles)')\n",
    "plt.title('Rider Performance Based on Gender and Age (Average Distance in Miles)')\n",
    "plt.show()"
   ]
  },
  {
   "cell_type": "markdown",
   "metadata": {},
   "source": [
    "### Part 5: Busiest Bike by Times and Minutes Used\n",
    "*Ask:* \n",
    " 1. What is the busiest bike in NYC in 2017? \n",
    "    - Bike 25738\n",
    " 2. How many times was it used?\n",
    "     - 2355 times\n",
    " 3. How many minutes was it in use?\n",
    "      - 31,340 Minutes\n",
    "\n",
    "- Busiest bike and count can be identified by a groupby function\n",
    "- Function above will also identify the number of times the bike was used\n",
    "- A similar groupby function which calls for the sum on minutes can identify the number of minutes the bike was used. "
   ]
  },
  {
   "cell_type": "code",
   "execution_count": 47,
   "metadata": {},
   "outputs": [],
   "source": [
    "#Bike usage based on number of times used\n",
    "del(df1)\n",
    "bike_use_df = pd.DataFrame()\n",
    "bike_use_df = df.groupby(['Bike ID']).size().reset_index(name = 'Number of Times Used')\n",
    "bike_use_df = bike_use_df.sort_values('Number of Times Used', ascending = False)\n",
    "#bike_use_df.to_csv('Q5.csv')\n",
    "bike_use_df = bike_use_df[:10]\n",
    "bike_use_df['Bike ID'] = bike_use_df['Bike ID'].astype(str)\n",
    "bike_use_df['Bike ID'] = ('Bike ' + bike_use_df['Bike ID'])\n",
    "bike_use_df = bike_use_df.reset_index()\n",
    "#bike_use_df.head()"
   ]
  },
  {
   "cell_type": "code",
   "execution_count": 48,
   "metadata": {},
   "outputs": [
    {
     "data": {
      "image/png": "[encoded data removed]",
      "text/plain": [
       "<matplotlib.figure.Figure at 0x1bed91d9b0>"
      ]
     },
     "metadata": {},
     "output_type": "display_data"
    }
   ],
   "source": [
    "#Visual of most used bike based on Number of Trips\n",
    "ax8 = sns.barplot('Number of Times Used', 'Bike ID',data = bike_use_df, palette=\"GnBu_d\")\n",
    "ax8.set_title('Most Popular Bikes by Number of Times Used')\n",
    "for index, row in bike_use_df.iterrows():\n",
    "    ax8.text(row['Number of Times Used']-90,index,row['Number of Times Used'], color='white', ha=\"center\", fontsize =10)\n",
    "plt.show()"
   ]
  },
  {
   "cell_type": "code",
   "execution_count": 49,
   "metadata": {},
   "outputs": [],
   "source": [
    "#Bike usage based on minutes used\n",
    "#del(ax8)\n",
    "bike_min_df = pd.DataFrame()\n",
    "bike_min_df['Minutes Used'] = df.groupby('Bike ID')['Minutes'].sum()\n",
    "bike_min_df = bike_min_df.reset_index()\n",
    "bike_min_df = bike_min_df.sort_values('Minutes Used', ascending = False)\n",
    "bike_min_df['Bike ID'] = bike_min_df['Bike ID'].astype(str)\n",
    "bike_min_df['Bike ID'] = ('Bike ' + bike_min_df['Bike ID'])\n",
    "bike_min_df = bike_min_df[:10]\n",
    "bike_min_df = bike_min_df.reset_index()\n",
    "#bike_min_df.head()"
   ]
  },
  {
   "cell_type": "code",
   "execution_count": 50,
   "metadata": {},
   "outputs": [
    {
     "data": {
      "image/png": "[encoded data removed]",
      "text/plain": [
       "<matplotlib.figure.Figure at 0x10b259828>"
      ]
     },
     "metadata": {},
     "output_type": "display_data"
    }
   ],
   "source": [
    "#Visual of most used bike based on number of minutes used\n",
    "ax9 = sns.barplot('Minutes Used', 'Bike ID',data = bike_min_df, palette=\"GnBu_d\")\n",
    "ax9.set_title('Most Popular Bikes by Minutes Used')\n",
    "rcParams['figure.figsize'] = 11,6\n",
    "for index, row in bike_min_df.iterrows():\n",
    "    ax9.text(row['Minutes Used']-2800,index,str(round(row['Minutes Used'],2))+' Minutes', \n",
    "             color='white', ha=\"center\")\n",
    "plt.show()"
   ]
  },
  {
   "cell_type": "markdown",
   "metadata": {},
   "source": [
    "### Part 6.1: Predictive Model - Baseline Model\n",
    "Ask: Build a model that can predict how long a trip will take given a starting \n",
    "     point and destination. \n",
    "\n",
    "***Assumptions on how the Kiosk will work:*** After speaking to Daniel Yawitz (if you're \n",
    "looking at this, thanks for the clarification), I was told that we should assume that when\n",
    "a user inputs the start and end station, they swipe their key fob (if they're a subscriber)\n",
    "and enter their info on the kiosk (if they're a \"Customer\") prior to entering the start \n",
    "and end station. This means that we would know their gender and age. Thus these variables\n",
    "can be used in building the model.\n",
    "\n",
    "Step 1.  \n",
    "   - This dataset is massive. Almost 14 million rows. Let's work on a *random* subsample while we build and evaluate models. If I tried to build and evaluate a model on the entire dataset, each run would take me ~10+ minutes depending on the model. One good way to decide what portion of your data to work with is using a learning curve. However, my kernel keeps crashing while trying to create that learning curve. However, given the size of the data and from experience by working with senior data scientists on projects with BAML and other firms I know that I can comfortably work with a few thoushand rows of data given the fact that this is only one year of data. If we were working with data for multiple years, I'd need to reconsider this approach. However, given the reasons above, I've decided to sample 10% of the data. It's stil ~1.3 million rows and should be a representative sample since it's randomly selected. I'll be evaluating my model on df_sample.\n",
    "  - I also made the same visuals on the sample to visualize the data.\n",
    "          \n",
    "          \n",
    "Step 2. \n",
    "  - Let's get a baseline. If I were to just run a simple multi-variate linear regression, what would my model look like and how accurate would it be? Need to prepare the data for a multivariate regression\n",
    "      1. Drop irrelevant columns\n",
    "           - Trip Duration: We have the minutes column, which is the target variable\n",
    "            - Stop Time: In the real world, we won't have this information when predicting the trip duration.\n",
    "             - Start Station ID: Start Station Name captures this information\n",
    "            - Start Station Latitude: Start Station Name captures this information\n",
    "            - Start Station Longitude: Start Station Name captures this information\n",
    "            - Start Coordinates: Start Station Name captures this information\n",
    "            - End Station ID: End Station Name captures this information\n",
    "           - End Station Latitude: End Station Name captures this information\n",
    "            - End Station Longitude: End Station Name captures this information\n",
    "            - End Coordinates: End Station Name captures this information\n",
    "             - Bike Id: We won't know what bike the user is going to end up using\n",
    "             - Min_Mile: Effectively the same information as end time when combined with distance. We won't have this information in the real world.\n",
    "             - mile_hour: Effectively the same information as end time when combined with distance. We won't have this information in the real world.\n",
    "                    (Speed * Distance = Trip Duration): Which is why speed is dropped\n",
    "             - Birth Year: Age captures this information\n",
    "             - Start Station Name and End Station Name: The distance variable captures the same information. For the model, if a user is inputting start and end station, we can build a simple function to calculate the distance which would capture the same information.\n",
    "      2. Basic cleaning of data FOR NOW.This is only being done for the baseline model\n",
    "          - Start Time: Requires reformatting. Will do this after baseline model\n",
    "           - Dumify categorical variables\n",
    "            - Scale Age\n",
    "            - Don't scale distance, since it does not just represent distance, but is also indicative of the trip the rider is making (start and station)\n",
    "      3. Anomalies in Trip Duration\n",
    "          - I'm going to come back to an observation from earlier. Any trip which lasts longer than *45 minutes(2,700 seconds)* probably indicates a stolen bike, incorrect docking of the bike, or an anomaly. No rider would plan to go over the maximum 45 minutes allowed. Additionally, there are only ~200k rows where the trips last longer than 45 minutes. That is less than 1% of the data and can be considered anomalies. Even if we include it, the model won't be able to learn from it due to the small sample. Lastly, as an avid Citibike user, I know first hand that it doesn't make any sense for one to use a bike for more than 45 minutes! The only way a trip actually lasts more than 45 minutes is if a user couldn't find a dock at their desired station. \n",
    "\n",
    "- Age was removed after an initial run indicated it had no effect on the model. This was also clearly indicated in some of the visuals above. Reasons for not binning age are in section 6.3."
   ]
  },
  {
   "cell_type": "code",
   "execution_count": 51,
   "metadata": {},
   "outputs": [
    {
     "data": {
      "text/html": [
       "<div>\n",
       "<style>\n",
       "    .dataframe thead tr:only-child th {\n",
       "        text-align: right;\n",
       "    }\n",
       "\n",
       "    .dataframe thead th {\n",
       "        text-align: left;\n",
       "    }\n",
       "\n",
       "    .dataframe tbody tr th {\n",
       "        vertical-align: top;\n",
       "    }\n",
       "</style>\n",
       "<table border=\"1\" class=\"dataframe\">\n",
       "  <thead>\n",
       "    <tr style=\"text-align: right;\">\n",
       "      <th></th>\n",
       "      <th>Trip Duration</th>\n",
       "      <th>Start Station ID</th>\n",
       "      <th>Start Station Latitude</th>\n",
       "      <th>Start Station Longitude</th>\n",
       "      <th>End Station ID</th>\n",
       "      <th>End Station Latitude</th>\n",
       "      <th>End Station Longitude</th>\n",
       "      <th>Bike ID</th>\n",
       "      <th>Birth Year</th>\n",
       "      <th>Minutes</th>\n",
       "      <th>Distance</th>\n",
       "      <th>Age</th>\n",
       "      <th>min_mile</th>\n",
       "      <th>mile_hour</th>\n",
       "    </tr>\n",
       "  </thead>\n",
       "  <tbody>\n",
       "    <tr>\n",
       "      <th>count</th>\n",
       "      <td>15430461.00</td>\n",
       "      <td>15430461.00</td>\n",
       "      <td>15430461.00</td>\n",
       "      <td>15430461.00</td>\n",
       "      <td>15430461.00</td>\n",
       "      <td>15430461.00</td>\n",
       "      <td>15430461.00</td>\n",
       "      <td>15430461.00</td>\n",
       "      <td>15430461.00</td>\n",
       "      <td>15430461.00</td>\n",
       "      <td>15430461.00</td>\n",
       "      <td>15430461.00</td>\n",
       "      <td>15430461.00</td>\n",
       "      <td>15430461.00</td>\n",
       "    </tr>\n",
       "    <tr>\n",
       "      <th>mean</th>\n",
       "      <td>802.25</td>\n",
       "      <td>1351.80</td>\n",
       "      <td>40.74</td>\n",
       "      <td>-73.98</td>\n",
       "      <td>1343.90</td>\n",
       "      <td>40.74</td>\n",
       "      <td>-73.98</td>\n",
       "      <td>23770.72</td>\n",
       "      <td>1980.18</td>\n",
       "      <td>13.37</td>\n",
       "      <td>1.16</td>\n",
       "      <td>37.82</td>\n",
       "      <td>13.60</td>\n",
       "      <td>5.68</td>\n",
       "    </tr>\n",
       "    <tr>\n",
       "      <th>std</th>\n",
       "      <td>630.68</td>\n",
       "      <td>1345.08</td>\n",
       "      <td>0.03</td>\n",
       "      <td>0.02</td>\n",
       "      <td>1342.96</td>\n",
       "      <td>0.03</td>\n",
       "      <td>0.02</td>\n",
       "      <td>5345.41</td>\n",
       "      <td>10.07</td>\n",
       "      <td>10.51</td>\n",
       "      <td>0.87</td>\n",
       "      <td>10.07</td>\n",
       "      <td>17.31</td>\n",
       "      <td>1.90</td>\n",
       "    </tr>\n",
       "    <tr>\n",
       "      <th>min</th>\n",
       "      <td>61.00</td>\n",
       "      <td>72.00</td>\n",
       "      <td>40.65</td>\n",
       "      <td>-74.03</td>\n",
       "      <td>72.00</td>\n",
       "      <td>40.65</td>\n",
       "      <td>-74.07</td>\n",
       "      <td>14529.00</td>\n",
       "      <td>1956.00</td>\n",
       "      <td>1.02</td>\n",
       "      <td>0.02</td>\n",
       "      <td>17.00</td>\n",
       "      <td>3.01</td>\n",
       "      <td>0.11</td>\n",
       "    </tr>\n",
       "    <tr>\n",
       "      <th>25%</th>\n",
       "      <td>371.00</td>\n",
       "      <td>361.00</td>\n",
       "      <td>40.72</td>\n",
       "      <td>-74.00</td>\n",
       "      <td>359.00</td>\n",
       "      <td>40.72</td>\n",
       "      <td>-74.00</td>\n",
       "      <td>18667.00</td>\n",
       "      <td>1973.00</td>\n",
       "      <td>6.18</td>\n",
       "      <td>0.55</td>\n",
       "      <td>30.00</td>\n",
       "      <td>8.70</td>\n",
       "      <td>4.56</td>\n",
       "    </tr>\n",
       "    <tr>\n",
       "      <th>50%</th>\n",
       "      <td>615.00</td>\n",
       "      <td>487.00</td>\n",
       "      <td>40.74</td>\n",
       "      <td>-73.99</td>\n",
       "      <td>486.00</td>\n",
       "      <td>40.74</td>\n",
       "      <td>-73.99</td>\n",
       "      <td>25481.00</td>\n",
       "      <td>1982.00</td>\n",
       "      <td>10.25</td>\n",
       "      <td>0.90</td>\n",
       "      <td>36.00</td>\n",
       "      <td>10.47</td>\n",
       "      <td>5.73</td>\n",
       "    </tr>\n",
       "    <tr>\n",
       "      <th>75%</th>\n",
       "      <td>1058.00</td>\n",
       "      <td>3141.00</td>\n",
       "      <td>40.76</td>\n",
       "      <td>-73.98</td>\n",
       "      <td>3140.00</td>\n",
       "      <td>40.76</td>\n",
       "      <td>-73.98</td>\n",
       "      <td>28124.00</td>\n",
       "      <td>1988.00</td>\n",
       "      <td>17.63</td>\n",
       "      <td>1.48</td>\n",
       "      <td>45.00</td>\n",
       "      <td>13.17</td>\n",
       "      <td>6.90</td>\n",
       "    </tr>\n",
       "    <tr>\n",
       "      <th>max</th>\n",
       "      <td>7200.00</td>\n",
       "      <td>3654.00</td>\n",
       "      <td>40.81</td>\n",
       "      <td>-73.91</td>\n",
       "      <td>3654.00</td>\n",
       "      <td>40.81</td>\n",
       "      <td>-73.91</td>\n",
       "      <td>33481.00</td>\n",
       "      <td>2001.00</td>\n",
       "      <td>120.00</td>\n",
       "      <td>10.20</td>\n",
       "      <td>62.00</td>\n",
       "      <td>571.42</td>\n",
       "      <td>19.94</td>\n",
       "    </tr>\n",
       "  </tbody>\n",
       "</table>\n",
       "</div>"
      ],
      "text/plain": [
       "       Trip Duration  Start Station ID  Start Station Latitude  \\\n",
       "count    15430461.00       15430461.00             15430461.00   \n",
       "mean          802.25           1351.80                   40.74   \n",
       "std           630.68           1345.08                    0.03   \n",
       "min            61.00             72.00                   40.65   \n",
       "25%           371.00            361.00                   40.72   \n",
       "50%           615.00            487.00                   40.74   \n",
       "75%          1058.00           3141.00                   40.76   \n",
       "max          7200.00           3654.00                   40.81   \n",
       "\n",
       "       Start Station Longitude  End Station ID  End Station Latitude  \\\n",
       "count              15430461.00     15430461.00           15430461.00   \n",
       "mean                    -73.98         1343.90                 40.74   \n",
       "std                       0.02         1342.96                  0.03   \n",
       "min                     -74.03           72.00                 40.65   \n",
       "25%                     -74.00          359.00                 40.72   \n",
       "50%                     -73.99          486.00                 40.74   \n",
       "75%                     -73.98         3140.00                 40.76   \n",
       "max                     -73.91         3654.00                 40.81   \n",
       "\n",
       "       End Station Longitude      Bike ID   Birth Year      Minutes  \\\n",
       "count            15430461.00  15430461.00  15430461.00  15430461.00   \n",
       "mean                  -73.98     23770.72      1980.18        13.37   \n",
       "std                     0.02      5345.41        10.07        10.51   \n",
       "min                   -74.07     14529.00      1956.00         1.02   \n",
       "25%                   -74.00     18667.00      1973.00         6.18   \n",
       "50%                   -73.99     25481.00      1982.00        10.25   \n",
       "75%                   -73.98     28124.00      1988.00        17.63   \n",
       "max                   -73.91     33481.00      2001.00       120.00   \n",
       "\n",
       "          Distance          Age     min_mile    mile_hour  \n",
       "count  15430461.00  15430461.00  15430461.00  15430461.00  \n",
       "mean          1.16        37.82        13.60         5.68  \n",
       "std           0.87        10.07        17.31         1.90  \n",
       "min           0.02        17.00         3.01         0.11  \n",
       "25%           0.55        30.00         8.70         4.56  \n",
       "50%           0.90        36.00        10.47         5.73  \n",
       "75%           1.48        45.00        13.17         6.90  \n",
       "max          10.20        62.00       571.42        19.94  "
      ]
     },
     "execution_count": 51,
     "metadata": {},
     "output_type": "execute_result"
    }
   ],
   "source": [
    "round(df.describe(),2)"
   ]
  },
  {
   "cell_type": "markdown",
   "metadata": {},
   "source": [
    "### Observations\n",
    "- We have some unreasonable speeds in min_mile column, but that's fine. Some people may have walked with their bike or stopped at multiple destinations before docking.\n",
    "- The sample data below seems to be representative of the entire dataset above."
   ]
  },
  {
   "cell_type": "code",
   "execution_count": 52,
   "metadata": {
    "collapsed": true
   },
   "outputs": [],
   "source": [
    "#Cleaning up anomalies\n",
    "df = df.drop(df.index[(df['Trip Duration'] > 2700)])"
   ]
  },
  {
   "cell_type": "code",
   "execution_count": 53,
   "metadata": {
    "collapsed": true
   },
   "outputs": [],
   "source": [
    "#Let's work with a random sample of the data and inspect it thoroughly to ensure it's representative\n",
    "df_sample = df.sample(frac = 0.1, random_state = 0)\n",
    "#round(df_sample.describe(),2)"
   ]
  },
  {
   "cell_type": "markdown",
   "metadata": {},
   "source": [
    "### Build a Baseline Model"
   ]
  },
  {
   "cell_type": "code",
   "execution_count": 54,
   "metadata": {
    "collapsed": true
   },
   "outputs": [],
   "source": [
    "#Drop Irrelevant data\n",
    "def drop_data(df):\n",
    "    df = df.drop(['Trip Duration','Stop Time','Start Station ID','Start Station Latitude','Start Station Longitude',\n",
    "                  'Start Coordinates','End Station ID', 'End Station Latitude', 'End Station Longitude', \n",
    "                  'End Coordinates','Bike ID', 'Start Station Name','Birth Year','End Station Name','min_mile',\n",
    "                  'mile_hour','Age'], axis = 1)\n",
    "    return df\n",
    "\n",
    "df_basemodel = drop_data(df_sample)"
   ]
  },
  {
   "cell_type": "code",
   "execution_count": 55,
   "metadata": {
    "collapsed": true
   },
   "outputs": [],
   "source": [
    "df_basemodel = df_basemodel.drop('Start Time', axis =1)"
   ]
  },
  {
   "cell_type": "code",
   "execution_count": 57,
   "metadata": {},
   "outputs": [],
   "source": [
    "#Dummify categorical data and avoid dummy variable trap\n",
    "df_basemodel = pd.get_dummies(df_basemodel, drop_first = True)\n",
    "#df_basemodel.dtypes"
   ]
  },
  {
   "cell_type": "code",
   "execution_count": 58,
   "metadata": {},
   "outputs": [
    {
     "data": {
      "text/plain": [
       "Minutes                 1.000000\n",
       "Distance                0.771171\n",
       "User Type_Subscriber   -0.294627\n",
       "Gender_1               -0.190629\n",
       "Gender_2                0.037799\n",
       "Name: Minutes, dtype: float64"
      ]
     },
     "execution_count": 58,
     "metadata": {},
     "output_type": "execute_result"
    }
   ],
   "source": [
    "df_basemodel.corr().loc[:,'Minutes']"
   ]
  },
  {
   "cell_type": "code",
   "execution_count": 59,
   "metadata": {},
   "outputs": [
    {
     "name": "stderr",
     "output_type": "stream",
     "text": [
      "/Users/vinit.shah1ibm.com/anaconda3/lib/python3.6/site-packages/sklearn/cross_validation.py:41: DeprecationWarning: This module was deprecated in version 0.18 in favor of the model_selection module into which all the refactored classes and functions are moved. Also note that the interface of the new CV iterators are different from that of this module. This module will be removed in 0.20.\n",
      "  \"This module will be removed in 0.20.\", DeprecationWarning)\n"
     ]
    }
   ],
   "source": [
    "#Train Test Split\n",
    "#Predictor variable\n",
    "X = df_basemodel.iloc[:,1:]\n",
    "#Target variable\n",
    "y = df_basemodel.iloc[:,0]\n",
    "\n",
    "from sklearn.cross_validation import train_test_split\n",
    "X_train, X_test, y_train, y_test = train_test_split(X, y, test_size = 0.2, random_state = 0)"
   ]
  },
  {
   "cell_type": "code",
   "execution_count": 60,
   "metadata": {},
   "outputs": [
    {
     "data": {
      "text/plain": [
       "0.66648953317323967"
      ]
     },
     "execution_count": 60,
     "metadata": {},
     "output_type": "execute_result"
    }
   ],
   "source": [
    "#Fit Linear Regression and check accuracy using sklearn\n",
    "from sklearn.linear_model import LinearRegression\n",
    "regressor = LinearRegression()\n",
    "regressor.fit(X_train, y_train)\n",
    "regressor.score(X_test,y_test)"
   ]
  },
  {
   "cell_type": "code",
   "execution_count": 61,
   "metadata": {},
   "outputs": [
    {
     "name": "stderr",
     "output_type": "stream",
     "text": [
      "/Users/vinit.shah1ibm.com/anaconda3/lib/python3.6/site-packages/statsmodels/compat/pandas.py:56: FutureWarning: The pandas.core.datetools module is deprecated and will be removed in a future version. Please use the pandas.tseries module instead.\n",
      "  from pandas.core import datetools\n"
     ]
    },
    {
     "data": {
      "text/html": [
       "<table class=\"simpletable\">\n",
       "<caption>OLS Regression Results</caption>\n",
       "<tr>\n",
       "  <th>Dep. Variable:</th>         <td>Minutes</td>     <th>  R-squared:         </th>  <td>   0.665</td>  \n",
       "</tr>\n",
       "<tr>\n",
       "  <th>Model:</th>                   <td>OLS</td>       <th>  Adj. R-squared:    </th>  <td>   0.665</td>  \n",
       "</tr>\n",
       "<tr>\n",
       "  <th>Method:</th>             <td>Least Squares</td>  <th>  F-statistic:       </th>  <td>6.043e+05</td> \n",
       "</tr>\n",
       "<tr>\n",
       "  <th>Date:</th>             <td>Mon, 30 Apr 2018</td> <th>  Prob (F-statistic):</th>   <td>  0.00</td>   \n",
       "</tr>\n",
       "<tr>\n",
       "  <th>Time:</th>                 <td>20:31:24</td>     <th>  Log-Likelihood:    </th> <td>-3.7093e+06</td>\n",
       "</tr>\n",
       "<tr>\n",
       "  <th>No. Observations:</th>      <td>1218649</td>     <th>  AIC:               </th>  <td>7.419e+06</td> \n",
       "</tr>\n",
       "<tr>\n",
       "  <th>Df Residuals:</th>          <td>1218644</td>     <th>  BIC:               </th>  <td>7.419e+06</td> \n",
       "</tr>\n",
       "<tr>\n",
       "  <th>Df Model:</th>              <td>     4</td>      <th>                     </th>      <td> </td>     \n",
       "</tr>\n",
       "<tr>\n",
       "  <th>Covariance Type:</th>      <td>nonrobust</td>    <th>                     </th>      <td> </td>     \n",
       "</tr>\n",
       "</table>\n",
       "<table class=\"simpletable\">\n",
       "<tr>\n",
       "            <td></td>              <th>coef</th>     <th>std err</th>      <th>t</th>      <th>P>|t|</th>  <th>[0.025</th>    <th>0.975]</th>  \n",
       "</tr>\n",
       "<tr>\n",
       "  <th>const</th>                <td>   10.7046</td> <td>    0.017</td> <td>  637.559</td> <td> 0.000</td> <td>   10.672</td> <td>   10.737</td>\n",
       "</tr>\n",
       "<tr>\n",
       "  <th>Distance</th>             <td>    7.8731</td> <td>    0.005</td> <td> 1442.096</td> <td> 0.000</td> <td>    7.862</td> <td>    7.884</td>\n",
       "</tr>\n",
       "<tr>\n",
       "  <th>User Type_Subscriber</th> <td>   -6.7672</td> <td>    0.027</td> <td> -250.935</td> <td> 0.000</td> <td>   -6.820</td> <td>   -6.714</td>\n",
       "</tr>\n",
       "<tr>\n",
       "  <th>Gender_1</th>             <td>   -1.2693</td> <td>    0.028</td> <td>  -46.095</td> <td> 0.000</td> <td>   -1.323</td> <td>   -1.215</td>\n",
       "</tr>\n",
       "<tr>\n",
       "  <th>Gender_2</th>             <td>    0.0290</td> <td>    0.028</td> <td>    1.024</td> <td> 0.306</td> <td>   -0.027</td> <td>    0.085</td>\n",
       "</tr>\n",
       "</table>\n",
       "<table class=\"simpletable\">\n",
       "<tr>\n",
       "  <th>Omnibus:</th>       <td>624484.376</td> <th>  Durbin-Watson:     </th>  <td>   2.000</td>  \n",
       "</tr>\n",
       "<tr>\n",
       "  <th>Prob(Omnibus):</th>   <td> 0.000</td>   <th>  Jarque-Bera (JB):  </th> <td>5699045.040</td>\n",
       "</tr>\n",
       "<tr>\n",
       "  <th>Skew:</th>            <td> 2.299</td>   <th>  Prob(JB):          </th>  <td>    0.00</td>  \n",
       "</tr>\n",
       "<tr>\n",
       "  <th>Kurtosis:</th>        <td>12.544</td>   <th>  Cond. No.          </th>  <td>    19.6</td>  \n",
       "</tr>\n",
       "</table>"
      ],
      "text/plain": [
       "<class 'statsmodels.iolib.summary.Summary'>\n",
       "\"\"\"\n",
       "                            OLS Regression Results                            \n",
       "==============================================================================\n",
       "Dep. Variable:                Minutes   R-squared:                       0.665\n",
       "Model:                            OLS   Adj. R-squared:                  0.665\n",
       "Method:                 Least Squares   F-statistic:                 6.043e+05\n",
       "Date:                Mon, 30 Apr 2018   Prob (F-statistic):               0.00\n",
       "Time:                        20:31:24   Log-Likelihood:            -3.7093e+06\n",
       "No. Observations:             1218649   AIC:                         7.419e+06\n",
       "Df Residuals:                 1218644   BIC:                         7.419e+06\n",
       "Df Model:                           4                                         \n",
       "Covariance Type:            nonrobust                                         \n",
       "========================================================================================\n",
       "                           coef    std err          t      P>|t|      [0.025      0.975]\n",
       "----------------------------------------------------------------------------------------\n",
       "const                   10.7046      0.017    637.559      0.000      10.672      10.737\n",
       "Distance                 7.8731      0.005   1442.096      0.000       7.862       7.884\n",
       "User Type_Subscriber    -6.7672      0.027   -250.935      0.000      -6.820      -6.714\n",
       "Gender_1                -1.2693      0.028    -46.095      0.000      -1.323      -1.215\n",
       "Gender_2                 0.0290      0.028      1.024      0.306      -0.027       0.085\n",
       "==============================================================================\n",
       "Omnibus:                   624484.376   Durbin-Watson:                   2.000\n",
       "Prob(Omnibus):                  0.000   Jarque-Bera (JB):          5699045.040\n",
       "Skew:                           2.299   Prob(JB):                         0.00\n",
       "Kurtosis:                      12.544   Cond. No.                         19.6\n",
       "==============================================================================\n",
       "\n",
       "Warnings:\n",
       "[1] Standard Errors assume that the covariance matrix of the errors is correctly specified.\n",
       "\"\"\""
      ]
     },
     "execution_count": 61,
     "metadata": {},
     "output_type": "execute_result"
    }
   ],
   "source": [
    "#Using Statsmodel because it has the summary function.\n",
    "import statsmodels.api as sm\n",
    "X_train = sm.add_constant(X_train)\n",
    "X_test = sm.add_constant(X_test)\n",
    "regressor_OLS = sm.OLS(y_train, X_train).fit()\n",
    "regressor_OLS.summary()"
   ]
  },
  {
   "cell_type": "markdown",
   "metadata": {},
   "source": [
    "### Part 6.2: Predictive Model - Including Date \n",
    "\n",
    "**Baseline Model:** Adjusted R^2 and R^2 = 56.5% (depending on random_state)        \n",
    " 1. The baseline model is ok, but nothing spectacular. The R_Squared and Adjusted R_Squared is \n",
    "    pretty much the same, 53.6%. The F-Stat is also 0.00 which is a good sign. The gender female's \n",
    "    p-value is high, however, we can't loose this information due to the fact that this is a categorical\n",
    "    variable and we'd be loosing substantial information by dropping it. \n",
    " 2. Steps to make improvements:\n",
    "    a) Add back time in the following format\n",
    "      - Is the ride on a WEEKDAY or WEEKEND. Weekday, is rush-hour commute for the most part and\n",
    "          probably from home to work. Weekend could be a longer, more casual ride and have higher variability.\n",
    "      - Is the ride in the MORNING, AFTERNOON, EVENING, or NIGHT. The exact timing will be based on the \n",
    "          difference in trip duration based on time of day. Will have visuals below.\n",
    "      - What season is it?\n",
    "        - December - Feb. = Winter\n",
    "        - March - May = Spring\n",
    "        - June - Aug. = Summer\n",
    "        - Sept. - Nov. = Fall\n",
    " 3. Evaluate model and check correlation to ensure against collinearity and identify what's going on"
   ]
  },
  {
   "cell_type": "code",
   "execution_count": 62,
   "metadata": {
    "collapsed": true
   },
   "outputs": [],
   "source": [
    "#The following code was used to create get_date_info\n",
    "'''\n",
    "#Weekday or Weekend: 1 = Weekday, 0 = Weekend\n",
    "df_model1['d_week'] = (df_model1['d_week']<5).astype(int)\n",
    "\n",
    "#Season of the year: Winter = 0, Spring = 1, Summer = 2, Fall = 3\n",
    "df_model1['m_yr'] = df_model1['m_yr'].replace(to_replace=[12,1,2], value = 0)\n",
    "df_model1['m_yr'] = df_model1['m_yr'].replace(to_replace=[3,4,5], value = 1)\n",
    "df_model1['m_yr'] = df_model1['m_yr'].replace(to_replace=[6,7,8], value = 2)\n",
    "df_model1['m_yr'] = df_model1['m_yr'].replace(to_replace=[9,10,11], value = 3)\n",
    "\n",
    "#Visualize difference in ridership based on time of day\n",
    "#Ploted both mean and media, similar pattern, using median due to the high variance in the data\n",
    "fig3, ax10 = plt.subplots(figsize=(15,7))\n",
    "df_model1.groupby('ToD').mean()['Minutes'].plot(ax=ax10)\n",
    "#df_model1.groupby('ToD').median()['Minutes'].plot(ax=ax10)\n",
    "plt.ylabel('Median Minutes per Trip')\n",
    "plt.xlabel('Hour of the Day')\n",
    "plt.title('Median Minutes per Trip by Time of Day')\n",
    "plt.show()\n",
    "\n",
    "#Based on the visual above and distribution of ridership: NIGHT = 20-5, MORNING = 5-9, AFTERNON = 9-14, EVENING = 14-20\n",
    "df_model1['ToD'] = pd.cut(df_model1['ToD'], bins=[-1, 5, 9, 14, 20, 25], labels=['Night','Morning','Afternoon','Evening','Night1'])\n",
    "df_model1['ToD'] = df_model1['ToD'].replace(to_replace='Night1', value = 'Night')\n",
    "df_model1['ToD'] = df_model1['ToD'].cat.remove_unused_categories()\n",
    "\n",
    "#Convert m_yr to categorical\n",
    "df_model1['m_yr'] = df_model1['m_yr'].astype('category')\n",
    "\n",
    "\n",
    "#Dummify categorical data and avoid \n",
    "df_model1 = pd.get_dummies(df_model1, drop_first = True)\n",
    "'''\n",
    "def get_date_info(df):\n",
    "    df['d_week'] = df['Start Time'].dt.dayofweek\n",
    "    df['m_yr'] = df['Start Time'].dt.month\n",
    "    df['ToD'] = df['Start Time'].dt.hour\n",
    "\n",
    "    df['d_week'] = (df['d_week']<5).astype(int)\n",
    "\n",
    "    df['m_yr'] = df['m_yr'].replace(to_replace=[12,1,2], value = 0)\n",
    "    df['m_yr'] = df['m_yr'].replace(to_replace=[3,4,5], value = 1)\n",
    "    df['m_yr'] = df['m_yr'].replace(to_replace=[6,7,8], value = 2)\n",
    "    df['m_yr'] = df['m_yr'].replace(to_replace=[9,10,11], value = 3)\n",
    "    \n",
    "    df['ToD'] = pd.cut(df['ToD'], bins=[-1, 5, 9, 14, 20, 25], labels=['Night','Morning','Afternoon','Evening','Night1'])\n",
    "    df['ToD'] = df['ToD'].replace(to_replace='Night1', value = 'Night')\n",
    "    df['ToD'] = df['ToD'].cat.remove_unused_categories()\n",
    "    \n",
    "    df['m_yr'] = df['m_yr'].astype('category')\n",
    "    df['d_week'] = df['d_week'].astype('category')\n",
    "\n",
    "    return(df)"
   ]
  },
  {
   "cell_type": "code",
   "execution_count": 63,
   "metadata": {
    "collapsed": true
   },
   "outputs": [],
   "source": [
    "#Dataset for the second model\n",
    "df_model1 = drop_data(df_sample)\n",
    "df_model1 = get_date_info(df_model1)\n",
    "df_model1 = df_model1.drop('Start Time', axis =1)"
   ]
  },
  {
   "cell_type": "code",
   "execution_count": 64,
   "metadata": {},
   "outputs": [],
   "source": [
    "#Dummify categorical data and avoid dummy variable trap\n",
    "df_model1 = pd.get_dummies(df_model1, drop_first = True)\n",
    "#df_model1.dtypes"
   ]
  },
  {
   "cell_type": "code",
   "execution_count": 65,
   "metadata": {
    "collapsed": true
   },
   "outputs": [],
   "source": [
    "#Train Test Split\n",
    "#Predictor variable\n",
    "X = df_model1.iloc[:,1:]\n",
    "#Target variable\n",
    "y = df_model1.iloc[:,0]\n",
    "\n",
    "from sklearn.cross_validation import train_test_split\n",
    "X_train, X_test, y_train, y_test = train_test_split(X, y, test_size = 0.2, random_state = 0)"
   ]
  },
  {
   "cell_type": "code",
   "execution_count": 66,
   "metadata": {},
   "outputs": [
    {
     "data": {
      "text/plain": [
       "0.67127631792581355"
      ]
     },
     "execution_count": 66,
     "metadata": {},
     "output_type": "execute_result"
    }
   ],
   "source": [
    "#Fit Linear Regression and check accuracy using sklearn\n",
    "from sklearn.linear_model import LinearRegression\n",
    "regressor = LinearRegression()\n",
    "regressor.fit(X_train, y_train)\n",
    "regressor.score(X_test,y_test)"
   ]
  },
  {
   "cell_type": "code",
   "execution_count": 67,
   "metadata": {},
   "outputs": [
    {
     "data": {
      "text/html": [
       "<table class=\"simpletable\">\n",
       "<caption>OLS Regression Results</caption>\n",
       "<tr>\n",
       "  <th>Dep. Variable:</th>         <td>Minutes</td>     <th>  R-squared:         </th>  <td>   0.670</td>  \n",
       "</tr>\n",
       "<tr>\n",
       "  <th>Model:</th>                   <td>OLS</td>       <th>  Adj. R-squared:    </th>  <td>   0.670</td>  \n",
       "</tr>\n",
       "<tr>\n",
       "  <th>Method:</th>             <td>Least Squares</td>  <th>  F-statistic:       </th>  <td>2.246e+05</td> \n",
       "</tr>\n",
       "<tr>\n",
       "  <th>Date:</th>             <td>Mon, 30 Apr 2018</td> <th>  Prob (F-statistic):</th>   <td>  0.00</td>   \n",
       "</tr>\n",
       "<tr>\n",
       "  <th>Time:</th>                 <td>20:37:38</td>     <th>  Log-Likelihood:    </th> <td>-3.7005e+06</td>\n",
       "</tr>\n",
       "<tr>\n",
       "  <th>No. Observations:</th>      <td>1218649</td>     <th>  AIC:               </th>  <td>7.401e+06</td> \n",
       "</tr>\n",
       "<tr>\n",
       "  <th>Df Residuals:</th>          <td>1218637</td>     <th>  BIC:               </th>  <td>7.401e+06</td> \n",
       "</tr>\n",
       "<tr>\n",
       "  <th>Df Model:</th>              <td>    11</td>      <th>                     </th>      <td> </td>     \n",
       "</tr>\n",
       "<tr>\n",
       "  <th>Covariance Type:</th>      <td>nonrobust</td>    <th>                     </th>      <td> </td>     \n",
       "</tr>\n",
       "</table>\n",
       "<table class=\"simpletable\">\n",
       "<tr>\n",
       "            <td></td>              <th>coef</th>     <th>std err</th>      <th>t</th>      <th>P>|t|</th>  <th>[0.025</th>    <th>0.975]</th>  \n",
       "</tr>\n",
       "<tr>\n",
       "  <th>const</th>                <td>   10.0044</td> <td>    0.026</td> <td>  387.632</td> <td> 0.000</td> <td>    9.954</td> <td>   10.055</td>\n",
       "</tr>\n",
       "<tr>\n",
       "  <th>Distance</th>             <td>    7.8911</td> <td>    0.005</td> <td> 1451.339</td> <td> 0.000</td> <td>    7.880</td> <td>    7.902</td>\n",
       "</tr>\n",
       "<tr>\n",
       "  <th>User Type_Subscriber</th> <td>   -6.3578</td> <td>    0.027</td> <td> -235.510</td> <td> 0.000</td> <td>   -6.411</td> <td>   -6.305</td>\n",
       "</tr>\n",
       "<tr>\n",
       "  <th>Gender_1</th>             <td>   -1.2265</td> <td>    0.027</td> <td>  -44.858</td> <td> 0.000</td> <td>   -1.280</td> <td>   -1.173</td>\n",
       "</tr>\n",
       "<tr>\n",
       "  <th>Gender_2</th>             <td>    0.0197</td> <td>    0.028</td> <td>    0.698</td> <td> 0.485</td> <td>   -0.036</td> <td>    0.075</td>\n",
       "</tr>\n",
       "<tr>\n",
       "  <th>d_week_1</th>             <td>   -0.5932</td> <td>    0.011</td> <td>  -53.268</td> <td> 0.000</td> <td>   -0.615</td> <td>   -0.571</td>\n",
       "</tr>\n",
       "<tr>\n",
       "  <th>m_yr_1</th>               <td>    0.2943</td> <td>    0.015</td> <td>   19.018</td> <td> 0.000</td> <td>    0.264</td> <td>    0.325</td>\n",
       "</tr>\n",
       "<tr>\n",
       "  <th>m_yr_2</th>               <td>    0.5699</td> <td>    0.014</td> <td>   39.390</td> <td> 0.000</td> <td>    0.542</td> <td>    0.598</td>\n",
       "</tr>\n",
       "<tr>\n",
       "  <th>m_yr_3</th>               <td>    0.3983</td> <td>    0.014</td> <td>   27.536</td> <td> 0.000</td> <td>    0.370</td> <td>    0.427</td>\n",
       "</tr>\n",
       "<tr>\n",
       "  <th>ToD_Morning</th>          <td>   -0.4817</td> <td>    0.018</td> <td>  -26.844</td> <td> 0.000</td> <td>   -0.517</td> <td>   -0.447</td>\n",
       "</tr>\n",
       "<tr>\n",
       "  <th>ToD_Afternoon</th>        <td>    0.8112</td> <td>    0.017</td> <td>   46.531</td> <td> 0.000</td> <td>    0.777</td> <td>    0.845</td>\n",
       "</tr>\n",
       "<tr>\n",
       "  <th>ToD_Evening</th>          <td>    0.6005</td> <td>    0.016</td> <td>   36.671</td> <td> 0.000</td> <td>    0.568</td> <td>    0.633</td>\n",
       "</tr>\n",
       "</table>\n",
       "<table class=\"simpletable\">\n",
       "<tr>\n",
       "  <th>Omnibus:</th>       <td>619068.574</td> <th>  Durbin-Watson:     </th>  <td>   2.000</td>  \n",
       "</tr>\n",
       "<tr>\n",
       "  <th>Prob(Omnibus):</th>   <td> 0.000</td>   <th>  Jarque-Bera (JB):  </th> <td>5630436.789</td>\n",
       "</tr>\n",
       "<tr>\n",
       "  <th>Skew:</th>            <td> 2.274</td>   <th>  Prob(JB):          </th>  <td>    0.00</td>  \n",
       "</tr>\n",
       "<tr>\n",
       "  <th>Kurtosis:</th>        <td>12.497</td>   <th>  Cond. No.          </th>  <td>    22.1</td>  \n",
       "</tr>\n",
       "</table>"
      ],
      "text/plain": [
       "<class 'statsmodels.iolib.summary.Summary'>\n",
       "\"\"\"\n",
       "                            OLS Regression Results                            \n",
       "==============================================================================\n",
       "Dep. Variable:                Minutes   R-squared:                       0.670\n",
       "Model:                            OLS   Adj. R-squared:                  0.670\n",
       "Method:                 Least Squares   F-statistic:                 2.246e+05\n",
       "Date:                Mon, 30 Apr 2018   Prob (F-statistic):               0.00\n",
       "Time:                        20:37:38   Log-Likelihood:            -3.7005e+06\n",
       "No. Observations:             1218649   AIC:                         7.401e+06\n",
       "Df Residuals:                 1218637   BIC:                         7.401e+06\n",
       "Df Model:                          11                                         \n",
       "Covariance Type:            nonrobust                                         \n",
       "========================================================================================\n",
       "                           coef    std err          t      P>|t|      [0.025      0.975]\n",
       "----------------------------------------------------------------------------------------\n",
       "const                   10.0044      0.026    387.632      0.000       9.954      10.055\n",
       "Distance                 7.8911      0.005   1451.339      0.000       7.880       7.902\n",
       "User Type_Subscriber    -6.3578      0.027   -235.510      0.000      -6.411      -6.305\n",
       "Gender_1                -1.2265      0.027    -44.858      0.000      -1.280      -1.173\n",
       "Gender_2                 0.0197      0.028      0.698      0.485      -0.036       0.075\n",
       "d_week_1                -0.5932      0.011    -53.268      0.000      -0.615      -0.571\n",
       "m_yr_1                   0.2943      0.015     19.018      0.000       0.264       0.325\n",
       "m_yr_2                   0.5699      0.014     39.390      0.000       0.542       0.598\n",
       "m_yr_3                   0.3983      0.014     27.536      0.000       0.370       0.427\n",
       "ToD_Morning             -0.4817      0.018    -26.844      0.000      -0.517      -0.447\n",
       "ToD_Afternoon            0.8112      0.017     46.531      0.000       0.777       0.845\n",
       "ToD_Evening              0.6005      0.016     36.671      0.000       0.568       0.633\n",
       "==============================================================================\n",
       "Omnibus:                   619068.574   Durbin-Watson:                   2.000\n",
       "Prob(Omnibus):                  0.000   Jarque-Bera (JB):          5630436.789\n",
       "Skew:                           2.274   Prob(JB):                         0.00\n",
       "Kurtosis:                      12.497   Cond. No.                         22.1\n",
       "==============================================================================\n",
       "\n",
       "Warnings:\n",
       "[1] Standard Errors assume that the covariance matrix of the errors is correctly specified.\n",
       "\"\"\""
      ]
     },
     "execution_count": 67,
     "metadata": {},
     "output_type": "execute_result"
    }
   ],
   "source": [
    "#Using Statsmodel because it has the summary function.\n",
    "import statsmodels.api as sm\n",
    "X_train = sm.add_constant(X_train)\n",
    "X_test = sm.add_constant(X_test)\n",
    "regressor_OLS = sm.OLS(y_train, X_train).fit()\n",
    "regressor_OLS.summary()"
   ]
  },
  {
   "cell_type": "code",
   "execution_count": null,
   "metadata": {},
   "outputs": [],
   "source": [
    "#df_model1.corr().loc[:,'Minutes']"
   ]
  },
  {
   "cell_type": "markdown",
   "metadata": {},
   "source": [
    "### Part 6.3: Predictive Model - Improving Model 1\n",
    "Model 1: Negligible improvement in R^2: 67% (depending on random_state used)\n",
    "\n",
    "   - Date seems to not have as big of an impact. May be more useful to split time and day differently, but\n",
    "    acording to the graphs, there is no indication of a better split. Next steps will be to factor in speed\n",
    "    and distance based on Gender and Trip. By not being able to encode start and end stations (due to the\n",
    "    sheer number of points), we are losing crucial information on the trip itself. We need another proxy for\n",
    "    those measures. \n",
    "   - Another change I could make is to bin age into buckets. However, the data indicates that age has no correlation\n",
    "    or effect on the trip duration. This is counter-intuitive, however, I don't have a good reason to refute the data.\n",
    "\n",
    "Next Steps:\n",
    " 1. Include Average Speed based on: Trip and User Type\n",
    "    - Reason for Trip: \n",
    "      - Some trips are up hill, others are down hill. Some routes, such as one through times square involve heavy trafic, based on intuition.\n",
    "     - Reason for User Type: \n",
    "        - Tourists (Customers), will usually ride more slowly with frequent stops than a Subscriber, according to the data.\n",
    " 2. Include average duration for each trip based on: Trip and User Type\n",
    "    - Reason, for each, same as above.\n",
    "      - Using seconds instead of minutes for granularity in information.\n",
    "\n",
    " 3. A bit of inexperience here:\n",
    "    - The imputed columns are \"dependent\" variables in the since speed is derived from trip duration and distance. \n",
    "      - There may be a better way to do this, however, I would need to consult someone. Would appreciate feedback on this.\n",
    "      - I don't think it should be a big issue that they're \"dependent\" since they serve more as anchor points. But I'd appreciate feeback."
   ]
  },
  {
   "cell_type": "code",
   "execution_count": 69,
   "metadata": {
    "collapsed": true
   },
   "outputs": [],
   "source": [
    "#Code below used to create get_speed_distance\n",
    "'''\n",
    "df_model2 = df_sample\n",
    "\n",
    "df_model2['Start Station Name'] = df_model2['Start Station Name'].astype(str)\n",
    "df_model2['End Station Name'] = df_model2['End Station Name'].astype(str)\n",
    "df_model2['Trip'] = df_model2['Start Station Name'] + ' to ' + df_model2['End Station Name']\n",
    "df_model2['Trip'] = df_model2['Trip'].astype('category')\n",
    "\n",
    "df_model2['avg_speed'] = df_model2.groupby(['Trip','User Type'])['mile_hour'].transform('mean')\n",
    "df_model2['avg_duration'] = df_model2.groupby(['Trip','User Type'])['Trip Duration'].transform('median')\n",
    "#Code to make sure transfrom function works appropriately.\n",
    "#df_model2[df_model2['avg_speed']==df_model2.loc[258881]['avg_speed']]\n",
    "'''\n",
    "def get_speed_distance(df):\n",
    "\n",
    "    df['Start Station Name'] = df['Start Station Name'].astype(str)\n",
    "    df['End Station Name'] = df['End Station Name'].astype(str)\n",
    "    df['Trip'] = df['Start Station Name'] + ' to ' + df['End Station Name']\n",
    "    df['Trip'] = df['Trip'].astype('category')\n",
    "    \n",
    "    df['avg_speed'] = df.groupby(['Trip','User Type'])['mile_hour'].transform('mean')\n",
    "    df['avg_duration'] = df.groupby(['Trip','User Type'])['Trip Duration'].transform('median')\n",
    "    \n",
    "    return df"
   ]
  },
  {
   "cell_type": "code",
   "execution_count": 70,
   "metadata": {
    "collapsed": true
   },
   "outputs": [],
   "source": [
    "#Drop Irrelevant data, updated with Trip\n",
    "def drop_data_trip(df):\n",
    "    df = df.drop(['Trip Duration','Stop Time','Start Station ID','Start Station Latitude','Start Station Longitude',\n",
    "                  'Start Coordinates','End Station ID', 'End Station Latitude', 'End Station Longitude', \n",
    "                  'End Coordinates','Bike ID', 'Start Station Name','Birth Year','End Station Name','min_mile', \n",
    "                  'mile_hour', 'Age', 'Trip'], axis = 1)\n",
    "    return df"
   ]
  },
  {
   "cell_type": "code",
   "execution_count": 71,
   "metadata": {
    "collapsed": true
   },
   "outputs": [],
   "source": [
    "df_model2 = get_speed_distance(df_sample)\n",
    "df_model2 = drop_data_trip(df_model2)\n",
    "df_model2 = get_date_info(df_model2)\n",
    "df_model2 = df_model2.drop('Start Time', axis =1)"
   ]
  },
  {
   "cell_type": "code",
   "execution_count": 72,
   "metadata": {},
   "outputs": [],
   "source": [
    "#Dummify categorical data and avoid dummy variable trap\n",
    "df_model2 = pd.get_dummies(df_model2, drop_first = True)\n",
    "#df_model2.dtypes"
   ]
  },
  {
   "cell_type": "code",
   "execution_count": 73,
   "metadata": {
    "collapsed": true
   },
   "outputs": [],
   "source": [
    "#Train Test Split\n",
    "#Predictor variable\n",
    "X = df_model2.iloc[:,1:]\n",
    "#Target variable\n",
    "y = df_model2.iloc[:,0]\n",
    "#Split\n",
    "X_train, X_test, y_train, y_test = train_test_split(X, y, test_size = 0.2, random_state = 0)"
   ]
  },
  {
   "cell_type": "code",
   "execution_count": 74,
   "metadata": {},
   "outputs": [
    {
     "data": {
      "text/plain": [
       "0.78047602284380124"
      ]
     },
     "execution_count": 74,
     "metadata": {},
     "output_type": "execute_result"
    }
   ],
   "source": [
    "#Fit Linear Regression and check accuracy using sklearn\n",
    "from sklearn.linear_model import LinearRegression\n",
    "regressor = LinearRegression()\n",
    "regressor.fit(X_train, y_train)\n",
    "regressor.score(X_test,y_test)"
   ]
  },
  {
   "cell_type": "code",
   "execution_count": 75,
   "metadata": {},
   "outputs": [
    {
     "data": {
      "text/html": [
       "<table class=\"simpletable\">\n",
       "<caption>OLS Regression Results</caption>\n",
       "<tr>\n",
       "  <th>Dep. Variable:</th>         <td>Minutes</td>     <th>  R-squared:         </th>  <td>   0.779</td>  \n",
       "</tr>\n",
       "<tr>\n",
       "  <th>Model:</th>                   <td>OLS</td>       <th>  Adj. R-squared:    </th>  <td>   0.779</td>  \n",
       "</tr>\n",
       "<tr>\n",
       "  <th>Method:</th>             <td>Least Squares</td>  <th>  F-statistic:       </th>  <td>3.300e+05</td> \n",
       "</tr>\n",
       "<tr>\n",
       "  <th>Date:</th>             <td>Mon, 30 Apr 2018</td> <th>  Prob (F-statistic):</th>   <td>  0.00</td>   \n",
       "</tr>\n",
       "<tr>\n",
       "  <th>Time:</th>                 <td>21:08:17</td>     <th>  Log-Likelihood:    </th> <td>-3.4561e+06</td>\n",
       "</tr>\n",
       "<tr>\n",
       "  <th>No. Observations:</th>      <td>1218649</td>     <th>  AIC:               </th>  <td>6.912e+06</td> \n",
       "</tr>\n",
       "<tr>\n",
       "  <th>Df Residuals:</th>          <td>1218635</td>     <th>  BIC:               </th>  <td>6.912e+06</td> \n",
       "</tr>\n",
       "<tr>\n",
       "  <th>Df Model:</th>              <td>    13</td>      <th>                     </th>      <td> </td>     \n",
       "</tr>\n",
       "<tr>\n",
       "  <th>Covariance Type:</th>      <td>nonrobust</td>    <th>                     </th>      <td> </td>     \n",
       "</tr>\n",
       "</table>\n",
       "<table class=\"simpletable\">\n",
       "<tr>\n",
       "            <td></td>              <th>coef</th>     <th>std err</th>      <th>t</th>      <th>P>|t|</th>  <th>[0.025</th>    <th>0.975]</th>  \n",
       "</tr>\n",
       "<tr>\n",
       "  <th>const</th>                <td>    4.5138</td> <td>    0.039</td> <td>  116.697</td> <td> 0.000</td> <td>    4.438</td> <td>    4.590</td>\n",
       "</tr>\n",
       "<tr>\n",
       "  <th>Distance</th>             <td>    1.9702</td> <td>    0.018</td> <td>  108.930</td> <td> 0.000</td> <td>    1.935</td> <td>    2.006</td>\n",
       "</tr>\n",
       "<tr>\n",
       "  <th>avg_speed</th>            <td>   -0.6151</td> <td>    0.006</td> <td> -108.900</td> <td> 0.000</td> <td>   -0.626</td> <td>   -0.604</td>\n",
       "</tr>\n",
       "<tr>\n",
       "  <th>avg_duration</th>         <td>    0.0130</td> <td> 2.98e-05</td> <td>  434.945</td> <td> 0.000</td> <td>    0.013</td> <td>    0.013</td>\n",
       "</tr>\n",
       "<tr>\n",
       "  <th>User Type_Subscriber</th> <td>    0.5560</td> <td>    0.024</td> <td>   23.334</td> <td> 0.000</td> <td>    0.509</td> <td>    0.603</td>\n",
       "</tr>\n",
       "<tr>\n",
       "  <th>Gender_1</th>             <td>   -0.8046</td> <td>    0.022</td> <td>  -35.949</td> <td> 0.000</td> <td>   -0.848</td> <td>   -0.761</td>\n",
       "</tr>\n",
       "<tr>\n",
       "  <th>Gender_2</th>             <td>    0.0939</td> <td>    0.023</td> <td>    4.074</td> <td> 0.000</td> <td>    0.049</td> <td>    0.139</td>\n",
       "</tr>\n",
       "<tr>\n",
       "  <th>d_week_1</th>             <td>   -0.4152</td> <td>    0.009</td> <td>  -45.539</td> <td> 0.000</td> <td>   -0.433</td> <td>   -0.397</td>\n",
       "</tr>\n",
       "<tr>\n",
       "  <th>m_yr_1</th>               <td>    0.1990</td> <td>    0.013</td> <td>   15.716</td> <td> 0.000</td> <td>    0.174</td> <td>    0.224</td>\n",
       "</tr>\n",
       "<tr>\n",
       "  <th>m_yr_2</th>               <td>    0.4223</td> <td>    0.012</td> <td>   35.663</td> <td> 0.000</td> <td>    0.399</td> <td>    0.446</td>\n",
       "</tr>\n",
       "<tr>\n",
       "  <th>m_yr_3</th>               <td>    0.2764</td> <td>    0.012</td> <td>   23.346</td> <td> 0.000</td> <td>    0.253</td> <td>    0.300</td>\n",
       "</tr>\n",
       "<tr>\n",
       "  <th>ToD_Morning</th>          <td>   -0.3070</td> <td>    0.015</td> <td>  -20.903</td> <td> 0.000</td> <td>   -0.336</td> <td>   -0.278</td>\n",
       "</tr>\n",
       "<tr>\n",
       "  <th>ToD_Afternoon</th>        <td>    0.5354</td> <td>    0.014</td> <td>   37.520</td> <td> 0.000</td> <td>    0.507</td> <td>    0.563</td>\n",
       "</tr>\n",
       "<tr>\n",
       "  <th>ToD_Evening</th>          <td>    0.3814</td> <td>    0.013</td> <td>   28.454</td> <td> 0.000</td> <td>    0.355</td> <td>    0.408</td>\n",
       "</tr>\n",
       "</table>\n",
       "<table class=\"simpletable\">\n",
       "<tr>\n",
       "  <th>Omnibus:</th>       <td>861094.896</td> <th>  Durbin-Watson:     </th>   <td>   2.001</td>  \n",
       "</tr>\n",
       "<tr>\n",
       "  <th>Prob(Omnibus):</th>   <td> 0.000</td>   <th>  Jarque-Bera (JB):  </th> <td>18750956.504</td>\n",
       "</tr>\n",
       "<tr>\n",
       "  <th>Skew:</th>            <td> 3.167</td>   <th>  Prob(JB):          </th>   <td>    0.00</td>  \n",
       "</tr>\n",
       "<tr>\n",
       "  <th>Kurtosis:</th>        <td>21.143</td>   <th>  Cond. No.          </th>   <td>9.84e+03</td>  \n",
       "</tr>\n",
       "</table>"
      ],
      "text/plain": [
       "<class 'statsmodels.iolib.summary.Summary'>\n",
       "\"\"\"\n",
       "                            OLS Regression Results                            \n",
       "==============================================================================\n",
       "Dep. Variable:                Minutes   R-squared:                       0.779\n",
       "Model:                            OLS   Adj. R-squared:                  0.779\n",
       "Method:                 Least Squares   F-statistic:                 3.300e+05\n",
       "Date:                Mon, 30 Apr 2018   Prob (F-statistic):               0.00\n",
       "Time:                        21:08:17   Log-Likelihood:            -3.4561e+06\n",
       "No. Observations:             1218649   AIC:                         6.912e+06\n",
       "Df Residuals:                 1218635   BIC:                         6.912e+06\n",
       "Df Model:                          13                                         \n",
       "Covariance Type:            nonrobust                                         \n",
       "========================================================================================\n",
       "                           coef    std err          t      P>|t|      [0.025      0.975]\n",
       "----------------------------------------------------------------------------------------\n",
       "const                    4.5138      0.039    116.697      0.000       4.438       4.590\n",
       "Distance                 1.9702      0.018    108.930      0.000       1.935       2.006\n",
       "avg_speed               -0.6151      0.006   -108.900      0.000      -0.626      -0.604\n",
       "avg_duration             0.0130   2.98e-05    434.945      0.000       0.013       0.013\n",
       "User Type_Subscriber     0.5560      0.024     23.334      0.000       0.509       0.603\n",
       "Gender_1                -0.8046      0.022    -35.949      0.000      -0.848      -0.761\n",
       "Gender_2                 0.0939      0.023      4.074      0.000       0.049       0.139\n",
       "d_week_1                -0.4152      0.009    -45.539      0.000      -0.433      -0.397\n",
       "m_yr_1                   0.1990      0.013     15.716      0.000       0.174       0.224\n",
       "m_yr_2                   0.4223      0.012     35.663      0.000       0.399       0.446\n",
       "m_yr_3                   0.2764      0.012     23.346      0.000       0.253       0.300\n",
       "ToD_Morning             -0.3070      0.015    -20.903      0.000      -0.336      -0.278\n",
       "ToD_Afternoon            0.5354      0.014     37.520      0.000       0.507       0.563\n",
       "ToD_Evening              0.3814      0.013     28.454      0.000       0.355       0.408\n",
       "==============================================================================\n",
       "Omnibus:                   861094.896   Durbin-Watson:                   2.001\n",
       "Prob(Omnibus):                  0.000   Jarque-Bera (JB):         18750956.504\n",
       "Skew:                           3.167   Prob(JB):                         0.00\n",
       "Kurtosis:                      21.143   Cond. No.                     9.84e+03\n",
       "==============================================================================\n",
       "\n",
       "Warnings:\n",
       "[1] Standard Errors assume that the covariance matrix of the errors is correctly specified.\n",
       "[2] The condition number is large, 9.84e+03. This might indicate that there are\n",
       "strong multicollinearity or other numerical problems.\n",
       "\"\"\""
      ]
     },
     "execution_count": 75,
     "metadata": {},
     "output_type": "execute_result"
    }
   ],
   "source": [
    "#Using Statsmodel because it has the summary function.\n",
    "import statsmodels.api as sm\n",
    "X_train = sm.add_constant(X_train)\n",
    "X_test = sm.add_constant(X_test)\n",
    "regressor_OLS = sm.OLS(y_train, X_train).fit()\n",
    "regressor_OLS.summary()"
   ]
  },
  {
   "cell_type": "markdown",
   "metadata": {
    "collapsed": true
   },
   "source": [
    "### Part 6.4: Predictive Model - Improving Model 2 \n",
    "Model 2 is VERY VERY good.\n",
    "\n",
    "The model above is extremely good. But can I make it even better?\n",
    "\n",
    "- One of the grading requirements for the project is to include an additional data source. Weather and traffic make the most sense. I could include pedestrian traffic data from citibike's website, however, I don't think it'll be too helpful due to the fact that there are now bikelanes in NYC. I could use weather data as well.\n",
    "    - Concerns with using weather data:\n",
    "        - Weather dictates whether or not a rider will bike, not how long they will bike. For weather to determine\n",
    "        how long one will bike, it would have to dictate where they go. However, since grading deends on my ability\n",
    "        to use external data, I'm going to test this hypothesis. If weather is not a strong indicatior, I will remove\n",
    "        it in the next model. "
   ]
  },
  {
   "cell_type": "code",
   "execution_count": 76,
   "metadata": {
    "collapsed": true
   },
   "outputs": [],
   "source": [
    "#Load and clean weather data from 2017 (Min Temp, Max Temp, Precipitation)\n",
    "df_weather = pd.read_csv('weather2017.csv')\n",
    "df_weather = df_weather.iloc[:,1:5]\n",
    "df_weather['DATE'] = to_datetime(df_weather['DATE'])"
   ]
  },
  {
   "cell_type": "code",
   "execution_count": 77,
   "metadata": {
    "collapsed": true
   },
   "outputs": [],
   "source": [
    "#Following code was used to create get_weather()\n",
    "'''\n",
    "df_model3['DATE'] = to_datetime(df_model3['Start Time'].dt.date)\n",
    "\n",
    "\n",
    "df_w = df_weather\n",
    "df_mod = df_model3    \n",
    "\n",
    "df_w.head()\n",
    "df_mod.dtypes\n",
    "test = df_mod.merge(df_w, on = 'DATE', how = 'left')\n",
    "test.head()\n",
    "\n",
    "df = df_model3.merge(df_weather, on = 'DATE', how = 'left')\n",
    "'''\n",
    "\n",
    "def get_weather(df):\n",
    "    df['DATE'] = to_datetime(df['Start Time'].dt.date)\n",
    "    df = df.merge(df_weather, on = 'DATE', how = 'left')\n",
    "    return df"
   ]
  },
  {
   "cell_type": "code",
   "execution_count": 88,
   "metadata": {
    "collapsed": true
   },
   "outputs": [],
   "source": [
    "#Create dataset to test the model on\n",
    "df_model3 = get_speed_distance(df_sample)\n",
    "df_model3 = drop_data(df_model3)\n",
    "df_model3 = get_date_info(df_model3)\n",
    "df_model3 = get_weather(df_model3)\n",
    "df_model3 = df_model3.drop(['Start Time','Trip','DATE'], axis =1)"
   ]
  },
  {
   "cell_type": "code",
   "execution_count": 89,
   "metadata": {
    "collapsed": true
   },
   "outputs": [],
   "source": [
    "#Dummify categorical data and avoid dummy variable trap\n",
    "df_model3 = pd.get_dummies(df_model3, drop_first = True)\n",
    "\n",
    "#Scale Continuous variables\n",
    "from sklearn.preprocessing import StandardScaler\n",
    "sc_m1 = StandardScaler()\n",
    "df_model3['avg_duration'] = sc_m1.fit_transform(df_model3[['avg_duration']])\n",
    "sc_m2 = StandardScaler()\n",
    "df_model3['TMIN'] = sc_m2.fit_transform(df_model3[['TMIN']])\n",
    "sc_m3 = StandardScaler()\n",
    "df_model3['TMAX'] = sc_m3.fit_transform(df_model3[['TMAX']])\n",
    "sc_m4 = StandardScaler()\n",
    "df_model3['PRCP'] = sc_m4.fit_transform(df_model3[['PRCP']])"
   ]
  },
  {
   "cell_type": "code",
   "execution_count": 90,
   "metadata": {
    "collapsed": true
   },
   "outputs": [],
   "source": [
    "#Train Test Split\n",
    "#Predictor variable\n",
    "X = df_model3.iloc[:,1:]\n",
    "#Target variable\n",
    "y = df_model3.iloc[:,0]\n",
    "#Split\n",
    "#from sklearn.cross_validation import train_test_split\n",
    "X_train, X_test, y_train, y_test = train_test_split(X, y, test_size = 0.2, random_state = 0)"
   ]
  },
  {
   "cell_type": "code",
   "execution_count": 91,
   "metadata": {},
   "outputs": [
    {
     "data": {
      "text/plain": [
       "0.78067586957011936"
      ]
     },
     "execution_count": 91,
     "metadata": {},
     "output_type": "execute_result"
    }
   ],
   "source": [
    "#Fit Linear Regression and check accuracy using sklearn\n",
    "from sklearn.linear_model import LinearRegression\n",
    "regressor = LinearRegression()\n",
    "regressor.fit(X_train, y_train)\n",
    "regressor.score(X_test,y_test)"
   ]
  },
  {
   "cell_type": "code",
   "execution_count": 82,
   "metadata": {},
   "outputs": [
    {
     "data": {
      "text/html": [
       "<table class=\"simpletable\">\n",
       "<caption>OLS Regression Results</caption>\n",
       "<tr>\n",
       "  <th>Dep. Variable:</th>         <td>Minutes</td>     <th>  R-squared:         </th>  <td>   0.779</td>  \n",
       "</tr>\n",
       "<tr>\n",
       "  <th>Model:</th>                   <td>OLS</td>       <th>  Adj. R-squared:    </th>  <td>   0.779</td>  \n",
       "</tr>\n",
       "<tr>\n",
       "  <th>Method:</th>             <td>Least Squares</td>  <th>  F-statistic:       </th>  <td>2.684e+05</td> \n",
       "</tr>\n",
       "<tr>\n",
       "  <th>Date:</th>             <td>Mon, 30 Apr 2018</td> <th>  Prob (F-statistic):</th>   <td>  0.00</td>   \n",
       "</tr>\n",
       "<tr>\n",
       "  <th>Time:</th>                 <td>21:22:21</td>     <th>  Log-Likelihood:    </th> <td>-3.4556e+06</td>\n",
       "</tr>\n",
       "<tr>\n",
       "  <th>No. Observations:</th>      <td>1218649</td>     <th>  AIC:               </th>  <td>6.911e+06</td> \n",
       "</tr>\n",
       "<tr>\n",
       "  <th>Df Residuals:</th>          <td>1218632</td>     <th>  BIC:               </th>  <td>6.911e+06</td> \n",
       "</tr>\n",
       "<tr>\n",
       "  <th>Df Model:</th>              <td>    16</td>      <th>                     </th>      <td> </td>     \n",
       "</tr>\n",
       "<tr>\n",
       "  <th>Covariance Type:</th>      <td>nonrobust</td>    <th>                     </th>      <td> </td>     \n",
       "</tr>\n",
       "</table>\n",
       "<table class=\"simpletable\">\n",
       "<tr>\n",
       "            <td></td>              <th>coef</th>     <th>std err</th>      <th>t</th>      <th>P>|t|</th>  <th>[0.025</th>    <th>0.975]</th>  \n",
       "</tr>\n",
       "<tr>\n",
       "  <th>const</th>                <td>   14.0872</td> <td>    0.027</td> <td>  525.791</td> <td> 0.000</td> <td>   14.035</td> <td>   14.140</td>\n",
       "</tr>\n",
       "<tr>\n",
       "  <th>Distance</th>             <td>    1.9664</td> <td>    0.018</td> <td>  108.762</td> <td> 0.000</td> <td>    1.931</td> <td>    2.002</td>\n",
       "</tr>\n",
       "<tr>\n",
       "  <th>avg_speed</th>            <td>   -0.6139</td> <td>    0.006</td> <td> -108.738</td> <td> 0.000</td> <td>   -0.625</td> <td>   -0.603</td>\n",
       "</tr>\n",
       "<tr>\n",
       "  <th>avg_duration</th>         <td>    6.2075</td> <td>    0.014</td> <td>  434.916</td> <td> 0.000</td> <td>    6.180</td> <td>    6.235</td>\n",
       "</tr>\n",
       "<tr>\n",
       "  <th>PRCP</th>                 <td>   -0.0237</td> <td>    0.004</td> <td>   -6.156</td> <td> 0.000</td> <td>   -0.031</td> <td>   -0.016</td>\n",
       "</tr>\n",
       "<tr>\n",
       "  <th>TMAX</th>                 <td>    0.1909</td> <td>    0.012</td> <td>   15.493</td> <td> 0.000</td> <td>    0.167</td> <td>    0.215</td>\n",
       "</tr>\n",
       "<tr>\n",
       "  <th>TMIN</th>                 <td>   -0.0168</td> <td>    0.013</td> <td>   -1.342</td> <td> 0.179</td> <td>   -0.041</td> <td>    0.008</td>\n",
       "</tr>\n",
       "<tr>\n",
       "  <th>User Type_Subscriber</th> <td>    0.5770</td> <td>    0.024</td> <td>   24.216</td> <td> 0.000</td> <td>    0.530</td> <td>    0.624</td>\n",
       "</tr>\n",
       "<tr>\n",
       "  <th>Gender_1</th>             <td>   -0.8018</td> <td>    0.022</td> <td>  -35.838</td> <td> 0.000</td> <td>   -0.846</td> <td>   -0.758</td>\n",
       "</tr>\n",
       "<tr>\n",
       "  <th>Gender_2</th>             <td>    0.0920</td> <td>    0.023</td> <td>    3.991</td> <td> 0.000</td> <td>    0.047</td> <td>    0.137</td>\n",
       "</tr>\n",
       "<tr>\n",
       "  <th>d_week_1</th>             <td>   -0.4223</td> <td>    0.009</td> <td>  -46.303</td> <td> 0.000</td> <td>   -0.440</td> <td>   -0.404</td>\n",
       "</tr>\n",
       "<tr>\n",
       "  <th>m_yr_1</th>               <td>   -0.0082</td> <td>    0.014</td> <td>   -0.575</td> <td> 0.565</td> <td>   -0.036</td> <td>    0.020</td>\n",
       "</tr>\n",
       "<tr>\n",
       "  <th>m_yr_2</th>               <td>    0.0314</td> <td>    0.018</td> <td>    1.780</td> <td> 0.075</td> <td>   -0.003</td> <td>    0.066</td>\n",
       "</tr>\n",
       "<tr>\n",
       "  <th>m_yr_3</th>               <td>    0.0127</td> <td>    0.015</td> <td>    0.878</td> <td> 0.380</td> <td>   -0.016</td> <td>    0.041</td>\n",
       "</tr>\n",
       "<tr>\n",
       "  <th>ToD_Morning</th>          <td>   -0.3019</td> <td>    0.015</td> <td>  -20.559</td> <td> 0.000</td> <td>   -0.331</td> <td>   -0.273</td>\n",
       "</tr>\n",
       "<tr>\n",
       "  <th>ToD_Afternoon</th>        <td>    0.5387</td> <td>    0.014</td> <td>   37.755</td> <td> 0.000</td> <td>    0.511</td> <td>    0.567</td>\n",
       "</tr>\n",
       "<tr>\n",
       "  <th>ToD_Evening</th>          <td>    0.3825</td> <td>    0.013</td> <td>   28.543</td> <td> 0.000</td> <td>    0.356</td> <td>    0.409</td>\n",
       "</tr>\n",
       "</table>\n",
       "<table class=\"simpletable\">\n",
       "<tr>\n",
       "  <th>Omnibus:</th>       <td>860711.056</td> <th>  Durbin-Watson:     </th>   <td>   2.001</td>  \n",
       "</tr>\n",
       "<tr>\n",
       "  <th>Prob(Omnibus):</th>   <td> 0.000</td>   <th>  Jarque-Bera (JB):  </th> <td>18739359.181</td>\n",
       "</tr>\n",
       "<tr>\n",
       "  <th>Skew:</th>            <td> 3.165</td>   <th>  Prob(JB):          </th>   <td>    0.00</td>  \n",
       "</tr>\n",
       "<tr>\n",
       "  <th>Kurtosis:</th>        <td>21.138</td>   <th>  Cond. No.          </th>   <td>    62.5</td>  \n",
       "</tr>\n",
       "</table>"
      ],
      "text/plain": [
       "<class 'statsmodels.iolib.summary.Summary'>\n",
       "\"\"\"\n",
       "                            OLS Regression Results                            \n",
       "==============================================================================\n",
       "Dep. Variable:                Minutes   R-squared:                       0.779\n",
       "Model:                            OLS   Adj. R-squared:                  0.779\n",
       "Method:                 Least Squares   F-statistic:                 2.684e+05\n",
       "Date:                Mon, 30 Apr 2018   Prob (F-statistic):               0.00\n",
       "Time:                        21:22:21   Log-Likelihood:            -3.4556e+06\n",
       "No. Observations:             1218649   AIC:                         6.911e+06\n",
       "Df Residuals:                 1218632   BIC:                         6.911e+06\n",
       "Df Model:                          16                                         \n",
       "Covariance Type:            nonrobust                                         \n",
       "========================================================================================\n",
       "                           coef    std err          t      P>|t|      [0.025      0.975]\n",
       "----------------------------------------------------------------------------------------\n",
       "const                   14.0872      0.027    525.791      0.000      14.035      14.140\n",
       "Distance                 1.9664      0.018    108.762      0.000       1.931       2.002\n",
       "avg_speed               -0.6139      0.006   -108.738      0.000      -0.625      -0.603\n",
       "avg_duration             6.2075      0.014    434.916      0.000       6.180       6.235\n",
       "PRCP                    -0.0237      0.004     -6.156      0.000      -0.031      -0.016\n",
       "TMAX                     0.1909      0.012     15.493      0.000       0.167       0.215\n",
       "TMIN                    -0.0168      0.013     -1.342      0.179      -0.041       0.008\n",
       "User Type_Subscriber     0.5770      0.024     24.216      0.000       0.530       0.624\n",
       "Gender_1                -0.8018      0.022    -35.838      0.000      -0.846      -0.758\n",
       "Gender_2                 0.0920      0.023      3.991      0.000       0.047       0.137\n",
       "d_week_1                -0.4223      0.009    -46.303      0.000      -0.440      -0.404\n",
       "m_yr_1                  -0.0082      0.014     -0.575      0.565      -0.036       0.020\n",
       "m_yr_2                   0.0314      0.018      1.780      0.075      -0.003       0.066\n",
       "m_yr_3                   0.0127      0.015      0.878      0.380      -0.016       0.041\n",
       "ToD_Morning             -0.3019      0.015    -20.559      0.000      -0.331      -0.273\n",
       "ToD_Afternoon            0.5387      0.014     37.755      0.000       0.511       0.567\n",
       "ToD_Evening              0.3825      0.013     28.543      0.000       0.356       0.409\n",
       "==============================================================================\n",
       "Omnibus:                   860711.056   Durbin-Watson:                   2.001\n",
       "Prob(Omnibus):                  0.000   Jarque-Bera (JB):         18739359.181\n",
       "Skew:                           3.165   Prob(JB):                         0.00\n",
       "Kurtosis:                      21.138   Cond. No.                         62.5\n",
       "==============================================================================\n",
       "\n",
       "Warnings:\n",
       "[1] Standard Errors assume that the covariance matrix of the errors is correctly specified.\n",
       "\"\"\""
      ]
     },
     "execution_count": 82,
     "metadata": {},
     "output_type": "execute_result"
    }
   ],
   "source": [
    "#Using Statsmodel because it has the summary function.\n",
    "import statsmodels.api as sm\n",
    "X_train = sm.add_constant(X_train)\n",
    "X_test = sm.add_constant(X_test)\n",
    "regressor_OLS = sm.OLS(y_train, X_train).fit()\n",
    "regressor_OLS.summary()"
   ]
  },
  {
   "cell_type": "code",
   "execution_count": 92,
   "metadata": {},
   "outputs": [
    {
     "name": "stdout",
     "output_type": "stream",
     "text": [
      "CV accuracy: 0.779 +/- 0.003\n"
     ]
    }
   ],
   "source": [
    "#Ensure model accuracy with cross validation\n",
    "from sklearn.model_selection import cross_val_score\n",
    "scores = cross_val_score(regressor, X_train, y_train, cv=10)\n",
    "print('CV accuracy: %.3f +/- %.3f' % (np.mean(scores), np.std(scores)))"
   ]
  },
  {
   "cell_type": "markdown",
   "metadata": {},
   "source": [
    "- Removing unnecessary variables based on correlation: ToD, m_yr, PRCP, TMAX,TMIN"
   ]
  },
  {
   "cell_type": "code",
   "execution_count": 93,
   "metadata": {},
   "outputs": [],
   "source": [
    "#Create dataset to test the model on\n",
    "df_model4 = get_speed_distance(df_sample)\n",
    "df_model4 = drop_data(df_model4)\n",
    "df_model4 = get_date_info(df_model4)\n",
    "df_model4 = get_weather(df_model4)\n",
    "df_model4 = df_model4.drop(['Start Time','Trip','DATE','PRCP','TMAX','TMIN'], axis =1)"
   ]
  },
  {
   "cell_type": "code",
   "execution_count": 86,
   "metadata": {},
   "outputs": [],
   "source": [
    "#Dummify categorical data and avoid dummy variable trap\n",
    "df_model4 = pd.get_dummies(df_model4, drop_first = True)\n",
    "\n",
    "#Scale Continuous variables\n",
    "from sklearn.preprocessing import StandardScaler\n",
    "sc_m1 = StandardScaler()\n",
    "df_model4['avg_duration'] = sc_m1.fit_transform(df_model4[['avg_duration']])"
   ]
  },
  {
   "cell_type": "code",
   "execution_count": 87,
   "metadata": {
    "collapsed": true
   },
   "outputs": [],
   "source": [
    "#Train Test Split\n",
    "#Predictor variable\n",
    "X = df_model4.iloc[:,1:]\n",
    "#Target variable\n",
    "y = df_model4.iloc[:,0]\n",
    "#Split\n",
    "#from sklearn.cross_validation import train_test_split\n",
    "X_train, X_test, y_train, y_test = train_test_split(X, y, test_size = 0.2, random_state = 0)"
   ]
  },
  {
   "cell_type": "code",
   "execution_count": 94,
   "metadata": {},
   "outputs": [
    {
     "data": {
      "text/plain": [
       "0.78067586957011936"
      ]
     },
     "execution_count": 94,
     "metadata": {},
     "output_type": "execute_result"
    }
   ],
   "source": [
    "#Fit Linear Regression and check accuracy using sklearn\n",
    "from sklearn.linear_model import LinearRegression\n",
    "regressor = LinearRegression()\n",
    "regressor.fit(X_train, y_train)\n",
    "regressor.score(X_test,y_test)"
   ]
  },
  {
   "cell_type": "markdown",
   "metadata": {},
   "source": [
    "#### Assesing the viability of a different model such as RandomForest"
   ]
  },
  {
   "cell_type": "code",
   "execution_count": 95,
   "metadata": {},
   "outputs": [
    {
     "data": {
      "text/plain": [
       "0.78091143643064764"
      ]
     },
     "execution_count": 95,
     "metadata": {},
     "output_type": "execute_result"
    }
   ],
   "source": [
    "#Ensemble algorithm, to see if there's a drastic difference, n_est. and min_samples_leaf determined after testing\n",
    "from sklearn.ensemble import RandomForestRegressor\n",
    "\n",
    "regressor_rf = RandomForestRegressor(n_estimators = 80, random_state = 0, min_samples_leaf = 600)\n",
    "regressor_rf.fit(X_train,y_train)\n",
    "regressor_rf.score(X_test,y_test)"
   ]
  },
  {
   "cell_type": "markdown",
   "metadata": {},
   "source": [
    "### Part 6.5: Predictive Model - Final Model\n",
    "- As I thought, weather is not a major contributor to the model. Thus, I'll be taking out weather. Additionally, I'll be taking out date attributes as mentioned earlier. \n",
    "    1. The ensemble algorithm, Random Forest takes much longer to run (even with a low n_estimators). If the run\n",
    "    time is 5 minutes on ~1.5 million rows, I don't want to take the risk on ~15 million rows of data. \n",
    "    2. I could've used XGboost and other fancy algorithms, however, for a dataset of this size, it would take too\n",
    "    long to run and the gains wouldn't be worth it if there are any. \n",
    "    3. Final Model:\n",
    "        - Linear Regression:\n",
    "            - Predictors: Distance, Gender, Average Duration based on Trip and Gender, User Type"
   ]
  },
  {
   "cell_type": "code",
   "execution_count": 96,
   "metadata": {
    "collapsed": true
   },
   "outputs": [],
   "source": [
    "def prep_data(df):\n",
    "    df = get_speed_distance(df)\n",
    "    df = drop_data(df)\n",
    "    df = get_date_info(df)\n",
    "    df = df.drop(['Start Time','Trip'], axis =1)\n",
    "    return df\n",
    "\n",
    "df_final = prep_data(df)"
   ]
  },
  {
   "cell_type": "code",
   "execution_count": 97,
   "metadata": {
    "collapsed": true
   },
   "outputs": [],
   "source": [
    "#Dummify categorical data and avoid dummy variable trap\n",
    "df_final = pd.get_dummies(df_final, drop_first = True)\n",
    "\n",
    "#Scale Continuous variables\n",
    "from sklearn.preprocessing import StandardScaler\n",
    "sc_m1 = StandardScaler()\n",
    "df_final['avg_duration'] = sc_m1.fit_transform(df_final[['avg_duration']])\n",
    "sc_m1 = StandardScaler()\n",
    "df_final['avg_speed'] = sc_m1.fit_transform(df_final[['avg_speed']])"
   ]
  },
  {
   "cell_type": "code",
   "execution_count": 98,
   "metadata": {
    "collapsed": true
   },
   "outputs": [],
   "source": [
    "#Train Test Split\n",
    "#Predictor variable\n",
    "X = df_final.iloc[:,1:]\n",
    "#Target variable\n",
    "y = df_final.iloc[:,0]\n",
    "#Split\n",
    "#from sklearn.cross_validation import train_test_split\n",
    "X_train, X_test, y_train, y_test = train_test_split(X, y, test_size = 0.2, random_state = 0)"
   ]
  },
  {
   "cell_type": "code",
   "execution_count": 99,
   "metadata": {},
   "outputs": [
    {
     "data": {
      "text/plain": [
       "0.74655851357768666"
      ]
     },
     "execution_count": 99,
     "metadata": {},
     "output_type": "execute_result"
    }
   ],
   "source": [
    "#Fit Linear Regression and check accuracy using sklearn\n",
    "from sklearn.linear_model import LinearRegression\n",
    "regressor = LinearRegression()\n",
    "regressor.fit(X_train, y_train)\n",
    "regressor.score(X_test,y_test)"
   ]
  },
  {
   "cell_type": "code",
   "execution_count": 100,
   "metadata": {},
   "outputs": [
    {
     "data": {
      "text/html": [
       "<table class=\"simpletable\">\n",
       "<caption>OLS Regression Results</caption>\n",
       "<tr>\n",
       "  <th>Dep. Variable:</th>         <td>Minutes</td>     <th>  R-squared:         </th>  <td>   0.746</td>  \n",
       "</tr>\n",
       "<tr>\n",
       "  <th>Model:</th>                   <td>OLS</td>       <th>  Adj. R-squared:    </th>  <td>   0.746</td>  \n",
       "</tr>\n",
       "<tr>\n",
       "  <th>Method:</th>             <td>Least Squares</td>  <th>  F-statistic:       </th>  <td>2.759e+06</td> \n",
       "</tr>\n",
       "<tr>\n",
       "  <th>Date:</th>             <td>Mon, 30 Apr 2018</td> <th>  Prob (F-statistic):</th>   <td>  0.00</td>   \n",
       "</tr>\n",
       "<tr>\n",
       "  <th>Time:</th>                 <td>21:51:11</td>     <th>  Log-Likelihood:    </th> <td>-3.5390e+07</td>\n",
       "</tr>\n",
       "<tr>\n",
       "  <th>No. Observations:</th>     <td>12186496</td>     <th>  AIC:               </th>  <td>7.078e+07</td> \n",
       "</tr>\n",
       "<tr>\n",
       "  <th>Df Residuals:</th>         <td>12186482</td>     <th>  BIC:               </th>  <td>7.078e+07</td> \n",
       "</tr>\n",
       "<tr>\n",
       "  <th>Df Model:</th>              <td>    13</td>      <th>                     </th>      <td> </td>     \n",
       "</tr>\n",
       "<tr>\n",
       "  <th>Covariance Type:</th>      <td>nonrobust</td>    <th>                     </th>      <td> </td>     \n",
       "</tr>\n",
       "</table>\n",
       "<table class=\"simpletable\">\n",
       "<tr>\n",
       "            <td></td>              <th>coef</th>     <th>std err</th>      <th>t</th>      <th>P>|t|</th>  <th>[0.025</th>    <th>0.975]</th>  \n",
       "</tr>\n",
       "<tr>\n",
       "  <th>const</th>                <td>   10.4935</td> <td>    0.010</td> <td> 1064.468</td> <td> 0.000</td> <td>   10.474</td> <td>   10.513</td>\n",
       "</tr>\n",
       "<tr>\n",
       "  <th>Distance</th>             <td>    2.0649</td> <td>    0.007</td> <td>  303.958</td> <td> 0.000</td> <td>    2.052</td> <td>    2.078</td>\n",
       "</tr>\n",
       "<tr>\n",
       "  <th>avg_speed</th>            <td>   -0.7188</td> <td>    0.002</td> <td> -290.085</td> <td> 0.000</td> <td>   -0.724</td> <td>   -0.714</td>\n",
       "</tr>\n",
       "<tr>\n",
       "  <th>avg_duration</th>         <td>    5.9537</td> <td>    0.005</td> <td> 1114.195</td> <td> 0.000</td> <td>    5.943</td> <td>    5.964</td>\n",
       "</tr>\n",
       "<tr>\n",
       "  <th>User Type_Subscriber</th> <td>    0.3573</td> <td>    0.008</td> <td>   43.430</td> <td> 0.000</td> <td>    0.341</td> <td>    0.373</td>\n",
       "</tr>\n",
       "<tr>\n",
       "  <th>Gender_1</th>             <td>   -0.9482</td> <td>    0.008</td> <td> -125.820</td> <td> 0.000</td> <td>   -0.963</td> <td>   -0.933</td>\n",
       "</tr>\n",
       "<tr>\n",
       "  <th>Gender_2</th>             <td>    0.1059</td> <td>    0.008</td> <td>   13.638</td> <td> 0.000</td> <td>    0.091</td> <td>    0.121</td>\n",
       "</tr>\n",
       "<tr>\n",
       "  <th>d_week_1</th>             <td>   -0.4921</td> <td>    0.003</td> <td> -159.618</td> <td> 0.000</td> <td>   -0.498</td> <td>   -0.486</td>\n",
       "</tr>\n",
       "<tr>\n",
       "  <th>m_yr_1</th>               <td>    0.2068</td> <td>    0.004</td> <td>   48.282</td> <td> 0.000</td> <td>    0.198</td> <td>    0.215</td>\n",
       "</tr>\n",
       "<tr>\n",
       "  <th>m_yr_2</th>               <td>    0.4467</td> <td>    0.004</td> <td>  111.499</td> <td> 0.000</td> <td>    0.439</td> <td>    0.455</td>\n",
       "</tr>\n",
       "<tr>\n",
       "  <th>m_yr_3</th>               <td>    0.3197</td> <td>    0.004</td> <td>   79.778</td> <td> 0.000</td> <td>    0.312</td> <td>    0.328</td>\n",
       "</tr>\n",
       "<tr>\n",
       "  <th>ToD_Morning</th>          <td>   -0.3504</td> <td>    0.005</td> <td>  -70.492</td> <td> 0.000</td> <td>   -0.360</td> <td>   -0.341</td>\n",
       "</tr>\n",
       "<tr>\n",
       "  <th>ToD_Afternoon</th>        <td>    0.6085</td> <td>    0.005</td> <td>  125.987</td> <td> 0.000</td> <td>    0.599</td> <td>    0.618</td>\n",
       "</tr>\n",
       "<tr>\n",
       "  <th>ToD_Evening</th>          <td>    0.4405</td> <td>    0.005</td> <td>   97.106</td> <td> 0.000</td> <td>    0.432</td> <td>    0.449</td>\n",
       "</tr>\n",
       "</table>\n",
       "<table class=\"simpletable\">\n",
       "<tr>\n",
       "  <th>Omnibus:</th>       <td>7876311.598</td> <th>  Durbin-Watson:     </th>   <td>   2.000</td>   \n",
       "</tr>\n",
       "<tr>\n",
       "  <th>Prob(Omnibus):</th>   <td> 0.000</td>    <th>  Jarque-Bera (JB):  </th> <td>127622886.254</td>\n",
       "</tr>\n",
       "<tr>\n",
       "  <th>Skew:</th>            <td> 2.891</td>    <th>  Prob(JB):          </th>   <td>    0.00</td>   \n",
       "</tr>\n",
       "<tr>\n",
       "  <th>Kurtosis:</th>        <td>17.762</td>    <th>  Cond. No.          </th>   <td>    22.8</td>   \n",
       "</tr>\n",
       "</table>"
      ],
      "text/plain": [
       "<class 'statsmodels.iolib.summary.Summary'>\n",
       "\"\"\"\n",
       "                            OLS Regression Results                            \n",
       "==============================================================================\n",
       "Dep. Variable:                Minutes   R-squared:                       0.746\n",
       "Model:                            OLS   Adj. R-squared:                  0.746\n",
       "Method:                 Least Squares   F-statistic:                 2.759e+06\n",
       "Date:                Mon, 30 Apr 2018   Prob (F-statistic):               0.00\n",
       "Time:                        21:51:11   Log-Likelihood:            -3.5390e+07\n",
       "No. Observations:            12186496   AIC:                         7.078e+07\n",
       "Df Residuals:                12186482   BIC:                         7.078e+07\n",
       "Df Model:                          13                                         \n",
       "Covariance Type:            nonrobust                                         \n",
       "========================================================================================\n",
       "                           coef    std err          t      P>|t|      [0.025      0.975]\n",
       "----------------------------------------------------------------------------------------\n",
       "const                   10.4935      0.010   1064.468      0.000      10.474      10.513\n",
       "Distance                 2.0649      0.007    303.958      0.000       2.052       2.078\n",
       "avg_speed               -0.7188      0.002   -290.085      0.000      -0.724      -0.714\n",
       "avg_duration             5.9537      0.005   1114.195      0.000       5.943       5.964\n",
       "User Type_Subscriber     0.3573      0.008     43.430      0.000       0.341       0.373\n",
       "Gender_1                -0.9482      0.008   -125.820      0.000      -0.963      -0.933\n",
       "Gender_2                 0.1059      0.008     13.638      0.000       0.091       0.121\n",
       "d_week_1                -0.4921      0.003   -159.618      0.000      -0.498      -0.486\n",
       "m_yr_1                   0.2068      0.004     48.282      0.000       0.198       0.215\n",
       "m_yr_2                   0.4467      0.004    111.499      0.000       0.439       0.455\n",
       "m_yr_3                   0.3197      0.004     79.778      0.000       0.312       0.328\n",
       "ToD_Morning             -0.3504      0.005    -70.492      0.000      -0.360      -0.341\n",
       "ToD_Afternoon            0.6085      0.005    125.987      0.000       0.599       0.618\n",
       "ToD_Evening              0.4405      0.005     97.106      0.000       0.432       0.449\n",
       "==============================================================================\n",
       "Omnibus:                  7876311.598   Durbin-Watson:                   2.000\n",
       "Prob(Omnibus):                  0.000   Jarque-Bera (JB):        127622886.254\n",
       "Skew:                           2.891   Prob(JB):                         0.00\n",
       "Kurtosis:                      17.762   Cond. No.                         22.8\n",
       "==============================================================================\n",
       "\n",
       "Warnings:\n",
       "[1] Standard Errors assume that the covariance matrix of the errors is correctly specified.\n",
       "\"\"\""
      ]
     },
     "execution_count": 100,
     "metadata": {},
     "output_type": "execute_result"
    }
   ],
   "source": [
    "#Using Statsmodel because it has the summary function.\n",
    "import statsmodels.api as sm\n",
    "X_train = sm.add_constant(X_train)\n",
    "X_test = sm.add_constant(X_test)\n",
    "regressor_OLS = sm.OLS(y_train, X_train).fit()\n",
    "regressor_OLS.summary()"
   ]
  },
  {
   "cell_type": "code",
   "execution_count": 101,
   "metadata": {},
   "outputs": [
    {
     "name": "stdout",
     "output_type": "stream",
     "text": [
      "CV accuracy: 0.746 +/- 0.000\n"
     ]
    }
   ],
   "source": [
    "#Ensure model accuracy with cross validation\n",
    "from sklearn.model_selection import cross_val_score\n",
    "scores = cross_val_score(regressor, X_train, y_train, cv=5)\n",
    "print('CV accuracy: %.3f +/- %.3f' % (np.mean(scores), np.std(scores)))"
   ]
  }
 ],
 "metadata": {
  "kernelspec": {
   "display_name": "Python 3",
   "language": "python",
   "name": "python3"
  },
  "language_info": {
   "codemirror_mode": {
    "name": "ipython",
    "version": 3
   },
   "file_extension": ".py",
   "mimetype": "text/x-python",
   "name": "python",
   "nbconvert_exporter": "python",
   "pygments_lexer": "ipython3",
   "version": "3.6.3"
  }
 },
 "nbformat": 4,
 "nbformat_minor": 2
}
